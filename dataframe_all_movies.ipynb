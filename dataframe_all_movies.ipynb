{
 "cells": [
  {
   "cell_type": "code",
   "execution_count": 1,
   "metadata": {},
   "outputs": [],
   "source": [
    "import numpy as np\n",
    "import pandas as pd"
   ]
  },
  {
   "cell_type": "code",
   "execution_count": 2,
   "metadata": {},
   "outputs": [],
   "source": [
    "df_hbo = pd.read_csv('hbo.csv')\n",
    "df_claro = pd.read_csv('claro.csv')\n",
    "df_sony = pd.read_csv('sony.csv')\n",
    "df_netflix = pd.read_csv('netflix.csv')\n",
    "df_flow = pd.read_csv('flow.csv')\n",
    "df_amazon = pd.read_csv('amazon.csv')\n",
    "df_on_video = pd.read_csv('on_video.csv')\n",
    "df_fox = pd.read_csv('fox.csv')"
   ]
  },
  {
   "cell_type": "code",
   "execution_count": 3,
   "metadata": {},
   "outputs": [
    {
     "data": {
      "text/html": [
       "<div>\n",
       "<style scoped>\n",
       "    .dataframe tbody tr th:only-of-type {\n",
       "        vertical-align: middle;\n",
       "    }\n",
       "\n",
       "    .dataframe tbody tr th {\n",
       "        vertical-align: top;\n",
       "    }\n",
       "\n",
       "    .dataframe thead th {\n",
       "        text-align: right;\n",
       "    }\n",
       "</style>\n",
       "<table border=\"1\" class=\"dataframe\">\n",
       "  <thead>\n",
       "    <tr style=\"text-align: right;\">\n",
       "      <th></th>\n",
       "      <th>Unnamed: 0</th>\n",
       "      <th>Unnamed: 0.1</th>\n",
       "      <th>id</th>\n",
       "      <th>title</th>\n",
       "      <th>title_original</th>\n",
       "      <th>genres</th>\n",
       "      <th>director</th>\n",
       "      <th>keywords</th>\n",
       "      <th>cast</th>\n",
       "      <th>genre_empty</th>\n",
       "    </tr>\n",
       "  </thead>\n",
       "  <tbody>\n",
       "    <tr>\n",
       "      <th>0</th>\n",
       "      <td>0</td>\n",
       "      <td>0</td>\n",
       "      <td>1183</td>\n",
       "      <td>2 Fast 2 Furious: A todo gas 2</td>\n",
       "      <td>2 Fast 2 Furious</td>\n",
       "      <td>['Acción', 'Crimen', 'Suspense']</td>\n",
       "      <td>['John Singleton']</td>\n",
       "      <td>['miami', 'car race', 'sports car', 'los angel...</td>\n",
       "      <td>['Paul Walker', 'Tyrese Gibson', 'Eva Mendes',...</td>\n",
       "      <td>32</td>\n",
       "    </tr>\n",
       "    <tr>\n",
       "      <th>1</th>\n",
       "      <td>2</td>\n",
       "      <td>2</td>\n",
       "      <td>1457</td>\n",
       "      <td>21 gramos</td>\n",
       "      <td>21 Grams</td>\n",
       "      <td>['Drama', 'Crimen', 'Suspense']</td>\n",
       "      <td>['Alejandro González Iñárritu']</td>\n",
       "      <td>['life and death', 'loss of loved one', 'trans...</td>\n",
       "      <td>['Sean Penn', 'Naomi Watts', 'Benicio del Toro...</td>\n",
       "      <td>31</td>\n",
       "    </tr>\n",
       "  </tbody>\n",
       "</table>\n",
       "</div>"
      ],
      "text/plain": [
       "   Unnamed: 0  Unnamed: 0.1    id                           title  \\\n",
       "0           0             0  1183  2 Fast 2 Furious: A todo gas 2   \n",
       "1           2             2  1457                       21 gramos   \n",
       "\n",
       "     title_original                            genres  \\\n",
       "0  2 Fast 2 Furious  ['Acción', 'Crimen', 'Suspense']   \n",
       "1          21 Grams   ['Drama', 'Crimen', 'Suspense']   \n",
       "\n",
       "                          director  \\\n",
       "0               ['John Singleton']   \n",
       "1  ['Alejandro González Iñárritu']   \n",
       "\n",
       "                                            keywords  \\\n",
       "0  ['miami', 'car race', 'sports car', 'los angel...   \n",
       "1  ['life and death', 'loss of loved one', 'trans...   \n",
       "\n",
       "                                                cast  genre_empty  \n",
       "0  ['Paul Walker', 'Tyrese Gibson', 'Eva Mendes',...           32  \n",
       "1  ['Sean Penn', 'Naomi Watts', 'Benicio del Toro...           31  "
      ]
     },
     "execution_count": 3,
     "metadata": {},
     "output_type": "execute_result"
    }
   ],
   "source": [
    "df_hbo.head(2)"
   ]
  },
  {
   "cell_type": "code",
   "execution_count": 4,
   "metadata": {},
   "outputs": [
    {
     "data": {
      "text/html": [
       "<div>\n",
       "<style scoped>\n",
       "    .dataframe tbody tr th:only-of-type {\n",
       "        vertical-align: middle;\n",
       "    }\n",
       "\n",
       "    .dataframe tbody tr th {\n",
       "        vertical-align: top;\n",
       "    }\n",
       "\n",
       "    .dataframe thead th {\n",
       "        text-align: right;\n",
       "    }\n",
       "</style>\n",
       "<table border=\"1\" class=\"dataframe\">\n",
       "  <thead>\n",
       "    <tr style=\"text-align: right;\">\n",
       "      <th></th>\n",
       "      <th>Unnamed: 0</th>\n",
       "      <th>Unnamed: 0.1</th>\n",
       "      <th>id</th>\n",
       "      <th>title</th>\n",
       "      <th>title_original</th>\n",
       "      <th>genres</th>\n",
       "      <th>director</th>\n",
       "      <th>keywords</th>\n",
       "      <th>cast</th>\n",
       "      <th>genre_empty</th>\n",
       "    </tr>\n",
       "  </thead>\n",
       "  <tbody>\n",
       "    <tr>\n",
       "      <th>0</th>\n",
       "      <td>0</td>\n",
       "      <td>0</td>\n",
       "      <td>44</td>\n",
       "      <td>500 dias juntos</td>\n",
       "      <td>(500) Days of Summer</td>\n",
       "      <td>['Comedia', 'Drama', 'Romance']</td>\n",
       "      <td>['Marc Webb']</td>\n",
       "      <td>['date', 'jealousy', 'fight', 'architect', 'ga...</td>\n",
       "      <td>['Joseph Gordon-Levitt', 'Zooey Deschanel', 'C...</td>\n",
       "      <td>31</td>\n",
       "    </tr>\n",
       "    <tr>\n",
       "      <th>1</th>\n",
       "      <td>2</td>\n",
       "      <td>2</td>\n",
       "      <td>49</td>\n",
       "      <td>Nuestros maravillosos aliados</td>\n",
       "      <td>*batteries not included</td>\n",
       "      <td>['Comedia', 'Familia', 'Fantasía', 'Ciencia fi...</td>\n",
       "      <td>['Matthew Robbins']</td>\n",
       "      <td>['extraterrestrial technology', 'alien life-fo...</td>\n",
       "      <td>['Hume Cronyn', 'Jessica Tandy', 'Frank McRae'...</td>\n",
       "      <td>53</td>\n",
       "    </tr>\n",
       "  </tbody>\n",
       "</table>\n",
       "</div>"
      ],
      "text/plain": [
       "   Unnamed: 0  Unnamed: 0.1  id                          title  \\\n",
       "0           0             0  44                500 dias juntos   \n",
       "1           2             2  49  Nuestros maravillosos aliados   \n",
       "\n",
       "            title_original                                             genres  \\\n",
       "0     (500) Days of Summer                    ['Comedia', 'Drama', 'Romance']   \n",
       "1  *batteries not included  ['Comedia', 'Familia', 'Fantasía', 'Ciencia fi...   \n",
       "\n",
       "              director                                           keywords  \\\n",
       "0        ['Marc Webb']  ['date', 'jealousy', 'fight', 'architect', 'ga...   \n",
       "1  ['Matthew Robbins']  ['extraterrestrial technology', 'alien life-fo...   \n",
       "\n",
       "                                                cast  genre_empty  \n",
       "0  ['Joseph Gordon-Levitt', 'Zooey Deschanel', 'C...           31  \n",
       "1  ['Hume Cronyn', 'Jessica Tandy', 'Frank McRae'...           53  "
      ]
     },
     "execution_count": 4,
     "metadata": {},
     "output_type": "execute_result"
    }
   ],
   "source": [
    "df_claro.head(2)"
   ]
  },
  {
   "cell_type": "code",
   "execution_count": 5,
   "metadata": {},
   "outputs": [
    {
     "name": "stdout",
     "output_type": "stream",
     "text": [
      "140\n",
      "1758\n",
      "774\n",
      "1611\n",
      "374\n",
      "314\n",
      "56\n",
      "241\n"
     ]
    }
   ],
   "source": [
    "print(len(df_hbo.index))\n",
    "print(len(df_claro.index))\n",
    "print(len(df_amazon.index))\n",
    "print(len(df_netflix.index))\n",
    "print(len(df_flow.index))\n",
    "print(len(df_on_video.index))\n",
    "print(len(df_sony.index))\n",
    "print(len(df_fox.index))"
   ]
  },
  {
   "cell_type": "code",
   "execution_count": 6,
   "metadata": {},
   "outputs": [],
   "source": [
    "# ===> Unimos los diferentes dataframes\n",
    "\n",
    "frames = [df_hbo, df_claro, df_amazon, df_netflix, df_flow, df_on_video, df_sony, df_fox]\n",
    "\n",
    "df = pd.concat(frames)"
   ]
  },
  {
   "cell_type": "code",
   "execution_count": 7,
   "metadata": {},
   "outputs": [
    {
     "name": "stdout",
     "output_type": "stream",
     "text": [
      "5268\n"
     ]
    }
   ],
   "source": [
    "print(len(df.index))"
   ]
  },
  {
   "cell_type": "code",
   "execution_count": 8,
   "metadata": {},
   "outputs": [],
   "source": [
    "df = df.drop_duplicates(subset=['id'])"
   ]
  },
  {
   "cell_type": "code",
   "execution_count": 9,
   "metadata": {},
   "outputs": [
    {
     "name": "stdout",
     "output_type": "stream",
     "text": [
      "4478\n"
     ]
    }
   ],
   "source": [
    "print(len(df.index)) # Pareciera que no se comparten tantas peliculas"
   ]
  },
  {
   "cell_type": "code",
   "execution_count": 10,
   "metadata": {},
   "outputs": [],
   "source": [
    "df['genres']=df['genres'].str.strip('[]').str.replace(' ','').str.replace(\"'\",'')\n",
    "df['genres']=df['genres'].str.split(',')\n",
    "\n",
    "df['keywords']=df['keywords'].str.strip('[]').str.replace(' ','').str.replace(\"'\",'')\n",
    "df['keywords']=df['keywords'].str.split(',')\n",
    "\n",
    "df['director']=df['director'].str.strip('[]').str.replace(' ','').str.replace(\"'\",'')\n",
    "df['director']=df['director'].str.split(',')\n",
    "\n",
    "df['cast']=df['cast'].str.strip('[]').str.replace(' ','').str.replace(\"'\",'')\n",
    "df['cast']=df['cast'].str.split(',')"
   ]
  },
  {
   "cell_type": "code",
   "execution_count": 11,
   "metadata": {},
   "outputs": [],
   "source": [
    "# ===> Vamos a crear el vector a partir de los datos en el array de una columna\n",
    "\n",
    "# ===> Creamos la lista de valores unicos\n",
    "\n",
    "def create_unique_list(dataframe, column):\n",
    "    \n",
    "    list_unique_items = []\n",
    "    \n",
    "    for index, row in dataframe.iterrows():\n",
    "        list_items = row[column]\n",
    "    \n",
    "        for item in list_items:\n",
    "            if item not in list_unique_items:\n",
    "                list_unique_items.append(item)\n",
    "            \n",
    "    return list_unique_items\n",
    "\n",
    "# ===> binary va iterar sobre los valores de un array y chequear que valores estan en la lista de valores unicos\n",
    "\n",
    "def binary(list_items, list_unique_items):\n",
    "    \n",
    "    binaryList = []\n",
    "    \n",
    "    for item in list_unique_items:\n",
    "        if item in list_items:\n",
    "            binaryList.append(1)\n",
    "        else:\n",
    "            binaryList.append(0)\n",
    "    \n",
    "    return binaryList\n",
    "\n",
    "# ===> create_vector nos va a devolver el dataframe con una nueva columna, que representa un vector binario del atributo\n",
    "# ===> en cuestion (genero, cast, director, etc)\n",
    "\n",
    "def create_vector(dataframe, column_name):\n",
    "    \n",
    "    unique_list = create_unique_list(dataframe, column_name)\n",
    "    \n",
    "    column_name_vector = column_name + '_bin'\n",
    "    \n",
    "    dataframe[column_name_vector] = dataframe[column_name].apply(lambda x: binary(x, unique_list))\n",
    "    \n",
    "    return dataframe"
   ]
  },
  {
   "cell_type": "code",
   "execution_count": 12,
   "metadata": {},
   "outputs": [
    {
     "data": {
      "text/html": [
       "<div>\n",
       "<style scoped>\n",
       "    .dataframe tbody tr th:only-of-type {\n",
       "        vertical-align: middle;\n",
       "    }\n",
       "\n",
       "    .dataframe tbody tr th {\n",
       "        vertical-align: top;\n",
       "    }\n",
       "\n",
       "    .dataframe thead th {\n",
       "        text-align: right;\n",
       "    }\n",
       "</style>\n",
       "<table border=\"1\" class=\"dataframe\">\n",
       "  <thead>\n",
       "    <tr style=\"text-align: right;\">\n",
       "      <th></th>\n",
       "      <th>Unnamed: 0</th>\n",
       "      <th>Unnamed: 0.1</th>\n",
       "      <th>id</th>\n",
       "      <th>title</th>\n",
       "      <th>title_original</th>\n",
       "      <th>genres</th>\n",
       "      <th>director</th>\n",
       "      <th>keywords</th>\n",
       "      <th>cast</th>\n",
       "      <th>genre_empty</th>\n",
       "      <th>keywords_bin</th>\n",
       "    </tr>\n",
       "  </thead>\n",
       "  <tbody>\n",
       "    <tr>\n",
       "      <th>0</th>\n",
       "      <td>0</td>\n",
       "      <td>0</td>\n",
       "      <td>1183</td>\n",
       "      <td>2 Fast 2 Furious: A todo gas 2</td>\n",
       "      <td>2 Fast 2 Furious</td>\n",
       "      <td>[Acción, Crimen, Suspense]</td>\n",
       "      <td>[JohnSingleton]</td>\n",
       "      <td>[miami, carrace, sportscar, losangeles, car, a...</td>\n",
       "      <td>[PaulWalker, TyreseGibson, EvaMendes, ColeHaus...</td>\n",
       "      <td>32</td>\n",
       "      <td>[1, 1, 1, 1, 1, 1, 0, 0, 0, 0, 0, 0, 0, 0, 0, ...</td>\n",
       "    </tr>\n",
       "    <tr>\n",
       "      <th>1</th>\n",
       "      <td>2</td>\n",
       "      <td>2</td>\n",
       "      <td>1457</td>\n",
       "      <td>21 gramos</td>\n",
       "      <td>21 Grams</td>\n",
       "      <td>[Drama, Crimen, Suspense]</td>\n",
       "      <td>[AlejandroGonzálezIñárritu]</td>\n",
       "      <td>[lifeanddeath, lossoflovedone, transplantation...</td>\n",
       "      <td>[SeanPenn, NaomiWatts, BeniciodelToro, DannyHu...</td>\n",
       "      <td>31</td>\n",
       "      <td>[0, 0, 0, 0, 0, 0, 1, 1, 1, 1, 1, 1, 1, 1, 1, ...</td>\n",
       "    </tr>\n",
       "  </tbody>\n",
       "</table>\n",
       "</div>"
      ],
      "text/plain": [
       "   Unnamed: 0  Unnamed: 0.1    id                           title  \\\n",
       "0           0             0  1183  2 Fast 2 Furious: A todo gas 2   \n",
       "1           2             2  1457                       21 gramos   \n",
       "\n",
       "     title_original                      genres                     director  \\\n",
       "0  2 Fast 2 Furious  [Acción, Crimen, Suspense]              [JohnSingleton]   \n",
       "1          21 Grams   [Drama, Crimen, Suspense]  [AlejandroGonzálezIñárritu]   \n",
       "\n",
       "                                            keywords  \\\n",
       "0  [miami, carrace, sportscar, losangeles, car, a...   \n",
       "1  [lifeanddeath, lossoflovedone, transplantation...   \n",
       "\n",
       "                                                cast  genre_empty  \\\n",
       "0  [PaulWalker, TyreseGibson, EvaMendes, ColeHaus...           32   \n",
       "1  [SeanPenn, NaomiWatts, BeniciodelToro, DannyHu...           31   \n",
       "\n",
       "                                        keywords_bin  \n",
       "0  [1, 1, 1, 1, 1, 1, 0, 0, 0, 0, 0, 0, 0, 0, 0, ...  \n",
       "1  [0, 0, 0, 0, 0, 0, 1, 1, 1, 1, 1, 1, 1, 1, 1, ...  "
      ]
     },
     "execution_count": 12,
     "metadata": {},
     "output_type": "execute_result"
    }
   ],
   "source": [
    "df = create_vector(df, 'keywords')\n",
    "df.head(2)"
   ]
  },
  {
   "cell_type": "code",
   "execution_count": 13,
   "metadata": {},
   "outputs": [
    {
     "data": {
      "text/html": [
       "<div>\n",
       "<style scoped>\n",
       "    .dataframe tbody tr th:only-of-type {\n",
       "        vertical-align: middle;\n",
       "    }\n",
       "\n",
       "    .dataframe tbody tr th {\n",
       "        vertical-align: top;\n",
       "    }\n",
       "\n",
       "    .dataframe thead th {\n",
       "        text-align: right;\n",
       "    }\n",
       "</style>\n",
       "<table border=\"1\" class=\"dataframe\">\n",
       "  <thead>\n",
       "    <tr style=\"text-align: right;\">\n",
       "      <th></th>\n",
       "      <th>Unnamed: 0</th>\n",
       "      <th>Unnamed: 0.1</th>\n",
       "      <th>id</th>\n",
       "      <th>title</th>\n",
       "      <th>title_original</th>\n",
       "      <th>genres</th>\n",
       "      <th>director</th>\n",
       "      <th>keywords</th>\n",
       "      <th>cast</th>\n",
       "      <th>genre_empty</th>\n",
       "      <th>keywords_bin</th>\n",
       "      <th>genres_bin</th>\n",
       "    </tr>\n",
       "  </thead>\n",
       "  <tbody>\n",
       "    <tr>\n",
       "      <th>0</th>\n",
       "      <td>0</td>\n",
       "      <td>0</td>\n",
       "      <td>1183</td>\n",
       "      <td>2 Fast 2 Furious: A todo gas 2</td>\n",
       "      <td>2 Fast 2 Furious</td>\n",
       "      <td>[Acción, Crimen, Suspense]</td>\n",
       "      <td>[JohnSingleton]</td>\n",
       "      <td>[miami, carrace, sportscar, losangeles, car, a...</td>\n",
       "      <td>[PaulWalker, TyreseGibson, EvaMendes, ColeHaus...</td>\n",
       "      <td>32</td>\n",
       "      <td>[1, 1, 1, 1, 1, 1, 0, 0, 0, 0, 0, 0, 0, 0, 0, ...</td>\n",
       "      <td>[1, 1, 1, 0, 0, 0, 0, 0, 0, 0, 0, 0, 0, 0, 0, ...</td>\n",
       "    </tr>\n",
       "    <tr>\n",
       "      <th>1</th>\n",
       "      <td>2</td>\n",
       "      <td>2</td>\n",
       "      <td>1457</td>\n",
       "      <td>21 gramos</td>\n",
       "      <td>21 Grams</td>\n",
       "      <td>[Drama, Crimen, Suspense]</td>\n",
       "      <td>[AlejandroGonzálezIñárritu]</td>\n",
       "      <td>[lifeanddeath, lossoflovedone, transplantation...</td>\n",
       "      <td>[SeanPenn, NaomiWatts, BeniciodelToro, DannyHu...</td>\n",
       "      <td>31</td>\n",
       "      <td>[0, 0, 0, 0, 0, 0, 1, 1, 1, 1, 1, 1, 1, 1, 1, ...</td>\n",
       "      <td>[0, 1, 1, 1, 0, 0, 0, 0, 0, 0, 0, 0, 0, 0, 0, ...</td>\n",
       "    </tr>\n",
       "  </tbody>\n",
       "</table>\n",
       "</div>"
      ],
      "text/plain": [
       "   Unnamed: 0  Unnamed: 0.1    id                           title  \\\n",
       "0           0             0  1183  2 Fast 2 Furious: A todo gas 2   \n",
       "1           2             2  1457                       21 gramos   \n",
       "\n",
       "     title_original                      genres                     director  \\\n",
       "0  2 Fast 2 Furious  [Acción, Crimen, Suspense]              [JohnSingleton]   \n",
       "1          21 Grams   [Drama, Crimen, Suspense]  [AlejandroGonzálezIñárritu]   \n",
       "\n",
       "                                            keywords  \\\n",
       "0  [miami, carrace, sportscar, losangeles, car, a...   \n",
       "1  [lifeanddeath, lossoflovedone, transplantation...   \n",
       "\n",
       "                                                cast  genre_empty  \\\n",
       "0  [PaulWalker, TyreseGibson, EvaMendes, ColeHaus...           32   \n",
       "1  [SeanPenn, NaomiWatts, BeniciodelToro, DannyHu...           31   \n",
       "\n",
       "                                        keywords_bin  \\\n",
       "0  [1, 1, 1, 1, 1, 1, 0, 0, 0, 0, 0, 0, 0, 0, 0, ...   \n",
       "1  [0, 0, 0, 0, 0, 0, 1, 1, 1, 1, 1, 1, 1, 1, 1, ...   \n",
       "\n",
       "                                          genres_bin  \n",
       "0  [1, 1, 1, 0, 0, 0, 0, 0, 0, 0, 0, 0, 0, 0, 0, ...  \n",
       "1  [0, 1, 1, 1, 0, 0, 0, 0, 0, 0, 0, 0, 0, 0, 0, ...  "
      ]
     },
     "execution_count": 13,
     "metadata": {},
     "output_type": "execute_result"
    }
   ],
   "source": [
    "df = create_vector(df, 'genres')\n",
    "df.head(2)"
   ]
  },
  {
   "cell_type": "code",
   "execution_count": 14,
   "metadata": {},
   "outputs": [
    {
     "data": {
      "text/html": [
       "<div>\n",
       "<style scoped>\n",
       "    .dataframe tbody tr th:only-of-type {\n",
       "        vertical-align: middle;\n",
       "    }\n",
       "\n",
       "    .dataframe tbody tr th {\n",
       "        vertical-align: top;\n",
       "    }\n",
       "\n",
       "    .dataframe thead th {\n",
       "        text-align: right;\n",
       "    }\n",
       "</style>\n",
       "<table border=\"1\" class=\"dataframe\">\n",
       "  <thead>\n",
       "    <tr style=\"text-align: right;\">\n",
       "      <th></th>\n",
       "      <th>Unnamed: 0</th>\n",
       "      <th>Unnamed: 0.1</th>\n",
       "      <th>id</th>\n",
       "      <th>title</th>\n",
       "      <th>title_original</th>\n",
       "      <th>genres</th>\n",
       "      <th>director</th>\n",
       "      <th>keywords</th>\n",
       "      <th>cast</th>\n",
       "      <th>genre_empty</th>\n",
       "      <th>keywords_bin</th>\n",
       "      <th>genres_bin</th>\n",
       "      <th>director_bin</th>\n",
       "    </tr>\n",
       "  </thead>\n",
       "  <tbody>\n",
       "    <tr>\n",
       "      <th>0</th>\n",
       "      <td>0</td>\n",
       "      <td>0</td>\n",
       "      <td>1183</td>\n",
       "      <td>2 Fast 2 Furious: A todo gas 2</td>\n",
       "      <td>2 Fast 2 Furious</td>\n",
       "      <td>[Acción, Crimen, Suspense]</td>\n",
       "      <td>[JohnSingleton]</td>\n",
       "      <td>[miami, carrace, sportscar, losangeles, car, a...</td>\n",
       "      <td>[PaulWalker, TyreseGibson, EvaMendes, ColeHaus...</td>\n",
       "      <td>32</td>\n",
       "      <td>[1, 1, 1, 1, 1, 1, 0, 0, 0, 0, 0, 0, 0, 0, 0, ...</td>\n",
       "      <td>[1, 1, 1, 0, 0, 0, 0, 0, 0, 0, 0, 0, 0, 0, 0, ...</td>\n",
       "      <td>[1, 0, 0, 0, 0, 0, 0, 0, 0, 0, 0, 0, 0, 0, 0, ...</td>\n",
       "    </tr>\n",
       "    <tr>\n",
       "      <th>1</th>\n",
       "      <td>2</td>\n",
       "      <td>2</td>\n",
       "      <td>1457</td>\n",
       "      <td>21 gramos</td>\n",
       "      <td>21 Grams</td>\n",
       "      <td>[Drama, Crimen, Suspense]</td>\n",
       "      <td>[AlejandroGonzálezIñárritu]</td>\n",
       "      <td>[lifeanddeath, lossoflovedone, transplantation...</td>\n",
       "      <td>[SeanPenn, NaomiWatts, BeniciodelToro, DannyHu...</td>\n",
       "      <td>31</td>\n",
       "      <td>[0, 0, 0, 0, 0, 0, 1, 1, 1, 1, 1, 1, 1, 1, 1, ...</td>\n",
       "      <td>[0, 1, 1, 1, 0, 0, 0, 0, 0, 0, 0, 0, 0, 0, 0, ...</td>\n",
       "      <td>[0, 1, 0, 0, 0, 0, 0, 0, 0, 0, 0, 0, 0, 0, 0, ...</td>\n",
       "    </tr>\n",
       "  </tbody>\n",
       "</table>\n",
       "</div>"
      ],
      "text/plain": [
       "   Unnamed: 0  Unnamed: 0.1    id                           title  \\\n",
       "0           0             0  1183  2 Fast 2 Furious: A todo gas 2   \n",
       "1           2             2  1457                       21 gramos   \n",
       "\n",
       "     title_original                      genres                     director  \\\n",
       "0  2 Fast 2 Furious  [Acción, Crimen, Suspense]              [JohnSingleton]   \n",
       "1          21 Grams   [Drama, Crimen, Suspense]  [AlejandroGonzálezIñárritu]   \n",
       "\n",
       "                                            keywords  \\\n",
       "0  [miami, carrace, sportscar, losangeles, car, a...   \n",
       "1  [lifeanddeath, lossoflovedone, transplantation...   \n",
       "\n",
       "                                                cast  genre_empty  \\\n",
       "0  [PaulWalker, TyreseGibson, EvaMendes, ColeHaus...           32   \n",
       "1  [SeanPenn, NaomiWatts, BeniciodelToro, DannyHu...           31   \n",
       "\n",
       "                                        keywords_bin  \\\n",
       "0  [1, 1, 1, 1, 1, 1, 0, 0, 0, 0, 0, 0, 0, 0, 0, ...   \n",
       "1  [0, 0, 0, 0, 0, 0, 1, 1, 1, 1, 1, 1, 1, 1, 1, ...   \n",
       "\n",
       "                                          genres_bin  \\\n",
       "0  [1, 1, 1, 0, 0, 0, 0, 0, 0, 0, 0, 0, 0, 0, 0, ...   \n",
       "1  [0, 1, 1, 1, 0, 0, 0, 0, 0, 0, 0, 0, 0, 0, 0, ...   \n",
       "\n",
       "                                        director_bin  \n",
       "0  [1, 0, 0, 0, 0, 0, 0, 0, 0, 0, 0, 0, 0, 0, 0, ...  \n",
       "1  [0, 1, 0, 0, 0, 0, 0, 0, 0, 0, 0, 0, 0, 0, 0, ...  "
      ]
     },
     "execution_count": 14,
     "metadata": {},
     "output_type": "execute_result"
    }
   ],
   "source": [
    "df = create_vector(df, 'director')\n",
    "df.head(2)"
   ]
  },
  {
   "cell_type": "code",
   "execution_count": 15,
   "metadata": {},
   "outputs": [
    {
     "data": {
      "text/html": [
       "<div>\n",
       "<style scoped>\n",
       "    .dataframe tbody tr th:only-of-type {\n",
       "        vertical-align: middle;\n",
       "    }\n",
       "\n",
       "    .dataframe tbody tr th {\n",
       "        vertical-align: top;\n",
       "    }\n",
       "\n",
       "    .dataframe thead th {\n",
       "        text-align: right;\n",
       "    }\n",
       "</style>\n",
       "<table border=\"1\" class=\"dataframe\">\n",
       "  <thead>\n",
       "    <tr style=\"text-align: right;\">\n",
       "      <th></th>\n",
       "      <th>Unnamed: 0</th>\n",
       "      <th>Unnamed: 0.1</th>\n",
       "      <th>id</th>\n",
       "      <th>title</th>\n",
       "      <th>title_original</th>\n",
       "      <th>genres</th>\n",
       "      <th>director</th>\n",
       "      <th>keywords</th>\n",
       "      <th>cast</th>\n",
       "      <th>genre_empty</th>\n",
       "      <th>keywords_bin</th>\n",
       "      <th>genres_bin</th>\n",
       "      <th>director_bin</th>\n",
       "      <th>cast_bin</th>\n",
       "    </tr>\n",
       "  </thead>\n",
       "  <tbody>\n",
       "    <tr>\n",
       "      <th>0</th>\n",
       "      <td>0</td>\n",
       "      <td>0</td>\n",
       "      <td>1183</td>\n",
       "      <td>2 Fast 2 Furious: A todo gas 2</td>\n",
       "      <td>2 Fast 2 Furious</td>\n",
       "      <td>[Acción, Crimen, Suspense]</td>\n",
       "      <td>[JohnSingleton]</td>\n",
       "      <td>[miami, carrace, sportscar, losangeles, car, a...</td>\n",
       "      <td>[PaulWalker, TyreseGibson, EvaMendes, ColeHaus...</td>\n",
       "      <td>32</td>\n",
       "      <td>[1, 1, 1, 1, 1, 1, 0, 0, 0, 0, 0, 0, 0, 0, 0, ...</td>\n",
       "      <td>[1, 1, 1, 0, 0, 0, 0, 0, 0, 0, 0, 0, 0, 0, 0, ...</td>\n",
       "      <td>[1, 0, 0, 0, 0, 0, 0, 0, 0, 0, 0, 0, 0, 0, 0, ...</td>\n",
       "      <td>[1, 1, 1, 1, 1, 0, 0, 0, 0, 0, 0, 0, 0, 0, 0, ...</td>\n",
       "    </tr>\n",
       "    <tr>\n",
       "      <th>1</th>\n",
       "      <td>2</td>\n",
       "      <td>2</td>\n",
       "      <td>1457</td>\n",
       "      <td>21 gramos</td>\n",
       "      <td>21 Grams</td>\n",
       "      <td>[Drama, Crimen, Suspense]</td>\n",
       "      <td>[AlejandroGonzálezIñárritu]</td>\n",
       "      <td>[lifeanddeath, lossoflovedone, transplantation...</td>\n",
       "      <td>[SeanPenn, NaomiWatts, BeniciodelToro, DannyHu...</td>\n",
       "      <td>31</td>\n",
       "      <td>[0, 0, 0, 0, 0, 0, 1, 1, 1, 1, 1, 1, 1, 1, 1, ...</td>\n",
       "      <td>[0, 1, 1, 1, 0, 0, 0, 0, 0, 0, 0, 0, 0, 0, 0, ...</td>\n",
       "      <td>[0, 1, 0, 0, 0, 0, 0, 0, 0, 0, 0, 0, 0, 0, 0, ...</td>\n",
       "      <td>[0, 0, 0, 0, 0, 1, 1, 1, 1, 1, 0, 0, 0, 0, 0, ...</td>\n",
       "    </tr>\n",
       "  </tbody>\n",
       "</table>\n",
       "</div>"
      ],
      "text/plain": [
       "   Unnamed: 0  Unnamed: 0.1    id                           title  \\\n",
       "0           0             0  1183  2 Fast 2 Furious: A todo gas 2   \n",
       "1           2             2  1457                       21 gramos   \n",
       "\n",
       "     title_original                      genres                     director  \\\n",
       "0  2 Fast 2 Furious  [Acción, Crimen, Suspense]              [JohnSingleton]   \n",
       "1          21 Grams   [Drama, Crimen, Suspense]  [AlejandroGonzálezIñárritu]   \n",
       "\n",
       "                                            keywords  \\\n",
       "0  [miami, carrace, sportscar, losangeles, car, a...   \n",
       "1  [lifeanddeath, lossoflovedone, transplantation...   \n",
       "\n",
       "                                                cast  genre_empty  \\\n",
       "0  [PaulWalker, TyreseGibson, EvaMendes, ColeHaus...           32   \n",
       "1  [SeanPenn, NaomiWatts, BeniciodelToro, DannyHu...           31   \n",
       "\n",
       "                                        keywords_bin  \\\n",
       "0  [1, 1, 1, 1, 1, 1, 0, 0, 0, 0, 0, 0, 0, 0, 0, ...   \n",
       "1  [0, 0, 0, 0, 0, 0, 1, 1, 1, 1, 1, 1, 1, 1, 1, ...   \n",
       "\n",
       "                                          genres_bin  \\\n",
       "0  [1, 1, 1, 0, 0, 0, 0, 0, 0, 0, 0, 0, 0, 0, 0, ...   \n",
       "1  [0, 1, 1, 1, 0, 0, 0, 0, 0, 0, 0, 0, 0, 0, 0, ...   \n",
       "\n",
       "                                        director_bin  \\\n",
       "0  [1, 0, 0, 0, 0, 0, 0, 0, 0, 0, 0, 0, 0, 0, 0, ...   \n",
       "1  [0, 1, 0, 0, 0, 0, 0, 0, 0, 0, 0, 0, 0, 0, 0, ...   \n",
       "\n",
       "                                            cast_bin  \n",
       "0  [1, 1, 1, 1, 1, 0, 0, 0, 0, 0, 0, 0, 0, 0, 0, ...  \n",
       "1  [0, 0, 0, 0, 0, 1, 1, 1, 1, 1, 0, 0, 0, 0, 0, ...  "
      ]
     },
     "execution_count": 15,
     "metadata": {},
     "output_type": "execute_result"
    }
   ],
   "source": [
    "df = create_vector(df, 'cast')\n",
    "df.head(2)"
   ]
  },
  {
   "cell_type": "code",
   "execution_count": 16,
   "metadata": {},
   "outputs": [],
   "source": [
    "# ===> Tenemos el dataframe con todas las peliculas. Vamos a crear una columna que sea una combinacion\n",
    "# ===> de todos los bins del dataframe\n",
    "\n",
    "df['combination_bin'] = df['genres_bin'] + df['cast_bin'] +  df['keywords_bin'] + df['director_bin']"
   ]
  },
  {
   "cell_type": "code",
   "execution_count": 17,
   "metadata": {},
   "outputs": [],
   "source": [
    "# ===> Transformamos esa columna en numpy array de dos dimensiones, lo cual es necesario para poder utilizar esa info\n",
    "# ===> como inputs de modelos de clustering\n",
    "\n",
    "df_kmeans = np.vstack(df['combination_bin'])"
   ]
  },
  {
   "cell_type": "code",
   "execution_count": 18,
   "metadata": {},
   "outputs": [
    {
     "name": "stdout",
     "output_type": "stream",
     "text": [
      "22443\n"
     ]
    }
   ],
   "source": [
    "# ===> Nuestro dataframe tiene 22443 dimensiones\n",
    "\n",
    "print(len(df_kmeans[0]))"
   ]
  },
  {
   "cell_type": "code",
   "execution_count": 19,
   "metadata": {},
   "outputs": [],
   "source": [
    "# ===> Vamos a usar SVD para reducir la dimensionalidad de nuestro dataframe\n",
    "# ===> Otra opcion https://www.researchgate.net/post/Which_clustering_technique_is_most_suitable_for_high_dimensional_data_sets\n",
    "\n",
    "from sklearn.decomposition import TruncatedSVD\n",
    "svd = TruncatedSVD(50)\n",
    "df_transformed = svd.fit_transform(df_kmeans)"
   ]
  },
  {
   "cell_type": "code",
   "execution_count": 20,
   "metadata": {},
   "outputs": [],
   "source": [
    "from sklearn.cluster import KMeans\n",
    "from sklearn.metrics import silhouette_score, calinski_harabaz_score"
   ]
  },
  {
   "cell_type": "code",
   "execution_count": 21,
   "metadata": {},
   "outputs": [],
   "source": [
    "kmeans_final = KMeans(n_clusters=25, random_state=0) \n",
    "kmeans_final.fit(df_kmeans)\n",
    "    \n",
    "labels_final = kmeans_final.labels_"
   ]
  },
  {
   "cell_type": "code",
   "execution_count": 22,
   "metadata": {},
   "outputs": [],
   "source": [
    "df['labels'] = labels_final"
   ]
  },
  {
   "cell_type": "code",
   "execution_count": 23,
   "metadata": {},
   "outputs": [
    {
     "name": "stdout",
     "output_type": "stream",
     "text": [
      "[ 4 21  8 23  7 19 10  3 12 20  0 15  6 24  9  2 11 16 14 18 13 22  5  1\n",
      " 17]\n"
     ]
    }
   ],
   "source": [
    "print(df['labels'].unique())"
   ]
  },
  {
   "cell_type": "code",
   "execution_count": 24,
   "metadata": {},
   "outputs": [
    {
     "name": "stdout",
     "output_type": "stream",
     "text": [
      "23    841\n",
      "4     563\n",
      "12    517\n",
      "7     447\n",
      "19    393\n",
      "21    322\n",
      "0     270\n",
      "8     264\n",
      "10    248\n",
      "6     172\n",
      "3     161\n",
      "20    137\n",
      "15     93\n",
      "9      15\n",
      "2      12\n",
      "5       4\n",
      "18      3\n",
      "24      3\n",
      "11      3\n",
      "14      3\n",
      "22      3\n",
      "13      1\n",
      "1       1\n",
      "17      1\n",
      "16      1\n",
      "Name: labels, dtype: int64\n"
     ]
    }
   ],
   "source": [
    "print(df['labels'].value_counts())"
   ]
  },
  {
   "cell_type": "code",
   "execution_count": 25,
   "metadata": {},
   "outputs": [],
   "source": [
    "def add_cluster_if_not_present(dataframe, list_clusters_complete):\n",
    "    \n",
    "    list_clusters = dataframe['labels'].unique()\n",
    "    \n",
    "    for item in list_clusters_complete:\n",
    "        \n",
    "        if item not in list_clusters:\n",
    "            \n",
    "            dataframe = dataframe.append({'labels': item, 'frecuency': 0}, ignore_index=True)\n",
    "            \n",
    "    return dataframe\n",
    "    "
   ]
  },
  {
   "cell_type": "code",
   "execution_count": 26,
   "metadata": {},
   "outputs": [],
   "source": [
    "# ===> Aanaliamos que % de las peliculas de cada plataforma pertenecen a cada cluster\n",
    "\n",
    "def count_clusters(dataframe, name_plataform):\n",
    "\n",
    "    df_clusters = pd.DataFrame(dataframe['labels'].value_counts())\n",
    "    \n",
    "    df_clusters = df_clusters.rename(columns={'labels': 'frecuency'})\n",
    "    \n",
    "    df_clusters['labels'] = df_clusters.index\n",
    "    \n",
    "    df_clusters = add_cluster_if_not_present(df_clusters, df['labels'].unique())\n",
    "    \n",
    "    def number_rows_parent_dataframe(dataframe):\n",
    "        return len(dataframe.index)\n",
    "\n",
    "    def cluster_porcentage(value, dataframe=dataframe):\n",
    "        return value/number_rows_parent_dataframe(dataframe)*100\n",
    "    \n",
    "    name_column = 'percentage_clusters_' + name_plataform \n",
    "    \n",
    "    df_clusters[name_column] = df_clusters['frecuency'].apply(cluster_porcentage)\n",
    "\n",
    "    return df_clusters\n"
   ]
  },
  {
   "cell_type": "code",
   "execution_count": 27,
   "metadata": {},
   "outputs": [],
   "source": [
    "# ===> Agregamos las etiquetas de clusters a la plataforma HBO\n",
    "\n",
    "df_hbo = pd.merge(df_hbo, df[['id', 'labels']], on='id', how='left')"
   ]
  },
  {
   "cell_type": "code",
   "execution_count": 28,
   "metadata": {},
   "outputs": [
    {
     "data": {
      "text/html": [
       "<div>\n",
       "<style scoped>\n",
       "    .dataframe tbody tr th:only-of-type {\n",
       "        vertical-align: middle;\n",
       "    }\n",
       "\n",
       "    .dataframe tbody tr th {\n",
       "        vertical-align: top;\n",
       "    }\n",
       "\n",
       "    .dataframe thead th {\n",
       "        text-align: right;\n",
       "    }\n",
       "</style>\n",
       "<table border=\"1\" class=\"dataframe\">\n",
       "  <thead>\n",
       "    <tr style=\"text-align: right;\">\n",
       "      <th></th>\n",
       "      <th>Unnamed: 0</th>\n",
       "      <th>Unnamed: 0.1</th>\n",
       "      <th>id</th>\n",
       "      <th>title</th>\n",
       "      <th>title_original</th>\n",
       "      <th>genres</th>\n",
       "      <th>director</th>\n",
       "      <th>keywords</th>\n",
       "      <th>cast</th>\n",
       "      <th>genre_empty</th>\n",
       "      <th>labels</th>\n",
       "    </tr>\n",
       "  </thead>\n",
       "  <tbody>\n",
       "    <tr>\n",
       "      <th>0</th>\n",
       "      <td>0</td>\n",
       "      <td>0</td>\n",
       "      <td>1183</td>\n",
       "      <td>2 Fast 2 Furious: A todo gas 2</td>\n",
       "      <td>2 Fast 2 Furious</td>\n",
       "      <td>['Acción', 'Crimen', 'Suspense']</td>\n",
       "      <td>['John Singleton']</td>\n",
       "      <td>['miami', 'car race', 'sports car', 'los angel...</td>\n",
       "      <td>['Paul Walker', 'Tyrese Gibson', 'Eva Mendes',...</td>\n",
       "      <td>32</td>\n",
       "      <td>4</td>\n",
       "    </tr>\n",
       "    <tr>\n",
       "      <th>1</th>\n",
       "      <td>2</td>\n",
       "      <td>2</td>\n",
       "      <td>1457</td>\n",
       "      <td>21 gramos</td>\n",
       "      <td>21 Grams</td>\n",
       "      <td>['Drama', 'Crimen', 'Suspense']</td>\n",
       "      <td>['Alejandro González Iñárritu']</td>\n",
       "      <td>['life and death', 'loss of loved one', 'trans...</td>\n",
       "      <td>['Sean Penn', 'Naomi Watts', 'Benicio del Toro...</td>\n",
       "      <td>31</td>\n",
       "      <td>4</td>\n",
       "    </tr>\n",
       "  </tbody>\n",
       "</table>\n",
       "</div>"
      ],
      "text/plain": [
       "   Unnamed: 0  Unnamed: 0.1    id                           title  \\\n",
       "0           0             0  1183  2 Fast 2 Furious: A todo gas 2   \n",
       "1           2             2  1457                       21 gramos   \n",
       "\n",
       "     title_original                            genres  \\\n",
       "0  2 Fast 2 Furious  ['Acción', 'Crimen', 'Suspense']   \n",
       "1          21 Grams   ['Drama', 'Crimen', 'Suspense']   \n",
       "\n",
       "                          director  \\\n",
       "0               ['John Singleton']   \n",
       "1  ['Alejandro González Iñárritu']   \n",
       "\n",
       "                                            keywords  \\\n",
       "0  ['miami', 'car race', 'sports car', 'los angel...   \n",
       "1  ['life and death', 'loss of loved one', 'trans...   \n",
       "\n",
       "                                                cast  genre_empty  labels  \n",
       "0  ['Paul Walker', 'Tyrese Gibson', 'Eva Mendes',...           32       4  \n",
       "1  ['Sean Penn', 'Naomi Watts', 'Benicio del Toro...           31       4  "
      ]
     },
     "execution_count": 28,
     "metadata": {},
     "output_type": "execute_result"
    }
   ],
   "source": [
    "df_hbo.head(2)"
   ]
  },
  {
   "cell_type": "code",
   "execution_count": 29,
   "metadata": {},
   "outputs": [
    {
     "data": {
      "text/html": [
       "<div>\n",
       "<style scoped>\n",
       "    .dataframe tbody tr th:only-of-type {\n",
       "        vertical-align: middle;\n",
       "    }\n",
       "\n",
       "    .dataframe tbody tr th {\n",
       "        vertical-align: top;\n",
       "    }\n",
       "\n",
       "    .dataframe thead th {\n",
       "        text-align: right;\n",
       "    }\n",
       "</style>\n",
       "<table border=\"1\" class=\"dataframe\">\n",
       "  <thead>\n",
       "    <tr style=\"text-align: right;\">\n",
       "      <th></th>\n",
       "      <th>frecuency</th>\n",
       "      <th>labels</th>\n",
       "      <th>percentage_clusters_hbo</th>\n",
       "    </tr>\n",
       "  </thead>\n",
       "  <tbody>\n",
       "    <tr>\n",
       "      <th>0</th>\n",
       "      <td>21</td>\n",
       "      <td>7</td>\n",
       "      <td>15.000000</td>\n",
       "    </tr>\n",
       "    <tr>\n",
       "      <th>1</th>\n",
       "      <td>17</td>\n",
       "      <td>23</td>\n",
       "      <td>12.142857</td>\n",
       "    </tr>\n",
       "  </tbody>\n",
       "</table>\n",
       "</div>"
      ],
      "text/plain": [
       "   frecuency  labels  percentage_clusters_hbo\n",
       "0         21       7                15.000000\n",
       "1         17      23                12.142857"
      ]
     },
     "execution_count": 29,
     "metadata": {},
     "output_type": "execute_result"
    }
   ],
   "source": [
    "clusters_hbo = count_clusters(df_hbo, 'hbo')\n",
    "count_clusters(df_hbo, 'hbo').head(2)"
   ]
  },
  {
   "cell_type": "code",
   "execution_count": 30,
   "metadata": {},
   "outputs": [],
   "source": [
    "# ===> Agregamos las etiquetas de clusters a la plataforma Claro\n",
    "\n",
    "df_claro = pd.merge(df_claro, df[['id', 'labels']], on='id', how='left')"
   ]
  },
  {
   "cell_type": "code",
   "execution_count": 31,
   "metadata": {},
   "outputs": [
    {
     "data": {
      "text/html": [
       "<div>\n",
       "<style scoped>\n",
       "    .dataframe tbody tr th:only-of-type {\n",
       "        vertical-align: middle;\n",
       "    }\n",
       "\n",
       "    .dataframe tbody tr th {\n",
       "        vertical-align: top;\n",
       "    }\n",
       "\n",
       "    .dataframe thead th {\n",
       "        text-align: right;\n",
       "    }\n",
       "</style>\n",
       "<table border=\"1\" class=\"dataframe\">\n",
       "  <thead>\n",
       "    <tr style=\"text-align: right;\">\n",
       "      <th></th>\n",
       "      <th>Unnamed: 0</th>\n",
       "      <th>Unnamed: 0.1</th>\n",
       "      <th>id</th>\n",
       "      <th>title</th>\n",
       "      <th>title_original</th>\n",
       "      <th>genres</th>\n",
       "      <th>director</th>\n",
       "      <th>keywords</th>\n",
       "      <th>cast</th>\n",
       "      <th>genre_empty</th>\n",
       "      <th>labels</th>\n",
       "    </tr>\n",
       "  </thead>\n",
       "  <tbody>\n",
       "    <tr>\n",
       "      <th>0</th>\n",
       "      <td>0</td>\n",
       "      <td>0</td>\n",
       "      <td>44</td>\n",
       "      <td>500 dias juntos</td>\n",
       "      <td>(500) Days of Summer</td>\n",
       "      <td>['Comedia', 'Drama', 'Romance']</td>\n",
       "      <td>['Marc Webb']</td>\n",
       "      <td>['date', 'jealousy', 'fight', 'architect', 'ga...</td>\n",
       "      <td>['Joseph Gordon-Levitt', 'Zooey Deschanel', 'C...</td>\n",
       "      <td>31</td>\n",
       "      <td>12</td>\n",
       "    </tr>\n",
       "    <tr>\n",
       "      <th>1</th>\n",
       "      <td>2</td>\n",
       "      <td>2</td>\n",
       "      <td>49</td>\n",
       "      <td>Nuestros maravillosos aliados</td>\n",
       "      <td>*batteries not included</td>\n",
       "      <td>['Comedia', 'Familia', 'Fantasía', 'Ciencia fi...</td>\n",
       "      <td>['Matthew Robbins']</td>\n",
       "      <td>['extraterrestrial technology', 'alien life-fo...</td>\n",
       "      <td>['Hume Cronyn', 'Jessica Tandy', 'Frank McRae'...</td>\n",
       "      <td>53</td>\n",
       "      <td>10</td>\n",
       "    </tr>\n",
       "  </tbody>\n",
       "</table>\n",
       "</div>"
      ],
      "text/plain": [
       "   Unnamed: 0  Unnamed: 0.1  id                          title  \\\n",
       "0           0             0  44                500 dias juntos   \n",
       "1           2             2  49  Nuestros maravillosos aliados   \n",
       "\n",
       "            title_original                                             genres  \\\n",
       "0     (500) Days of Summer                    ['Comedia', 'Drama', 'Romance']   \n",
       "1  *batteries not included  ['Comedia', 'Familia', 'Fantasía', 'Ciencia fi...   \n",
       "\n",
       "              director                                           keywords  \\\n",
       "0        ['Marc Webb']  ['date', 'jealousy', 'fight', 'architect', 'ga...   \n",
       "1  ['Matthew Robbins']  ['extraterrestrial technology', 'alien life-fo...   \n",
       "\n",
       "                                                cast  genre_empty  labels  \n",
       "0  ['Joseph Gordon-Levitt', 'Zooey Deschanel', 'C...           31      12  \n",
       "1  ['Hume Cronyn', 'Jessica Tandy', 'Frank McRae'...           53      10  "
      ]
     },
     "execution_count": 31,
     "metadata": {},
     "output_type": "execute_result"
    }
   ],
   "source": [
    "df_claro.head(2)"
   ]
  },
  {
   "cell_type": "code",
   "execution_count": 32,
   "metadata": {},
   "outputs": [
    {
     "data": {
      "text/html": [
       "<div>\n",
       "<style scoped>\n",
       "    .dataframe tbody tr th:only-of-type {\n",
       "        vertical-align: middle;\n",
       "    }\n",
       "\n",
       "    .dataframe tbody tr th {\n",
       "        vertical-align: top;\n",
       "    }\n",
       "\n",
       "    .dataframe thead th {\n",
       "        text-align: right;\n",
       "    }\n",
       "</style>\n",
       "<table border=\"1\" class=\"dataframe\">\n",
       "  <thead>\n",
       "    <tr style=\"text-align: right;\">\n",
       "      <th></th>\n",
       "      <th>frecuency</th>\n",
       "      <th>labels</th>\n",
       "      <th>percentage_clusters_claro</th>\n",
       "    </tr>\n",
       "  </thead>\n",
       "  <tbody>\n",
       "    <tr>\n",
       "      <th>0</th>\n",
       "      <td>287</td>\n",
       "      <td>23</td>\n",
       "      <td>16.325370</td>\n",
       "    </tr>\n",
       "    <tr>\n",
       "      <th>1</th>\n",
       "      <td>260</td>\n",
       "      <td>4</td>\n",
       "      <td>14.789534</td>\n",
       "    </tr>\n",
       "  </tbody>\n",
       "</table>\n",
       "</div>"
      ],
      "text/plain": [
       "   frecuency  labels  percentage_clusters_claro\n",
       "0        287      23                  16.325370\n",
       "1        260       4                  14.789534"
      ]
     },
     "execution_count": 32,
     "metadata": {},
     "output_type": "execute_result"
    }
   ],
   "source": [
    "clusters_claro = count_clusters(df_claro, 'claro')\n",
    "count_clusters(df_claro, 'claro').head(2)"
   ]
  },
  {
   "cell_type": "code",
   "execution_count": 33,
   "metadata": {},
   "outputs": [],
   "source": [
    "# ===> Agregamos las etiquetas de clusters a la plataforma Sony\n",
    "\n",
    "df_sony = pd.merge(df_sony, df[['id', 'labels']], on='id', how='left')"
   ]
  },
  {
   "cell_type": "code",
   "execution_count": 34,
   "metadata": {},
   "outputs": [
    {
     "data": {
      "text/html": [
       "<div>\n",
       "<style scoped>\n",
       "    .dataframe tbody tr th:only-of-type {\n",
       "        vertical-align: middle;\n",
       "    }\n",
       "\n",
       "    .dataframe tbody tr th {\n",
       "        vertical-align: top;\n",
       "    }\n",
       "\n",
       "    .dataframe thead th {\n",
       "        text-align: right;\n",
       "    }\n",
       "</style>\n",
       "<table border=\"1\" class=\"dataframe\">\n",
       "  <thead>\n",
       "    <tr style=\"text-align: right;\">\n",
       "      <th></th>\n",
       "      <th>frecuency</th>\n",
       "      <th>labels</th>\n",
       "      <th>percentage_clusters_sony</th>\n",
       "    </tr>\n",
       "  </thead>\n",
       "  <tbody>\n",
       "    <tr>\n",
       "      <th>0</th>\n",
       "      <td>13</td>\n",
       "      <td>8</td>\n",
       "      <td>23.214286</td>\n",
       "    </tr>\n",
       "    <tr>\n",
       "      <th>1</th>\n",
       "      <td>9</td>\n",
       "      <td>23</td>\n",
       "      <td>16.071429</td>\n",
       "    </tr>\n",
       "  </tbody>\n",
       "</table>\n",
       "</div>"
      ],
      "text/plain": [
       "   frecuency  labels  percentage_clusters_sony\n",
       "0         13       8                 23.214286\n",
       "1          9      23                 16.071429"
      ]
     },
     "execution_count": 34,
     "metadata": {},
     "output_type": "execute_result"
    }
   ],
   "source": [
    "clusters_sony = count_clusters(df_sony, 'sony')\n",
    "\n",
    "count_clusters(df_sony, 'sony').head(2)"
   ]
  },
  {
   "cell_type": "code",
   "execution_count": 35,
   "metadata": {},
   "outputs": [],
   "source": [
    "# ===> Agregamos las etiquetas de clusters a la plataforma Netflix\n",
    "\n",
    "df_netflix = pd.merge(df_netflix, df[['id', 'labels']], on='id', how='left')"
   ]
  },
  {
   "cell_type": "code",
   "execution_count": 36,
   "metadata": {},
   "outputs": [
    {
     "data": {
      "text/html": [
       "<div>\n",
       "<style scoped>\n",
       "    .dataframe tbody tr th:only-of-type {\n",
       "        vertical-align: middle;\n",
       "    }\n",
       "\n",
       "    .dataframe tbody tr th {\n",
       "        vertical-align: top;\n",
       "    }\n",
       "\n",
       "    .dataframe thead th {\n",
       "        text-align: right;\n",
       "    }\n",
       "</style>\n",
       "<table border=\"1\" class=\"dataframe\">\n",
       "  <thead>\n",
       "    <tr style=\"text-align: right;\">\n",
       "      <th></th>\n",
       "      <th>frecuency</th>\n",
       "      <th>labels</th>\n",
       "      <th>percentage_clusters_netflix</th>\n",
       "    </tr>\n",
       "  </thead>\n",
       "  <tbody>\n",
       "    <tr>\n",
       "      <th>0</th>\n",
       "      <td>307</td>\n",
       "      <td>7</td>\n",
       "      <td>19.056487</td>\n",
       "    </tr>\n",
       "    <tr>\n",
       "      <th>1</th>\n",
       "      <td>300</td>\n",
       "      <td>23</td>\n",
       "      <td>18.621974</td>\n",
       "    </tr>\n",
       "  </tbody>\n",
       "</table>\n",
       "</div>"
      ],
      "text/plain": [
       "   frecuency  labels  percentage_clusters_netflix\n",
       "0        307       7                    19.056487\n",
       "1        300      23                    18.621974"
      ]
     },
     "execution_count": 36,
     "metadata": {},
     "output_type": "execute_result"
    }
   ],
   "source": [
    "clusters_netflix = count_clusters(df_netflix, 'netflix')\n",
    "\n",
    "count_clusters(df_netflix, 'netflix').head(2)"
   ]
  },
  {
   "cell_type": "code",
   "execution_count": 37,
   "metadata": {},
   "outputs": [],
   "source": [
    "# ===> Agregamos las etiquetas de clusters a la plataforma Flow\n",
    "\n",
    "df_flow = pd.merge(df_flow, df[['id', 'labels']], on='id', how='left')"
   ]
  },
  {
   "cell_type": "code",
   "execution_count": 38,
   "metadata": {},
   "outputs": [
    {
     "data": {
      "text/html": [
       "<div>\n",
       "<style scoped>\n",
       "    .dataframe tbody tr th:only-of-type {\n",
       "        vertical-align: middle;\n",
       "    }\n",
       "\n",
       "    .dataframe tbody tr th {\n",
       "        vertical-align: top;\n",
       "    }\n",
       "\n",
       "    .dataframe thead th {\n",
       "        text-align: right;\n",
       "    }\n",
       "</style>\n",
       "<table border=\"1\" class=\"dataframe\">\n",
       "  <thead>\n",
       "    <tr style=\"text-align: right;\">\n",
       "      <th></th>\n",
       "      <th>frecuency</th>\n",
       "      <th>labels</th>\n",
       "      <th>percentage_clusters_flow</th>\n",
       "    </tr>\n",
       "  </thead>\n",
       "  <tbody>\n",
       "    <tr>\n",
       "      <th>0</th>\n",
       "      <td>67</td>\n",
       "      <td>23</td>\n",
       "      <td>17.914439</td>\n",
       "    </tr>\n",
       "    <tr>\n",
       "      <th>1</th>\n",
       "      <td>55</td>\n",
       "      <td>4</td>\n",
       "      <td>14.705882</td>\n",
       "    </tr>\n",
       "  </tbody>\n",
       "</table>\n",
       "</div>"
      ],
      "text/plain": [
       "   frecuency  labels  percentage_clusters_flow\n",
       "0         67      23                 17.914439\n",
       "1         55       4                 14.705882"
      ]
     },
     "execution_count": 38,
     "metadata": {},
     "output_type": "execute_result"
    }
   ],
   "source": [
    "clusters_flow = count_clusters(df_flow, 'flow')\n",
    "\n",
    "count_clusters(df_flow, 'flow').head(2)"
   ]
  },
  {
   "cell_type": "code",
   "execution_count": 39,
   "metadata": {},
   "outputs": [],
   "source": [
    "# ===> Agregamos las etiquetas de clusters a la plataforma Amazon\n",
    "\n",
    "df_amazon = pd.merge(df_amazon, df[['id', 'labels']], on='id', how='left')"
   ]
  },
  {
   "cell_type": "code",
   "execution_count": 40,
   "metadata": {},
   "outputs": [
    {
     "data": {
      "text/html": [
       "<div>\n",
       "<style scoped>\n",
       "    .dataframe tbody tr th:only-of-type {\n",
       "        vertical-align: middle;\n",
       "    }\n",
       "\n",
       "    .dataframe tbody tr th {\n",
       "        vertical-align: top;\n",
       "    }\n",
       "\n",
       "    .dataframe thead th {\n",
       "        text-align: right;\n",
       "    }\n",
       "</style>\n",
       "<table border=\"1\" class=\"dataframe\">\n",
       "  <thead>\n",
       "    <tr style=\"text-align: right;\">\n",
       "      <th></th>\n",
       "      <th>frecuency</th>\n",
       "      <th>labels</th>\n",
       "      <th>percentage_clusters_amazon</th>\n",
       "    </tr>\n",
       "  </thead>\n",
       "  <tbody>\n",
       "    <tr>\n",
       "      <th>0</th>\n",
       "      <td>155</td>\n",
       "      <td>23</td>\n",
       "      <td>20.025840</td>\n",
       "    </tr>\n",
       "    <tr>\n",
       "      <th>1</th>\n",
       "      <td>104</td>\n",
       "      <td>19</td>\n",
       "      <td>13.436693</td>\n",
       "    </tr>\n",
       "  </tbody>\n",
       "</table>\n",
       "</div>"
      ],
      "text/plain": [
       "   frecuency  labels  percentage_clusters_amazon\n",
       "0        155      23                   20.025840\n",
       "1        104      19                   13.436693"
      ]
     },
     "execution_count": 40,
     "metadata": {},
     "output_type": "execute_result"
    }
   ],
   "source": [
    "clusters_amazon = count_clusters(df_amazon, 'amazon')\n",
    "\n",
    "count_clusters(df_amazon, 'amazon').head(2)"
   ]
  },
  {
   "cell_type": "code",
   "execution_count": 41,
   "metadata": {},
   "outputs": [],
   "source": [
    "# ===> Agregamos las etiquetas de clusters a la plataforma On Video\n",
    "\n",
    "df_on_video = pd.merge(df_on_video, df[['id', 'labels']], on='id', how='left')"
   ]
  },
  {
   "cell_type": "code",
   "execution_count": 42,
   "metadata": {},
   "outputs": [
    {
     "data": {
      "text/html": [
       "<div>\n",
       "<style scoped>\n",
       "    .dataframe tbody tr th:only-of-type {\n",
       "        vertical-align: middle;\n",
       "    }\n",
       "\n",
       "    .dataframe tbody tr th {\n",
       "        vertical-align: top;\n",
       "    }\n",
       "\n",
       "    .dataframe thead th {\n",
       "        text-align: right;\n",
       "    }\n",
       "</style>\n",
       "<table border=\"1\" class=\"dataframe\">\n",
       "  <thead>\n",
       "    <tr style=\"text-align: right;\">\n",
       "      <th></th>\n",
       "      <th>frecuency</th>\n",
       "      <th>labels</th>\n",
       "      <th>percentage_clusters_on_video</th>\n",
       "    </tr>\n",
       "  </thead>\n",
       "  <tbody>\n",
       "    <tr>\n",
       "      <th>0</th>\n",
       "      <td>58</td>\n",
       "      <td>23</td>\n",
       "      <td>18.471338</td>\n",
       "    </tr>\n",
       "    <tr>\n",
       "      <th>1</th>\n",
       "      <td>41</td>\n",
       "      <td>12</td>\n",
       "      <td>13.057325</td>\n",
       "    </tr>\n",
       "  </tbody>\n",
       "</table>\n",
       "</div>"
      ],
      "text/plain": [
       "   frecuency  labels  percentage_clusters_on_video\n",
       "0         58      23                     18.471338\n",
       "1         41      12                     13.057325"
      ]
     },
     "execution_count": 42,
     "metadata": {},
     "output_type": "execute_result"
    }
   ],
   "source": [
    "clusters_on_video = count_clusters(df_on_video, 'on_video')\n",
    "\n",
    "count_clusters(df_on_video, 'on_video').head(2)"
   ]
  },
  {
   "cell_type": "code",
   "execution_count": 43,
   "metadata": {},
   "outputs": [],
   "source": [
    "# ===> Agregamos las etiquetas de clusters a la plataforma Fox\n",
    "\n",
    "df_fox = pd.merge(df_fox, df[['id', 'labels']], on='id', how='left')"
   ]
  },
  {
   "cell_type": "code",
   "execution_count": 44,
   "metadata": {},
   "outputs": [
    {
     "data": {
      "text/html": [
       "<div>\n",
       "<style scoped>\n",
       "    .dataframe tbody tr th:only-of-type {\n",
       "        vertical-align: middle;\n",
       "    }\n",
       "\n",
       "    .dataframe tbody tr th {\n",
       "        vertical-align: top;\n",
       "    }\n",
       "\n",
       "    .dataframe thead th {\n",
       "        text-align: right;\n",
       "    }\n",
       "</style>\n",
       "<table border=\"1\" class=\"dataframe\">\n",
       "  <thead>\n",
       "    <tr style=\"text-align: right;\">\n",
       "      <th></th>\n",
       "      <th>frecuency</th>\n",
       "      <th>labels</th>\n",
       "      <th>percentage_clusters_fox</th>\n",
       "    </tr>\n",
       "  </thead>\n",
       "  <tbody>\n",
       "    <tr>\n",
       "      <th>0</th>\n",
       "      <td>49</td>\n",
       "      <td>23</td>\n",
       "      <td>20.331950</td>\n",
       "    </tr>\n",
       "    <tr>\n",
       "      <th>1</th>\n",
       "      <td>45</td>\n",
       "      <td>12</td>\n",
       "      <td>18.672199</td>\n",
       "    </tr>\n",
       "  </tbody>\n",
       "</table>\n",
       "</div>"
      ],
      "text/plain": [
       "   frecuency  labels  percentage_clusters_fox\n",
       "0         49      23                20.331950\n",
       "1         45      12                18.672199"
      ]
     },
     "execution_count": 44,
     "metadata": {},
     "output_type": "execute_result"
    }
   ],
   "source": [
    "clusters_fox = count_clusters(df_fox, 'fox')\n",
    "\n",
    "count_clusters(df_fox, 'fox').head(2)"
   ]
  },
  {
   "cell_type": "code",
   "execution_count": 45,
   "metadata": {},
   "outputs": [],
   "source": [
    "df_clusters_final = pd.merge(clusters_hbo[['labels', 'percentage_clusters_hbo']], clusters_claro[['labels', 'percentage_clusters_claro']], on='labels', how='left')"
   ]
  },
  {
   "cell_type": "code",
   "execution_count": 46,
   "metadata": {},
   "outputs": [
    {
     "data": {
      "text/html": [
       "<div>\n",
       "<style scoped>\n",
       "    .dataframe tbody tr th:only-of-type {\n",
       "        vertical-align: middle;\n",
       "    }\n",
       "\n",
       "    .dataframe tbody tr th {\n",
       "        vertical-align: top;\n",
       "    }\n",
       "\n",
       "    .dataframe thead th {\n",
       "        text-align: right;\n",
       "    }\n",
       "</style>\n",
       "<table border=\"1\" class=\"dataframe\">\n",
       "  <thead>\n",
       "    <tr style=\"text-align: right;\">\n",
       "      <th></th>\n",
       "      <th>labels</th>\n",
       "      <th>percentage_clusters_hbo</th>\n",
       "      <th>percentage_clusters_claro</th>\n",
       "    </tr>\n",
       "  </thead>\n",
       "  <tbody>\n",
       "    <tr>\n",
       "      <th>0</th>\n",
       "      <td>7</td>\n",
       "      <td>15.000000</td>\n",
       "      <td>2.445961</td>\n",
       "    </tr>\n",
       "    <tr>\n",
       "      <th>1</th>\n",
       "      <td>23</td>\n",
       "      <td>12.142857</td>\n",
       "      <td>16.325370</td>\n",
       "    </tr>\n",
       "  </tbody>\n",
       "</table>\n",
       "</div>"
      ],
      "text/plain": [
       "   labels  percentage_clusters_hbo  percentage_clusters_claro\n",
       "0       7                15.000000                   2.445961\n",
       "1      23                12.142857                  16.325370"
      ]
     },
     "execution_count": 46,
     "metadata": {},
     "output_type": "execute_result"
    }
   ],
   "source": [
    "df_clusters_final.head(2)"
   ]
  },
  {
   "cell_type": "code",
   "execution_count": 47,
   "metadata": {},
   "outputs": [],
   "source": [
    "df_clusters_final = pd.merge(df_clusters_final, clusters_sony[['labels', 'percentage_clusters_sony']], on='labels', how='left')"
   ]
  },
  {
   "cell_type": "code",
   "execution_count": 48,
   "metadata": {},
   "outputs": [],
   "source": [
    "df_clusters_final = pd.merge(df_clusters_final, clusters_netflix[['labels', 'percentage_clusters_netflix']], on='labels', how='left')"
   ]
  },
  {
   "cell_type": "code",
   "execution_count": 49,
   "metadata": {},
   "outputs": [],
   "source": [
    "df_clusters_final = pd.merge(df_clusters_final, clusters_flow[['labels', 'percentage_clusters_flow']], on='labels', how='left')"
   ]
  },
  {
   "cell_type": "code",
   "execution_count": 50,
   "metadata": {},
   "outputs": [],
   "source": [
    "df_clusters_final = pd.merge(df_clusters_final, clusters_amazon[['labels', 'percentage_clusters_amazon']], on='labels', how='left')"
   ]
  },
  {
   "cell_type": "code",
   "execution_count": 51,
   "metadata": {},
   "outputs": [],
   "source": [
    "df_clusters_final = pd.merge(df_clusters_final, clusters_on_video[['labels', 'percentage_clusters_on_video']], on='labels', how='left')"
   ]
  },
  {
   "cell_type": "code",
   "execution_count": 52,
   "metadata": {},
   "outputs": [],
   "source": [
    "df_clusters_final = pd.merge(df_clusters_final, clusters_fox[['labels', 'percentage_clusters_fox']], on='labels', how='left')"
   ]
  },
  {
   "cell_type": "code",
   "execution_count": 53,
   "metadata": {},
   "outputs": [
    {
     "data": {
      "text/html": [
       "<div>\n",
       "<style scoped>\n",
       "    .dataframe tbody tr th:only-of-type {\n",
       "        vertical-align: middle;\n",
       "    }\n",
       "\n",
       "    .dataframe tbody tr th {\n",
       "        vertical-align: top;\n",
       "    }\n",
       "\n",
       "    .dataframe thead th {\n",
       "        text-align: right;\n",
       "    }\n",
       "</style>\n",
       "<table border=\"1\" class=\"dataframe\">\n",
       "  <thead>\n",
       "    <tr style=\"text-align: right;\">\n",
       "      <th></th>\n",
       "      <th>labels</th>\n",
       "      <th>percentage_clusters_hbo</th>\n",
       "      <th>percentage_clusters_claro</th>\n",
       "      <th>percentage_clusters_sony</th>\n",
       "      <th>percentage_clusters_netflix</th>\n",
       "      <th>percentage_clusters_flow</th>\n",
       "      <th>percentage_clusters_amazon</th>\n",
       "      <th>percentage_clusters_on_video</th>\n",
       "      <th>percentage_clusters_fox</th>\n",
       "    </tr>\n",
       "  </thead>\n",
       "  <tbody>\n",
       "    <tr>\n",
       "      <th>0</th>\n",
       "      <td>7</td>\n",
       "      <td>15.000000</td>\n",
       "      <td>2.445961</td>\n",
       "      <td>0.000000</td>\n",
       "      <td>19.056487</td>\n",
       "      <td>4.545455</td>\n",
       "      <td>8.268734</td>\n",
       "      <td>2.547771</td>\n",
       "      <td>1.659751</td>\n",
       "    </tr>\n",
       "    <tr>\n",
       "      <th>1</th>\n",
       "      <td>23</td>\n",
       "      <td>12.142857</td>\n",
       "      <td>16.325370</td>\n",
       "      <td>16.071429</td>\n",
       "      <td>18.621974</td>\n",
       "      <td>17.914439</td>\n",
       "      <td>20.025840</td>\n",
       "      <td>18.471338</td>\n",
       "      <td>20.331950</td>\n",
       "    </tr>\n",
       "  </tbody>\n",
       "</table>\n",
       "</div>"
      ],
      "text/plain": [
       "   labels  percentage_clusters_hbo  percentage_clusters_claro  \\\n",
       "0       7                15.000000                   2.445961   \n",
       "1      23                12.142857                  16.325370   \n",
       "\n",
       "   percentage_clusters_sony  percentage_clusters_netflix  \\\n",
       "0                  0.000000                    19.056487   \n",
       "1                 16.071429                    18.621974   \n",
       "\n",
       "   percentage_clusters_flow  percentage_clusters_amazon  \\\n",
       "0                  4.545455                    8.268734   \n",
       "1                 17.914439                   20.025840   \n",
       "\n",
       "   percentage_clusters_on_video  percentage_clusters_fox  \n",
       "0                      2.547771                 1.659751  \n",
       "1                     18.471338                20.331950  "
      ]
     },
     "execution_count": 53,
     "metadata": {},
     "output_type": "execute_result"
    }
   ],
   "source": [
    "df_clusters_final.head(2)"
   ]
  },
  {
   "cell_type": "code",
   "execution_count": 54,
   "metadata": {},
   "outputs": [
    {
     "name": "stdout",
     "output_type": "stream",
     "text": [
      "[ 7 23  4 21  8 20 12 19 10  6  0  3 15 24  9  2 11 16 14 18 13 22  5  1\n",
      " 17]\n"
     ]
    }
   ],
   "source": [
    "print(df_clusters_final['labels'].values)"
   ]
  },
  {
   "cell_type": "code",
   "execution_count": 55,
   "metadata": {},
   "outputs": [],
   "source": [
    "df_clusters_final_transpose = df_clusters_final[['percentage_clusters_hbo',\t'percentage_clusters_claro',\t'percentage_clusters_sony',\t'percentage_clusters_netflix'\t,'percentage_clusters_flow',\t'percentage_clusters_amazon',\t'percentage_clusters_on_video',\t'percentage_clusters_fox']].transpose()"
   ]
  },
  {
   "cell_type": "code",
   "execution_count": 56,
   "metadata": {},
   "outputs": [],
   "source": [
    "df_clusters_final_transpose.columns = df_clusters_final['labels'].values"
   ]
  },
  {
   "cell_type": "code",
   "execution_count": 57,
   "metadata": {},
   "outputs": [
    {
     "data": {
      "text/html": [
       "<div>\n",
       "<style scoped>\n",
       "    .dataframe tbody tr th:only-of-type {\n",
       "        vertical-align: middle;\n",
       "    }\n",
       "\n",
       "    .dataframe tbody tr th {\n",
       "        vertical-align: top;\n",
       "    }\n",
       "\n",
       "    .dataframe thead th {\n",
       "        text-align: right;\n",
       "    }\n",
       "</style>\n",
       "<table border=\"1\" class=\"dataframe\">\n",
       "  <thead>\n",
       "    <tr style=\"text-align: right;\">\n",
       "      <th></th>\n",
       "      <th>7</th>\n",
       "      <th>23</th>\n",
       "      <th>4</th>\n",
       "      <th>21</th>\n",
       "      <th>8</th>\n",
       "      <th>20</th>\n",
       "      <th>12</th>\n",
       "      <th>19</th>\n",
       "      <th>10</th>\n",
       "      <th>6</th>\n",
       "      <th>...</th>\n",
       "      <th>2</th>\n",
       "      <th>11</th>\n",
       "      <th>16</th>\n",
       "      <th>14</th>\n",
       "      <th>18</th>\n",
       "      <th>13</th>\n",
       "      <th>22</th>\n",
       "      <th>5</th>\n",
       "      <th>1</th>\n",
       "      <th>17</th>\n",
       "    </tr>\n",
       "  </thead>\n",
       "  <tbody>\n",
       "    <tr>\n",
       "      <th>percentage_clusters_hbo</th>\n",
       "      <td>15.000000</td>\n",
       "      <td>12.142857</td>\n",
       "      <td>12.142857</td>\n",
       "      <td>8.571429</td>\n",
       "      <td>8.571429</td>\n",
       "      <td>7.857143</td>\n",
       "      <td>7.857143</td>\n",
       "      <td>7.142857</td>\n",
       "      <td>5.714286</td>\n",
       "      <td>4.285714</td>\n",
       "      <td>...</td>\n",
       "      <td>0.000000</td>\n",
       "      <td>0.000000</td>\n",
       "      <td>0.000000</td>\n",
       "      <td>0.000000</td>\n",
       "      <td>0.000000</td>\n",
       "      <td>0.000000</td>\n",
       "      <td>0.0</td>\n",
       "      <td>0.0</td>\n",
       "      <td>0.0</td>\n",
       "      <td>0.0</td>\n",
       "    </tr>\n",
       "    <tr>\n",
       "      <th>percentage_clusters_claro</th>\n",
       "      <td>2.445961</td>\n",
       "      <td>16.325370</td>\n",
       "      <td>14.789534</td>\n",
       "      <td>8.646189</td>\n",
       "      <td>6.427759</td>\n",
       "      <td>2.901024</td>\n",
       "      <td>14.562002</td>\n",
       "      <td>7.565415</td>\n",
       "      <td>7.963595</td>\n",
       "      <td>5.290102</td>\n",
       "      <td>...</td>\n",
       "      <td>0.284414</td>\n",
       "      <td>0.113766</td>\n",
       "      <td>0.056883</td>\n",
       "      <td>0.113766</td>\n",
       "      <td>0.056883</td>\n",
       "      <td>0.056883</td>\n",
       "      <td>0.0</td>\n",
       "      <td>0.0</td>\n",
       "      <td>0.0</td>\n",
       "      <td>0.0</td>\n",
       "    </tr>\n",
       "  </tbody>\n",
       "</table>\n",
       "<p>2 rows × 25 columns</p>\n",
       "</div>"
      ],
      "text/plain": [
       "                                  7          23         4         21  \\\n",
       "percentage_clusters_hbo    15.000000  12.142857  12.142857  8.571429   \n",
       "percentage_clusters_claro   2.445961  16.325370  14.789534  8.646189   \n",
       "\n",
       "                                 8         20         12        19        10  \\\n",
       "percentage_clusters_hbo    8.571429  7.857143   7.857143  7.142857  5.714286   \n",
       "percentage_clusters_claro  6.427759  2.901024  14.562002  7.565415  7.963595   \n",
       "\n",
       "                                 6  ...         2         11        16  \\\n",
       "percentage_clusters_hbo    4.285714 ...   0.000000  0.000000  0.000000   \n",
       "percentage_clusters_claro  5.290102 ...   0.284414  0.113766  0.056883   \n",
       "\n",
       "                                 14        18        13   22   5    1    17  \n",
       "percentage_clusters_hbo    0.000000  0.000000  0.000000  0.0  0.0  0.0  0.0  \n",
       "percentage_clusters_claro  0.113766  0.056883  0.056883  0.0  0.0  0.0  0.0  \n",
       "\n",
       "[2 rows x 25 columns]"
      ]
     },
     "execution_count": 57,
     "metadata": {},
     "output_type": "execute_result"
    }
   ],
   "source": [
    "df_clusters_final_transpose.head(2)"
   ]
  },
  {
   "cell_type": "code",
   "execution_count": 58,
   "metadata": {},
   "outputs": [],
   "source": [
    "df_numpy_array_platforms = df_clusters_final_transpose.values"
   ]
  },
  {
   "cell_type": "code",
   "execution_count": 59,
   "metadata": {},
   "outputs": [
    {
     "name": "stdout",
     "output_type": "stream",
     "text": [
      "[[15.         12.14285714 12.14285714  8.57142857  8.57142857  7.85714286\n",
      "   7.85714286  7.14285714  5.71428571  4.28571429  4.28571429  3.57142857\n",
      "   2.14285714  0.71428571  0.          0.          0.          0.\n",
      "   0.          0.          0.          0.          0.          0.\n",
      "   0.        ]\n",
      " [ 2.44596132 16.32536974 14.78953356  8.64618885  6.42775882  2.90102389\n",
      "  14.56200228  7.56541524  7.96359499  5.29010239  3.69738339  4.89192264\n",
      "   3.24232082  0.17064846  0.39817975  0.28441411  0.11376564  0.05688282\n",
      "   0.11376564  0.05688282  0.05688282  0.          0.          0.\n",
      "   0.        ]\n",
      " [ 0.         16.07142857 14.28571429  7.14285714 23.21428571  0.\n",
      "  12.5         0.         14.28571429  5.35714286  3.57142857  3.57142857\n",
      "   0.          0.          0.          0.          0.          0.\n",
      "   0.          0.          0.          0.          0.          0.\n",
      "   0.        ]\n",
      " [19.05648665 18.62197393 10.73867163  6.64183737  5.09000621  2.6691496\n",
      "   9.4972067   7.20049659  4.90378647  2.85536934  7.44878957  2.79329609\n",
      "   1.92427064  0.          0.06207325  0.12414649  0.          0.\n",
      "   0.          0.18621974  0.          0.          0.18621974  0.\n",
      "   0.        ]\n",
      " [ 4.54545455 17.9144385  14.70588235  5.34759358  8.55614973  2.40641711\n",
      "  12.03208556  8.28877005  7.48663102  2.67379679  7.21925134  3.74331551\n",
      "   3.74331551  0.26737968  0.80213904  0.          0.          0.\n",
      "   0.          0.          0.          0.          0.          0.26737968\n",
      "   0.        ]\n",
      " [ 8.26873385 20.02583979 13.17829457  6.97674419  5.29715762  2.45478036\n",
      "  10.33591731 13.43669251  3.48837209  2.84237726  6.84754522  3.48837209\n",
      "   2.19638243  0.          0.51679587  0.25839793  0.          0.\n",
      "   0.          0.          0.          0.3875969   0.          0.\n",
      "   0.        ]\n",
      " [ 2.5477707  18.47133758 12.42038217  7.32484076  6.36942675  4.45859873\n",
      "  13.05732484  4.77707006  8.91719745  7.00636943  2.5477707   5.0955414\n",
      "   3.82165605  0.          0.31847134  2.22929936  0.31847134  0.\n",
      "   0.          0.          0.          0.          0.          0.\n",
      "   0.31847134]\n",
      " [ 1.65975104 20.33195021 11.61825726  4.56431535  4.14937759  4.14937759\n",
      "  18.67219917  6.63900415  4.56431535  6.22406639  5.80912863  5.80912863\n",
      "   4.14937759  0.          0.          0.82987552  0.          0.\n",
      "   0.41493776  0.          0.          0.          0.41493776  0.\n",
      "   0.        ]]\n"
     ]
    }
   ],
   "source": [
    "print(df_numpy_array_platforms)"
   ]
  },
  {
   "cell_type": "code",
   "execution_count": 61,
   "metadata": {},
   "outputs": [],
   "source": [
    "# ===> Graficamos las 8 plataformas en un espacio de dos dimensiones\n",
    "\n",
    "from sklearn.manifold import TSNE\n",
    "\n",
    "tsne = TSNE(n_components=2, perplexity=10, metric = 'cosine')\n",
    "#tsne = TSNE(perplexity = 10, metric='precomputed', random_state = 12)\n",
    "\n",
    "result = tsne.fit_transform(df_numpy_array_platforms)\n"
   ]
  },
  {
   "cell_type": "code",
   "execution_count": 62,
   "metadata": {},
   "outputs": [],
   "source": [
    "platforms = ['HBO', 'Claro', 'Sony', 'Netflix', 'Flow', 'Amazon', 'On Video', 'Fox']"
   ]
  },
  {
   "cell_type": "code",
   "execution_count": 65,
   "metadata": {},
   "outputs": [
    {
     "data": {
      "image/png": "[encoded data removed]",
      "text/plain": [
       "<Figure size 720x720 with 1 Axes>"
      ]
     },
     "metadata": {},
     "output_type": "display_data"
    }
   ],
   "source": [
    "import matplotlib.pyplot as plt\n",
    "\n",
    "# ===> La forma que se genera parece demasiado simetrica. Es raro, no?\n",
    "\n",
    "fig, ax = plt.subplots(figsize=(10,10))\n",
    "\n",
    "plt.scatter(result[:,0], result[:,1])\n",
    "\n",
    "for i, txt in enumerate(platforms):\n",
    "    ax.annotate(txt, (result[i,0], result[i,1]))"
   ]
  },
  {
   "cell_type": "code",
   "execution_count": 66,
   "metadata": {},
   "outputs": [],
   "source": [
    "from sklearn.decomposition import TruncatedSVD\n",
    "svd = TruncatedSVD(2)\n",
    "clusters_transformed = svd.fit_transform(df_numpy_array_platforms)"
   ]
  },
  {
   "cell_type": "code",
   "execution_count": 67,
   "metadata": {},
   "outputs": [
    {
     "name": "stdout",
     "output_type": "stream",
     "text": [
      "[[ 28.06116711  -6.92438856]\n",
      " [ 31.40768015   2.32489343]\n",
      " [ 33.02195642  17.56805548]\n",
      " [ 30.71016004 -11.91940434]\n",
      " [ 31.64401592   0.55388112]\n",
      " [ 31.77069224  -6.99400647]\n",
      " [ 30.68132825   3.07467255]\n",
      " [ 32.11747362   0.54626132]]\n"
     ]
    }
   ],
   "source": [
    "print(clusters_transformed)"
   ]
  },
  {
   "cell_type": "code",
   "execution_count": 70,
   "metadata": {},
   "outputs": [
    {
     "data": {
      "image/png": "[encoded data removed]",
      "text/plain": [
       "<Figure size 720x720 with 1 Axes>"
      ]
     },
     "metadata": {},
     "output_type": "display_data"
    }
   ],
   "source": [
    "fig, ax = plt.subplots(figsize=(10,10))\n",
    "\n",
    "plt.scatter(clusters_transformed[:,0], clusters_transformed[:,1])\n",
    "\n",
    "for i, txt in enumerate(platforms):\n",
    "    ax.annotate(txt, (clusters_transformed[i,0], clusters_transformed[i,1]))"
   ]
  },
  {
   "cell_type": "code",
   "execution_count": 75,
   "metadata": {},
   "outputs": [
    {
     "data": {
      "text/html": [
       "<div>\n",
       "<style scoped>\n",
       "    .dataframe tbody tr th:only-of-type {\n",
       "        vertical-align: middle;\n",
       "    }\n",
       "\n",
       "    .dataframe tbody tr th {\n",
       "        vertical-align: top;\n",
       "    }\n",
       "\n",
       "    .dataframe thead th {\n",
       "        text-align: right;\n",
       "    }\n",
       "</style>\n",
       "<table border=\"1\" class=\"dataframe\">\n",
       "  <thead>\n",
       "    <tr style=\"text-align: right;\">\n",
       "      <th></th>\n",
       "      <th>7</th>\n",
       "      <th>23</th>\n",
       "      <th>4</th>\n",
       "      <th>21</th>\n",
       "      <th>8</th>\n",
       "      <th>20</th>\n",
       "      <th>12</th>\n",
       "      <th>19</th>\n",
       "      <th>10</th>\n",
       "      <th>6</th>\n",
       "      <th>...</th>\n",
       "      <th>2</th>\n",
       "      <th>11</th>\n",
       "      <th>16</th>\n",
       "      <th>14</th>\n",
       "      <th>18</th>\n",
       "      <th>13</th>\n",
       "      <th>22</th>\n",
       "      <th>5</th>\n",
       "      <th>1</th>\n",
       "      <th>17</th>\n",
       "    </tr>\n",
       "  </thead>\n",
       "  <tbody>\n",
       "    <tr>\n",
       "      <th>percentage_clusters_hbo</th>\n",
       "      <td>15.000000</td>\n",
       "      <td>12.142857</td>\n",
       "      <td>12.142857</td>\n",
       "      <td>8.571429</td>\n",
       "      <td>8.571429</td>\n",
       "      <td>7.857143</td>\n",
       "      <td>7.857143</td>\n",
       "      <td>7.142857</td>\n",
       "      <td>5.714286</td>\n",
       "      <td>4.285714</td>\n",
       "      <td>...</td>\n",
       "      <td>0.000000</td>\n",
       "      <td>0.000000</td>\n",
       "      <td>0.000000</td>\n",
       "      <td>0.000000</td>\n",
       "      <td>0.000000</td>\n",
       "      <td>0.000000</td>\n",
       "      <td>0.000000</td>\n",
       "      <td>0.000000</td>\n",
       "      <td>0.00000</td>\n",
       "      <td>0.000000</td>\n",
       "    </tr>\n",
       "    <tr>\n",
       "      <th>percentage_clusters_claro</th>\n",
       "      <td>2.445961</td>\n",
       "      <td>16.325370</td>\n",
       "      <td>14.789534</td>\n",
       "      <td>8.646189</td>\n",
       "      <td>6.427759</td>\n",
       "      <td>2.901024</td>\n",
       "      <td>14.562002</td>\n",
       "      <td>7.565415</td>\n",
       "      <td>7.963595</td>\n",
       "      <td>5.290102</td>\n",
       "      <td>...</td>\n",
       "      <td>0.284414</td>\n",
       "      <td>0.113766</td>\n",
       "      <td>0.056883</td>\n",
       "      <td>0.113766</td>\n",
       "      <td>0.056883</td>\n",
       "      <td>0.056883</td>\n",
       "      <td>0.000000</td>\n",
       "      <td>0.000000</td>\n",
       "      <td>0.00000</td>\n",
       "      <td>0.000000</td>\n",
       "    </tr>\n",
       "    <tr>\n",
       "      <th>percentage_clusters_sony</th>\n",
       "      <td>0.000000</td>\n",
       "      <td>16.071429</td>\n",
       "      <td>14.285714</td>\n",
       "      <td>7.142857</td>\n",
       "      <td>23.214286</td>\n",
       "      <td>0.000000</td>\n",
       "      <td>12.500000</td>\n",
       "      <td>0.000000</td>\n",
       "      <td>14.285714</td>\n",
       "      <td>5.357143</td>\n",
       "      <td>...</td>\n",
       "      <td>0.000000</td>\n",
       "      <td>0.000000</td>\n",
       "      <td>0.000000</td>\n",
       "      <td>0.000000</td>\n",
       "      <td>0.000000</td>\n",
       "      <td>0.000000</td>\n",
       "      <td>0.000000</td>\n",
       "      <td>0.000000</td>\n",
       "      <td>0.00000</td>\n",
       "      <td>0.000000</td>\n",
       "    </tr>\n",
       "    <tr>\n",
       "      <th>percentage_clusters_netflix</th>\n",
       "      <td>19.056487</td>\n",
       "      <td>18.621974</td>\n",
       "      <td>10.738672</td>\n",
       "      <td>6.641837</td>\n",
       "      <td>5.090006</td>\n",
       "      <td>2.669150</td>\n",
       "      <td>9.497207</td>\n",
       "      <td>7.200497</td>\n",
       "      <td>4.903786</td>\n",
       "      <td>2.855369</td>\n",
       "      <td>...</td>\n",
       "      <td>0.124146</td>\n",
       "      <td>0.000000</td>\n",
       "      <td>0.000000</td>\n",
       "      <td>0.000000</td>\n",
       "      <td>0.186220</td>\n",
       "      <td>0.000000</td>\n",
       "      <td>0.000000</td>\n",
       "      <td>0.186220</td>\n",
       "      <td>0.00000</td>\n",
       "      <td>0.000000</td>\n",
       "    </tr>\n",
       "    <tr>\n",
       "      <th>percentage_clusters_flow</th>\n",
       "      <td>4.545455</td>\n",
       "      <td>17.914439</td>\n",
       "      <td>14.705882</td>\n",
       "      <td>5.347594</td>\n",
       "      <td>8.556150</td>\n",
       "      <td>2.406417</td>\n",
       "      <td>12.032086</td>\n",
       "      <td>8.288770</td>\n",
       "      <td>7.486631</td>\n",
       "      <td>2.673797</td>\n",
       "      <td>...</td>\n",
       "      <td>0.000000</td>\n",
       "      <td>0.000000</td>\n",
       "      <td>0.000000</td>\n",
       "      <td>0.000000</td>\n",
       "      <td>0.000000</td>\n",
       "      <td>0.000000</td>\n",
       "      <td>0.000000</td>\n",
       "      <td>0.000000</td>\n",
       "      <td>0.26738</td>\n",
       "      <td>0.000000</td>\n",
       "    </tr>\n",
       "    <tr>\n",
       "      <th>percentage_clusters_amazon</th>\n",
       "      <td>8.268734</td>\n",
       "      <td>20.025840</td>\n",
       "      <td>13.178295</td>\n",
       "      <td>6.976744</td>\n",
       "      <td>5.297158</td>\n",
       "      <td>2.454780</td>\n",
       "      <td>10.335917</td>\n",
       "      <td>13.436693</td>\n",
       "      <td>3.488372</td>\n",
       "      <td>2.842377</td>\n",
       "      <td>...</td>\n",
       "      <td>0.258398</td>\n",
       "      <td>0.000000</td>\n",
       "      <td>0.000000</td>\n",
       "      <td>0.000000</td>\n",
       "      <td>0.000000</td>\n",
       "      <td>0.000000</td>\n",
       "      <td>0.387597</td>\n",
       "      <td>0.000000</td>\n",
       "      <td>0.00000</td>\n",
       "      <td>0.000000</td>\n",
       "    </tr>\n",
       "    <tr>\n",
       "      <th>percentage_clusters_on_video</th>\n",
       "      <td>2.547771</td>\n",
       "      <td>18.471338</td>\n",
       "      <td>12.420382</td>\n",
       "      <td>7.324841</td>\n",
       "      <td>6.369427</td>\n",
       "      <td>4.458599</td>\n",
       "      <td>13.057325</td>\n",
       "      <td>4.777070</td>\n",
       "      <td>8.917197</td>\n",
       "      <td>7.006369</td>\n",
       "      <td>...</td>\n",
       "      <td>2.229299</td>\n",
       "      <td>0.318471</td>\n",
       "      <td>0.000000</td>\n",
       "      <td>0.000000</td>\n",
       "      <td>0.000000</td>\n",
       "      <td>0.000000</td>\n",
       "      <td>0.000000</td>\n",
       "      <td>0.000000</td>\n",
       "      <td>0.00000</td>\n",
       "      <td>0.318471</td>\n",
       "    </tr>\n",
       "    <tr>\n",
       "      <th>percentage_clusters_fox</th>\n",
       "      <td>1.659751</td>\n",
       "      <td>20.331950</td>\n",
       "      <td>11.618257</td>\n",
       "      <td>4.564315</td>\n",
       "      <td>4.149378</td>\n",
       "      <td>4.149378</td>\n",
       "      <td>18.672199</td>\n",
       "      <td>6.639004</td>\n",
       "      <td>4.564315</td>\n",
       "      <td>6.224066</td>\n",
       "      <td>...</td>\n",
       "      <td>0.829876</td>\n",
       "      <td>0.000000</td>\n",
       "      <td>0.000000</td>\n",
       "      <td>0.414938</td>\n",
       "      <td>0.000000</td>\n",
       "      <td>0.000000</td>\n",
       "      <td>0.000000</td>\n",
       "      <td>0.414938</td>\n",
       "      <td>0.00000</td>\n",
       "      <td>0.000000</td>\n",
       "    </tr>\n",
       "  </tbody>\n",
       "</table>\n",
       "<p>8 rows × 25 columns</p>\n",
       "</div>"
      ],
      "text/plain": [
       "                                     7          23         4         21  \\\n",
       "percentage_clusters_hbo       15.000000  12.142857  12.142857  8.571429   \n",
       "percentage_clusters_claro      2.445961  16.325370  14.789534  8.646189   \n",
       "percentage_clusters_sony       0.000000  16.071429  14.285714  7.142857   \n",
       "percentage_clusters_netflix   19.056487  18.621974  10.738672  6.641837   \n",
       "percentage_clusters_flow       4.545455  17.914439  14.705882  5.347594   \n",
       "percentage_clusters_amazon     8.268734  20.025840  13.178295  6.976744   \n",
       "percentage_clusters_on_video   2.547771  18.471338  12.420382  7.324841   \n",
       "percentage_clusters_fox        1.659751  20.331950  11.618257  4.564315   \n",
       "\n",
       "                                     8         20         12         19  \\\n",
       "percentage_clusters_hbo        8.571429  7.857143   7.857143   7.142857   \n",
       "percentage_clusters_claro      6.427759  2.901024  14.562002   7.565415   \n",
       "percentage_clusters_sony      23.214286  0.000000  12.500000   0.000000   \n",
       "percentage_clusters_netflix    5.090006  2.669150   9.497207   7.200497   \n",
       "percentage_clusters_flow       8.556150  2.406417  12.032086   8.288770   \n",
       "percentage_clusters_amazon     5.297158  2.454780  10.335917  13.436693   \n",
       "percentage_clusters_on_video   6.369427  4.458599  13.057325   4.777070   \n",
       "percentage_clusters_fox        4.149378  4.149378  18.672199   6.639004   \n",
       "\n",
       "                                     10        6     ...           2   \\\n",
       "percentage_clusters_hbo        5.714286  4.285714    ...     0.000000   \n",
       "percentage_clusters_claro      7.963595  5.290102    ...     0.284414   \n",
       "percentage_clusters_sony      14.285714  5.357143    ...     0.000000   \n",
       "percentage_clusters_netflix    4.903786  2.855369    ...     0.124146   \n",
       "percentage_clusters_flow       7.486631  2.673797    ...     0.000000   \n",
       "percentage_clusters_amazon     3.488372  2.842377    ...     0.258398   \n",
       "percentage_clusters_on_video   8.917197  7.006369    ...     2.229299   \n",
       "percentage_clusters_fox        4.564315  6.224066    ...     0.829876   \n",
       "\n",
       "                                    11        16        14        18  \\\n",
       "percentage_clusters_hbo       0.000000  0.000000  0.000000  0.000000   \n",
       "percentage_clusters_claro     0.113766  0.056883  0.113766  0.056883   \n",
       "percentage_clusters_sony      0.000000  0.000000  0.000000  0.000000   \n",
       "percentage_clusters_netflix   0.000000  0.000000  0.000000  0.186220   \n",
       "percentage_clusters_flow      0.000000  0.000000  0.000000  0.000000   \n",
       "percentage_clusters_amazon    0.000000  0.000000  0.000000  0.000000   \n",
       "percentage_clusters_on_video  0.318471  0.000000  0.000000  0.000000   \n",
       "percentage_clusters_fox       0.000000  0.000000  0.414938  0.000000   \n",
       "\n",
       "                                    13        22        5        1         17  \n",
       "percentage_clusters_hbo       0.000000  0.000000  0.000000  0.00000  0.000000  \n",
       "percentage_clusters_claro     0.056883  0.000000  0.000000  0.00000  0.000000  \n",
       "percentage_clusters_sony      0.000000  0.000000  0.000000  0.00000  0.000000  \n",
       "percentage_clusters_netflix   0.000000  0.000000  0.186220  0.00000  0.000000  \n",
       "percentage_clusters_flow      0.000000  0.000000  0.000000  0.26738  0.000000  \n",
       "percentage_clusters_amazon    0.000000  0.387597  0.000000  0.00000  0.000000  \n",
       "percentage_clusters_on_video  0.000000  0.000000  0.000000  0.00000  0.318471  \n",
       "percentage_clusters_fox       0.000000  0.000000  0.414938  0.00000  0.000000  \n",
       "\n",
       "[8 rows x 25 columns]"
      ]
     },
     "execution_count": 75,
     "metadata": {},
     "output_type": "execute_result"
    }
   ],
   "source": [
    "df_clusters_final_transpose"
   ]
  },
  {
   "cell_type": "code",
   "execution_count": 92,
   "metadata": {},
   "outputs": [
    {
     "data": {
      "text/html": [
       "<div>\n",
       "<style scoped>\n",
       "    .dataframe tbody tr th:only-of-type {\n",
       "        vertical-align: middle;\n",
       "    }\n",
       "\n",
       "    .dataframe tbody tr th {\n",
       "        vertical-align: top;\n",
       "    }\n",
       "\n",
       "    .dataframe thead th {\n",
       "        text-align: right;\n",
       "    }\n",
       "</style>\n",
       "<table border=\"1\" class=\"dataframe\">\n",
       "  <thead>\n",
       "    <tr style=\"text-align: right;\">\n",
       "      <th></th>\n",
       "      <th>labels</th>\n",
       "      <th>percentage_clusters_hbo</th>\n",
       "      <th>percentage_clusters_claro</th>\n",
       "      <th>percentage_clusters_sony</th>\n",
       "      <th>percentage_clusters_netflix</th>\n",
       "      <th>percentage_clusters_flow</th>\n",
       "      <th>percentage_clusters_amazon</th>\n",
       "      <th>percentage_clusters_on_video</th>\n",
       "      <th>percentage_clusters_fox</th>\n",
       "    </tr>\n",
       "  </thead>\n",
       "  <tbody>\n",
       "    <tr>\n",
       "      <th>0</th>\n",
       "      <td>7</td>\n",
       "      <td>15.000000</td>\n",
       "      <td>2.445961</td>\n",
       "      <td>0.000000</td>\n",
       "      <td>19.056487</td>\n",
       "      <td>4.545455</td>\n",
       "      <td>8.268734</td>\n",
       "      <td>2.547771</td>\n",
       "      <td>1.659751</td>\n",
       "    </tr>\n",
       "    <tr>\n",
       "      <th>1</th>\n",
       "      <td>23</td>\n",
       "      <td>12.142857</td>\n",
       "      <td>16.325370</td>\n",
       "      <td>16.071429</td>\n",
       "      <td>18.621974</td>\n",
       "      <td>17.914439</td>\n",
       "      <td>20.025840</td>\n",
       "      <td>18.471338</td>\n",
       "      <td>20.331950</td>\n",
       "    </tr>\n",
       "  </tbody>\n",
       "</table>\n",
       "</div>"
      ],
      "text/plain": [
       "   labels  percentage_clusters_hbo  percentage_clusters_claro  \\\n",
       "0       7                15.000000                   2.445961   \n",
       "1      23                12.142857                  16.325370   \n",
       "\n",
       "   percentage_clusters_sony  percentage_clusters_netflix  \\\n",
       "0                  0.000000                    19.056487   \n",
       "1                 16.071429                    18.621974   \n",
       "\n",
       "   percentage_clusters_flow  percentage_clusters_amazon  \\\n",
       "0                  4.545455                    8.268734   \n",
       "1                 17.914439                   20.025840   \n",
       "\n",
       "   percentage_clusters_on_video  percentage_clusters_fox  \n",
       "0                      2.547771                 1.659751  \n",
       "1                     18.471338                20.331950  "
      ]
     },
     "execution_count": 92,
     "metadata": {},
     "output_type": "execute_result"
    }
   ],
   "source": [
    "df_clusters_final.head(2)"
   ]
  },
  {
   "cell_type": "code",
   "execution_count": 77,
   "metadata": {},
   "outputs": [],
   "source": [
    "df_clusters_final_comparison = df_clusters_final.copy()"
   ]
  },
  {
   "cell_type": "code",
   "execution_count": 78,
   "metadata": {},
   "outputs": [],
   "source": [
    "df_clusters_final_comparison['claro_flow'] = df_clusters_final_comparison['percentage_clusters_claro'] - df_clusters_final_comparison['percentage_clusters_flow']"
   ]
  },
  {
   "cell_type": "code",
   "execution_count": 90,
   "metadata": {
    "scrolled": true
   },
   "outputs": [
    {
     "data": {
      "text/plain": [
       "<matplotlib.axes._subplots.AxesSubplot at 0x1943c77e208>"
      ]
     },
     "execution_count": 90,
     "metadata": {},
     "output_type": "execute_result"
    },
    {
     "data": {
      "image/png": "[encoded data removed]",
      "text/plain": [
       "<Figure size 576x576 with 1 Axes>"
      ]
     },
     "metadata": {},
     "output_type": "display_data"
    }
   ],
   "source": [
    "df_clusters_final_comparison.sort_values(by='claro_flow', ascending=False).plot(\"labels\", \"claro_flow\", kind=\"barh\", color=sns.color_palette(\"deep\", 1), figsize=(8,8))"
   ]
  },
  {
   "cell_type": "code",
   "execution_count": 87,
   "metadata": {},
   "outputs": [],
   "source": [
    "df_clusters_final_comparison['claro_netflix'] = df_clusters_final_comparison['percentage_clusters_claro'] - df_clusters_final_comparison['percentage_clusters_netflix']"
   ]
  },
  {
   "cell_type": "code",
   "execution_count": 91,
   "metadata": {},
   "outputs": [
    {
     "data": {
      "text/plain": [
       "<matplotlib.axes._subplots.AxesSubplot at 0x1943f444d30>"
      ]
     },
     "execution_count": 91,
     "metadata": {},
     "output_type": "execute_result"
    },
    {
     "data": {
      "image/png": "[encoded data removed]",
      "text/plain": [
       "<Figure size 576x576 with 1 Axes>"
      ]
     },
     "metadata": {},
     "output_type": "display_data"
    }
   ],
   "source": [
    "df_clusters_final_comparison.sort_values(by='claro_netflix', ascending=False).plot(\"labels\", \"claro_netflix\", kind=\"barh\", color=sns.color_palette(\"deep\", 1),figsize=(8,8))"
   ]
  },
  {
   "cell_type": "code",
   "execution_count": null,
   "metadata": {},
   "outputs": [],
   "source": []
  }
 ],
 "metadata": {
  "kernelspec": {
   "display_name": "Python 3",
   "language": "python",
   "name": "python3"
  },
  "language_info": {
   "codemirror_mode": {
    "name": "ipython",
    "version": 3
   },
   "file_extension": ".py",
   "mimetype": "text/x-python",
   "name": "python",
   "nbconvert_exporter": "python",
   "pygments_lexer": "ipython3",
   "version": "3.7.0"
  }
 },
 "nbformat": 4,
 "nbformat_minor": 2
}
