{
 "cells": [
  {
   "cell_type": "code",
   "execution_count": 1,
   "metadata": {},
   "outputs": [],
   "source": [
    "import numpy as np\n",
    "import pandas as pd"
   ]
  },
  {
   "cell_type": "code",
   "execution_count": 2,
   "metadata": {},
   "outputs": [],
   "source": [
    "df_hbo = pd.read_csv('hbo.csv')\n",
    "df_claro = pd.read_csv('claro.csv')\n",
    "df_sony = pd.read_csv('sony.csv')\n",
    "df_netflix = pd.read_csv('netflix.csv')\n",
    "df_flow = pd.read_csv('flow.csv')\n",
    "df_amazon = pd.read_csv('amazon.csv')\n",
    "df_on_video = pd.read_csv('on_video.csv')\n",
    "df_fox = pd.read_csv('fox.csv')"
   ]
  },
  {
   "cell_type": "code",
   "execution_count": 3,
   "metadata": {},
   "outputs": [
    {
     "data": {
      "text/html": [
       "<div>\n",
       "<style scoped>\n",
       "    .dataframe tbody tr th:only-of-type {\n",
       "        vertical-align: middle;\n",
       "    }\n",
       "\n",
       "    .dataframe tbody tr th {\n",
       "        vertical-align: top;\n",
       "    }\n",
       "\n",
       "    .dataframe thead th {\n",
       "        text-align: right;\n",
       "    }\n",
       "</style>\n",
       "<table border=\"1\" class=\"dataframe\">\n",
       "  <thead>\n",
       "    <tr style=\"text-align: right;\">\n",
       "      <th></th>\n",
       "      <th>Unnamed: 0</th>\n",
       "      <th>Unnamed: 0.1</th>\n",
       "      <th>id</th>\n",
       "      <th>title</th>\n",
       "      <th>title_original</th>\n",
       "      <th>genres</th>\n",
       "      <th>director</th>\n",
       "      <th>keywords</th>\n",
       "      <th>cast</th>\n",
       "      <th>genre_empty</th>\n",
       "    </tr>\n",
       "  </thead>\n",
       "  <tbody>\n",
       "    <tr>\n",
       "      <th>0</th>\n",
       "      <td>0</td>\n",
       "      <td>0</td>\n",
       "      <td>1183</td>\n",
       "      <td>2 Fast 2 Furious: A todo gas 2</td>\n",
       "      <td>2 Fast 2 Furious</td>\n",
       "      <td>['Acción', 'Crimen', 'Suspense']</td>\n",
       "      <td>['John Singleton']</td>\n",
       "      <td>['miami', 'car race', 'sports car', 'los angel...</td>\n",
       "      <td>['Paul Walker', 'Tyrese Gibson', 'Eva Mendes',...</td>\n",
       "      <td>32</td>\n",
       "    </tr>\n",
       "    <tr>\n",
       "      <th>1</th>\n",
       "      <td>2</td>\n",
       "      <td>2</td>\n",
       "      <td>1457</td>\n",
       "      <td>21 gramos</td>\n",
       "      <td>21 Grams</td>\n",
       "      <td>['Drama', 'Crimen', 'Suspense']</td>\n",
       "      <td>['Alejandro González Iñárritu']</td>\n",
       "      <td>['life and death', 'loss of loved one', 'trans...</td>\n",
       "      <td>['Sean Penn', 'Naomi Watts', 'Benicio del Toro...</td>\n",
       "      <td>31</td>\n",
       "    </tr>\n",
       "  </tbody>\n",
       "</table>\n",
       "</div>"
      ],
      "text/plain": [
       "   Unnamed: 0  Unnamed: 0.1    id                           title  \\\n",
       "0           0             0  1183  2 Fast 2 Furious: A todo gas 2   \n",
       "1           2             2  1457                       21 gramos   \n",
       "\n",
       "     title_original                            genres  \\\n",
       "0  2 Fast 2 Furious  ['Acción', 'Crimen', 'Suspense']   \n",
       "1          21 Grams   ['Drama', 'Crimen', 'Suspense']   \n",
       "\n",
       "                          director  \\\n",
       "0               ['John Singleton']   \n",
       "1  ['Alejandro González Iñárritu']   \n",
       "\n",
       "                                            keywords  \\\n",
       "0  ['miami', 'car race', 'sports car', 'los angel...   \n",
       "1  ['life and death', 'loss of loved one', 'trans...   \n",
       "\n",
       "                                                cast  genre_empty  \n",
       "0  ['Paul Walker', 'Tyrese Gibson', 'Eva Mendes',...           32  \n",
       "1  ['Sean Penn', 'Naomi Watts', 'Benicio del Toro...           31  "
      ]
     },
     "execution_count": 3,
     "metadata": {},
     "output_type": "execute_result"
    }
   ],
   "source": [
    "df_hbo.head(2)"
   ]
  },
  {
   "cell_type": "code",
   "execution_count": 4,
   "metadata": {},
   "outputs": [
    {
     "data": {
      "text/html": [
       "<div>\n",
       "<style scoped>\n",
       "    .dataframe tbody tr th:only-of-type {\n",
       "        vertical-align: middle;\n",
       "    }\n",
       "\n",
       "    .dataframe tbody tr th {\n",
       "        vertical-align: top;\n",
       "    }\n",
       "\n",
       "    .dataframe thead th {\n",
       "        text-align: right;\n",
       "    }\n",
       "</style>\n",
       "<table border=\"1\" class=\"dataframe\">\n",
       "  <thead>\n",
       "    <tr style=\"text-align: right;\">\n",
       "      <th></th>\n",
       "      <th>Unnamed: 0</th>\n",
       "      <th>Unnamed: 0.1</th>\n",
       "      <th>id</th>\n",
       "      <th>title</th>\n",
       "      <th>title_original</th>\n",
       "      <th>genres</th>\n",
       "      <th>director</th>\n",
       "      <th>keywords</th>\n",
       "      <th>cast</th>\n",
       "      <th>genre_empty</th>\n",
       "    </tr>\n",
       "  </thead>\n",
       "  <tbody>\n",
       "    <tr>\n",
       "      <th>0</th>\n",
       "      <td>0</td>\n",
       "      <td>0</td>\n",
       "      <td>44</td>\n",
       "      <td>500 dias juntos</td>\n",
       "      <td>(500) Days of Summer</td>\n",
       "      <td>['Comedia', 'Drama', 'Romance']</td>\n",
       "      <td>['Marc Webb']</td>\n",
       "      <td>['date', 'jealousy', 'fight', 'architect', 'ga...</td>\n",
       "      <td>['Joseph Gordon-Levitt', 'Zooey Deschanel', 'C...</td>\n",
       "      <td>31</td>\n",
       "    </tr>\n",
       "    <tr>\n",
       "      <th>1</th>\n",
       "      <td>2</td>\n",
       "      <td>2</td>\n",
       "      <td>49</td>\n",
       "      <td>Nuestros maravillosos aliados</td>\n",
       "      <td>*batteries not included</td>\n",
       "      <td>['Comedia', 'Familia', 'Fantasía', 'Ciencia fi...</td>\n",
       "      <td>['Matthew Robbins']</td>\n",
       "      <td>['extraterrestrial technology', 'alien life-fo...</td>\n",
       "      <td>['Hume Cronyn', 'Jessica Tandy', 'Frank McRae'...</td>\n",
       "      <td>53</td>\n",
       "    </tr>\n",
       "  </tbody>\n",
       "</table>\n",
       "</div>"
      ],
      "text/plain": [
       "   Unnamed: 0  Unnamed: 0.1  id                          title  \\\n",
       "0           0             0  44                500 dias juntos   \n",
       "1           2             2  49  Nuestros maravillosos aliados   \n",
       "\n",
       "            title_original                                             genres  \\\n",
       "0     (500) Days of Summer                    ['Comedia', 'Drama', 'Romance']   \n",
       "1  *batteries not included  ['Comedia', 'Familia', 'Fantasía', 'Ciencia fi...   \n",
       "\n",
       "              director                                           keywords  \\\n",
       "0        ['Marc Webb']  ['date', 'jealousy', 'fight', 'architect', 'ga...   \n",
       "1  ['Matthew Robbins']  ['extraterrestrial technology', 'alien life-fo...   \n",
       "\n",
       "                                                cast  genre_empty  \n",
       "0  ['Joseph Gordon-Levitt', 'Zooey Deschanel', 'C...           31  \n",
       "1  ['Hume Cronyn', 'Jessica Tandy', 'Frank McRae'...           53  "
      ]
     },
     "execution_count": 4,
     "metadata": {},
     "output_type": "execute_result"
    }
   ],
   "source": [
    "df_claro.head(2)"
   ]
  },
  {
   "cell_type": "code",
   "execution_count": 5,
   "metadata": {},
   "outputs": [
    {
     "name": "stdout",
     "output_type": "stream",
     "text": [
      "140\n",
      "1758\n",
      "774\n",
      "1611\n",
      "374\n",
      "314\n",
      "56\n",
      "241\n"
     ]
    }
   ],
   "source": [
    "print(len(df_hbo.index))\n",
    "print(len(df_claro.index))\n",
    "print(len(df_amazon.index))\n",
    "print(len(df_netflix.index))\n",
    "print(len(df_flow.index))\n",
    "print(len(df_on_video.index))\n",
    "print(len(df_sony.index))\n",
    "print(len(df_fox.index))"
   ]
  },
  {
   "cell_type": "code",
   "execution_count": 6,
   "metadata": {},
   "outputs": [],
   "source": [
    "# ===> Unimos los diferentes dataframes\n",
    "\n",
    "frames = [df_hbo, df_claro, df_amazon, df_netflix, df_flow, df_on_video, df_sony, df_fox]\n",
    "\n",
    "df = pd.concat(frames)"
   ]
  },
  {
   "cell_type": "code",
   "execution_count": 7,
   "metadata": {},
   "outputs": [
    {
     "name": "stdout",
     "output_type": "stream",
     "text": [
      "5268\n"
     ]
    }
   ],
   "source": [
    "print(len(df.index))"
   ]
  },
  {
   "cell_type": "code",
   "execution_count": 8,
   "metadata": {},
   "outputs": [],
   "source": [
    "df = df.drop_duplicates(subset=['id'])"
   ]
  },
  {
   "cell_type": "code",
   "execution_count": 9,
   "metadata": {},
   "outputs": [],
   "source": [
    "df = df.drop_duplicates(subset=['title_original'])"
   ]
  },
  {
   "cell_type": "code",
   "execution_count": 10,
   "metadata": {},
   "outputs": [
    {
     "name": "stdout",
     "output_type": "stream",
     "text": [
      "4445\n"
     ]
    }
   ],
   "source": [
    "print(len(df.index)) # Pareciera que no se comparten tantas peliculas"
   ]
  },
  {
   "cell_type": "code",
   "execution_count": 11,
   "metadata": {},
   "outputs": [],
   "source": [
    "df['genres']=df['genres'].str.strip('[]').str.replace(' ','').str.replace(\"'\",'')\n",
    "df['genres']=df['genres'].str.split(',')\n",
    "\n",
    "df['keywords']=df['keywords'].str.strip('[]').str.replace(' ','').str.replace(\"'\",'')\n",
    "df['keywords']=df['keywords'].str.split(',')\n",
    "\n",
    "df['director']=df['director'].str.strip('[]').str.replace(' ','').str.replace(\"'\",'')\n",
    "df['director']=df['director'].str.split(',')\n",
    "\n",
    "df['cast']=df['cast'].str.strip('[]').str.replace(' ','').str.replace(\"'\",'')\n",
    "df['cast']=df['cast'].str.split(',')"
   ]
  },
  {
   "cell_type": "code",
   "execution_count": 12,
   "metadata": {},
   "outputs": [],
   "source": [
    "# ===> Vamos a crear el vector a partir de los datos en el array de una columna\n",
    "\n",
    "# ===> Creamos la lista de valores unicos\n",
    "\n",
    "def create_unique_list(dataframe, column):\n",
    "    \n",
    "    list_unique_items = []\n",
    "    \n",
    "    for index, row in dataframe.iterrows():\n",
    "        list_items = row[column]\n",
    "    \n",
    "        for item in list_items:\n",
    "            if item not in list_unique_items:\n",
    "                list_unique_items.append(item)\n",
    "            \n",
    "    return list_unique_items\n",
    "\n",
    "# ===> binary va iterar sobre los valores de un array y chequear que valores estan en la lista de valores unicos\n",
    "\n",
    "def binary(list_items, list_unique_items):\n",
    "    \n",
    "    binaryList = []\n",
    "    \n",
    "    for item in list_unique_items:\n",
    "        if item in list_items:\n",
    "            binaryList.append(1)\n",
    "        else:\n",
    "            binaryList.append(0)\n",
    "    \n",
    "    return binaryList\n",
    "\n",
    "# ===> create_vector nos va a devolver el dataframe con una nueva columna, que representa un vector binario del atributo\n",
    "# ===> en cuestion (genero, cast, director, etc)\n",
    "\n",
    "def create_vector(dataframe, column_name):\n",
    "    \n",
    "    unique_list = create_unique_list(dataframe, column_name)\n",
    "    \n",
    "    column_name_vector = column_name + '_bin'\n",
    "    \n",
    "    dataframe[column_name_vector] = dataframe[column_name].apply(lambda x: binary(x, unique_list))\n",
    "    \n",
    "    return dataframe"
   ]
  },
  {
   "cell_type": "code",
   "execution_count": 13,
   "metadata": {},
   "outputs": [
    {
     "data": {
      "text/html": [
       "<div>\n",
       "<style scoped>\n",
       "    .dataframe tbody tr th:only-of-type {\n",
       "        vertical-align: middle;\n",
       "    }\n",
       "\n",
       "    .dataframe tbody tr th {\n",
       "        vertical-align: top;\n",
       "    }\n",
       "\n",
       "    .dataframe thead th {\n",
       "        text-align: right;\n",
       "    }\n",
       "</style>\n",
       "<table border=\"1\" class=\"dataframe\">\n",
       "  <thead>\n",
       "    <tr style=\"text-align: right;\">\n",
       "      <th></th>\n",
       "      <th>Unnamed: 0</th>\n",
       "      <th>Unnamed: 0.1</th>\n",
       "      <th>id</th>\n",
       "      <th>title</th>\n",
       "      <th>title_original</th>\n",
       "      <th>genres</th>\n",
       "      <th>director</th>\n",
       "      <th>keywords</th>\n",
       "      <th>cast</th>\n",
       "      <th>genre_empty</th>\n",
       "      <th>keywords_bin</th>\n",
       "    </tr>\n",
       "  </thead>\n",
       "  <tbody>\n",
       "    <tr>\n",
       "      <th>0</th>\n",
       "      <td>0</td>\n",
       "      <td>0</td>\n",
       "      <td>1183</td>\n",
       "      <td>2 Fast 2 Furious: A todo gas 2</td>\n",
       "      <td>2 Fast 2 Furious</td>\n",
       "      <td>[Acción, Crimen, Suspense]</td>\n",
       "      <td>[JohnSingleton]</td>\n",
       "      <td>[miami, carrace, sportscar, losangeles, car, a...</td>\n",
       "      <td>[PaulWalker, TyreseGibson, EvaMendes, ColeHaus...</td>\n",
       "      <td>32</td>\n",
       "      <td>[1, 1, 1, 1, 1, 1, 0, 0, 0, 0, 0, 0, 0, 0, 0, ...</td>\n",
       "    </tr>\n",
       "    <tr>\n",
       "      <th>1</th>\n",
       "      <td>2</td>\n",
       "      <td>2</td>\n",
       "      <td>1457</td>\n",
       "      <td>21 gramos</td>\n",
       "      <td>21 Grams</td>\n",
       "      <td>[Drama, Crimen, Suspense]</td>\n",
       "      <td>[AlejandroGonzálezIñárritu]</td>\n",
       "      <td>[lifeanddeath, lossoflovedone, transplantation...</td>\n",
       "      <td>[SeanPenn, NaomiWatts, BeniciodelToro, DannyHu...</td>\n",
       "      <td>31</td>\n",
       "      <td>[0, 0, 0, 0, 0, 0, 1, 1, 1, 1, 1, 1, 1, 1, 1, ...</td>\n",
       "    </tr>\n",
       "  </tbody>\n",
       "</table>\n",
       "</div>"
      ],
      "text/plain": [
       "   Unnamed: 0  Unnamed: 0.1    id                           title  \\\n",
       "0           0             0  1183  2 Fast 2 Furious: A todo gas 2   \n",
       "1           2             2  1457                       21 gramos   \n",
       "\n",
       "     title_original                      genres                     director  \\\n",
       "0  2 Fast 2 Furious  [Acción, Crimen, Suspense]              [JohnSingleton]   \n",
       "1          21 Grams   [Drama, Crimen, Suspense]  [AlejandroGonzálezIñárritu]   \n",
       "\n",
       "                                            keywords  \\\n",
       "0  [miami, carrace, sportscar, losangeles, car, a...   \n",
       "1  [lifeanddeath, lossoflovedone, transplantation...   \n",
       "\n",
       "                                                cast  genre_empty  \\\n",
       "0  [PaulWalker, TyreseGibson, EvaMendes, ColeHaus...           32   \n",
       "1  [SeanPenn, NaomiWatts, BeniciodelToro, DannyHu...           31   \n",
       "\n",
       "                                        keywords_bin  \n",
       "0  [1, 1, 1, 1, 1, 1, 0, 0, 0, 0, 0, 0, 0, 0, 0, ...  \n",
       "1  [0, 0, 0, 0, 0, 0, 1, 1, 1, 1, 1, 1, 1, 1, 1, ...  "
      ]
     },
     "execution_count": 13,
     "metadata": {},
     "output_type": "execute_result"
    }
   ],
   "source": [
    "df = create_vector(df, 'keywords')\n",
    "df.head(2)"
   ]
  },
  {
   "cell_type": "code",
   "execution_count": 14,
   "metadata": {},
   "outputs": [
    {
     "data": {
      "text/html": [
       "<div>\n",
       "<style scoped>\n",
       "    .dataframe tbody tr th:only-of-type {\n",
       "        vertical-align: middle;\n",
       "    }\n",
       "\n",
       "    .dataframe tbody tr th {\n",
       "        vertical-align: top;\n",
       "    }\n",
       "\n",
       "    .dataframe thead th {\n",
       "        text-align: right;\n",
       "    }\n",
       "</style>\n",
       "<table border=\"1\" class=\"dataframe\">\n",
       "  <thead>\n",
       "    <tr style=\"text-align: right;\">\n",
       "      <th></th>\n",
       "      <th>Unnamed: 0</th>\n",
       "      <th>Unnamed: 0.1</th>\n",
       "      <th>id</th>\n",
       "      <th>title</th>\n",
       "      <th>title_original</th>\n",
       "      <th>genres</th>\n",
       "      <th>director</th>\n",
       "      <th>keywords</th>\n",
       "      <th>cast</th>\n",
       "      <th>genre_empty</th>\n",
       "      <th>keywords_bin</th>\n",
       "      <th>genres_bin</th>\n",
       "    </tr>\n",
       "  </thead>\n",
       "  <tbody>\n",
       "    <tr>\n",
       "      <th>0</th>\n",
       "      <td>0</td>\n",
       "      <td>0</td>\n",
       "      <td>1183</td>\n",
       "      <td>2 Fast 2 Furious: A todo gas 2</td>\n",
       "      <td>2 Fast 2 Furious</td>\n",
       "      <td>[Acción, Crimen, Suspense]</td>\n",
       "      <td>[JohnSingleton]</td>\n",
       "      <td>[miami, carrace, sportscar, losangeles, car, a...</td>\n",
       "      <td>[PaulWalker, TyreseGibson, EvaMendes, ColeHaus...</td>\n",
       "      <td>32</td>\n",
       "      <td>[1, 1, 1, 1, 1, 1, 0, 0, 0, 0, 0, 0, 0, 0, 0, ...</td>\n",
       "      <td>[1, 1, 1, 0, 0, 0, 0, 0, 0, 0, 0, 0, 0, 0, 0, ...</td>\n",
       "    </tr>\n",
       "    <tr>\n",
       "      <th>1</th>\n",
       "      <td>2</td>\n",
       "      <td>2</td>\n",
       "      <td>1457</td>\n",
       "      <td>21 gramos</td>\n",
       "      <td>21 Grams</td>\n",
       "      <td>[Drama, Crimen, Suspense]</td>\n",
       "      <td>[AlejandroGonzálezIñárritu]</td>\n",
       "      <td>[lifeanddeath, lossoflovedone, transplantation...</td>\n",
       "      <td>[SeanPenn, NaomiWatts, BeniciodelToro, DannyHu...</td>\n",
       "      <td>31</td>\n",
       "      <td>[0, 0, 0, 0, 0, 0, 1, 1, 1, 1, 1, 1, 1, 1, 1, ...</td>\n",
       "      <td>[0, 1, 1, 1, 0, 0, 0, 0, 0, 0, 0, 0, 0, 0, 0, ...</td>\n",
       "    </tr>\n",
       "  </tbody>\n",
       "</table>\n",
       "</div>"
      ],
      "text/plain": [
       "   Unnamed: 0  Unnamed: 0.1    id                           title  \\\n",
       "0           0             0  1183  2 Fast 2 Furious: A todo gas 2   \n",
       "1           2             2  1457                       21 gramos   \n",
       "\n",
       "     title_original                      genres                     director  \\\n",
       "0  2 Fast 2 Furious  [Acción, Crimen, Suspense]              [JohnSingleton]   \n",
       "1          21 Grams   [Drama, Crimen, Suspense]  [AlejandroGonzálezIñárritu]   \n",
       "\n",
       "                                            keywords  \\\n",
       "0  [miami, carrace, sportscar, losangeles, car, a...   \n",
       "1  [lifeanddeath, lossoflovedone, transplantation...   \n",
       "\n",
       "                                                cast  genre_empty  \\\n",
       "0  [PaulWalker, TyreseGibson, EvaMendes, ColeHaus...           32   \n",
       "1  [SeanPenn, NaomiWatts, BeniciodelToro, DannyHu...           31   \n",
       "\n",
       "                                        keywords_bin  \\\n",
       "0  [1, 1, 1, 1, 1, 1, 0, 0, 0, 0, 0, 0, 0, 0, 0, ...   \n",
       "1  [0, 0, 0, 0, 0, 0, 1, 1, 1, 1, 1, 1, 1, 1, 1, ...   \n",
       "\n",
       "                                          genres_bin  \n",
       "0  [1, 1, 1, 0, 0, 0, 0, 0, 0, 0, 0, 0, 0, 0, 0, ...  \n",
       "1  [0, 1, 1, 1, 0, 0, 0, 0, 0, 0, 0, 0, 0, 0, 0, ...  "
      ]
     },
     "execution_count": 14,
     "metadata": {},
     "output_type": "execute_result"
    }
   ],
   "source": [
    "df = create_vector(df, 'genres')\n",
    "df.head(2)"
   ]
  },
  {
   "cell_type": "code",
   "execution_count": 15,
   "metadata": {},
   "outputs": [
    {
     "data": {
      "text/html": [
       "<div>\n",
       "<style scoped>\n",
       "    .dataframe tbody tr th:only-of-type {\n",
       "        vertical-align: middle;\n",
       "    }\n",
       "\n",
       "    .dataframe tbody tr th {\n",
       "        vertical-align: top;\n",
       "    }\n",
       "\n",
       "    .dataframe thead th {\n",
       "        text-align: right;\n",
       "    }\n",
       "</style>\n",
       "<table border=\"1\" class=\"dataframe\">\n",
       "  <thead>\n",
       "    <tr style=\"text-align: right;\">\n",
       "      <th></th>\n",
       "      <th>Unnamed: 0</th>\n",
       "      <th>Unnamed: 0.1</th>\n",
       "      <th>id</th>\n",
       "      <th>title</th>\n",
       "      <th>title_original</th>\n",
       "      <th>genres</th>\n",
       "      <th>director</th>\n",
       "      <th>keywords</th>\n",
       "      <th>cast</th>\n",
       "      <th>genre_empty</th>\n",
       "      <th>keywords_bin</th>\n",
       "      <th>genres_bin</th>\n",
       "      <th>director_bin</th>\n",
       "    </tr>\n",
       "  </thead>\n",
       "  <tbody>\n",
       "    <tr>\n",
       "      <th>0</th>\n",
       "      <td>0</td>\n",
       "      <td>0</td>\n",
       "      <td>1183</td>\n",
       "      <td>2 Fast 2 Furious: A todo gas 2</td>\n",
       "      <td>2 Fast 2 Furious</td>\n",
       "      <td>[Acción, Crimen, Suspense]</td>\n",
       "      <td>[JohnSingleton]</td>\n",
       "      <td>[miami, carrace, sportscar, losangeles, car, a...</td>\n",
       "      <td>[PaulWalker, TyreseGibson, EvaMendes, ColeHaus...</td>\n",
       "      <td>32</td>\n",
       "      <td>[1, 1, 1, 1, 1, 1, 0, 0, 0, 0, 0, 0, 0, 0, 0, ...</td>\n",
       "      <td>[1, 1, 1, 0, 0, 0, 0, 0, 0, 0, 0, 0, 0, 0, 0, ...</td>\n",
       "      <td>[1, 0, 0, 0, 0, 0, 0, 0, 0, 0, 0, 0, 0, 0, 0, ...</td>\n",
       "    </tr>\n",
       "    <tr>\n",
       "      <th>1</th>\n",
       "      <td>2</td>\n",
       "      <td>2</td>\n",
       "      <td>1457</td>\n",
       "      <td>21 gramos</td>\n",
       "      <td>21 Grams</td>\n",
       "      <td>[Drama, Crimen, Suspense]</td>\n",
       "      <td>[AlejandroGonzálezIñárritu]</td>\n",
       "      <td>[lifeanddeath, lossoflovedone, transplantation...</td>\n",
       "      <td>[SeanPenn, NaomiWatts, BeniciodelToro, DannyHu...</td>\n",
       "      <td>31</td>\n",
       "      <td>[0, 0, 0, 0, 0, 0, 1, 1, 1, 1, 1, 1, 1, 1, 1, ...</td>\n",
       "      <td>[0, 1, 1, 1, 0, 0, 0, 0, 0, 0, 0, 0, 0, 0, 0, ...</td>\n",
       "      <td>[0, 1, 0, 0, 0, 0, 0, 0, 0, 0, 0, 0, 0, 0, 0, ...</td>\n",
       "    </tr>\n",
       "  </tbody>\n",
       "</table>\n",
       "</div>"
      ],
      "text/plain": [
       "   Unnamed: 0  Unnamed: 0.1    id                           title  \\\n",
       "0           0             0  1183  2 Fast 2 Furious: A todo gas 2   \n",
       "1           2             2  1457                       21 gramos   \n",
       "\n",
       "     title_original                      genres                     director  \\\n",
       "0  2 Fast 2 Furious  [Acción, Crimen, Suspense]              [JohnSingleton]   \n",
       "1          21 Grams   [Drama, Crimen, Suspense]  [AlejandroGonzálezIñárritu]   \n",
       "\n",
       "                                            keywords  \\\n",
       "0  [miami, carrace, sportscar, losangeles, car, a...   \n",
       "1  [lifeanddeath, lossoflovedone, transplantation...   \n",
       "\n",
       "                                                cast  genre_empty  \\\n",
       "0  [PaulWalker, TyreseGibson, EvaMendes, ColeHaus...           32   \n",
       "1  [SeanPenn, NaomiWatts, BeniciodelToro, DannyHu...           31   \n",
       "\n",
       "                                        keywords_bin  \\\n",
       "0  [1, 1, 1, 1, 1, 1, 0, 0, 0, 0, 0, 0, 0, 0, 0, ...   \n",
       "1  [0, 0, 0, 0, 0, 0, 1, 1, 1, 1, 1, 1, 1, 1, 1, ...   \n",
       "\n",
       "                                          genres_bin  \\\n",
       "0  [1, 1, 1, 0, 0, 0, 0, 0, 0, 0, 0, 0, 0, 0, 0, ...   \n",
       "1  [0, 1, 1, 1, 0, 0, 0, 0, 0, 0, 0, 0, 0, 0, 0, ...   \n",
       "\n",
       "                                        director_bin  \n",
       "0  [1, 0, 0, 0, 0, 0, 0, 0, 0, 0, 0, 0, 0, 0, 0, ...  \n",
       "1  [0, 1, 0, 0, 0, 0, 0, 0, 0, 0, 0, 0, 0, 0, 0, ...  "
      ]
     },
     "execution_count": 15,
     "metadata": {},
     "output_type": "execute_result"
    }
   ],
   "source": [
    "df = create_vector(df, 'director')\n",
    "df.head(2)"
   ]
  },
  {
   "cell_type": "code",
   "execution_count": 16,
   "metadata": {},
   "outputs": [
    {
     "data": {
      "text/html": [
       "<div>\n",
       "<style scoped>\n",
       "    .dataframe tbody tr th:only-of-type {\n",
       "        vertical-align: middle;\n",
       "    }\n",
       "\n",
       "    .dataframe tbody tr th {\n",
       "        vertical-align: top;\n",
       "    }\n",
       "\n",
       "    .dataframe thead th {\n",
       "        text-align: right;\n",
       "    }\n",
       "</style>\n",
       "<table border=\"1\" class=\"dataframe\">\n",
       "  <thead>\n",
       "    <tr style=\"text-align: right;\">\n",
       "      <th></th>\n",
       "      <th>Unnamed: 0</th>\n",
       "      <th>Unnamed: 0.1</th>\n",
       "      <th>id</th>\n",
       "      <th>title</th>\n",
       "      <th>title_original</th>\n",
       "      <th>genres</th>\n",
       "      <th>director</th>\n",
       "      <th>keywords</th>\n",
       "      <th>cast</th>\n",
       "      <th>genre_empty</th>\n",
       "      <th>keywords_bin</th>\n",
       "      <th>genres_bin</th>\n",
       "      <th>director_bin</th>\n",
       "      <th>cast_bin</th>\n",
       "    </tr>\n",
       "  </thead>\n",
       "  <tbody>\n",
       "    <tr>\n",
       "      <th>0</th>\n",
       "      <td>0</td>\n",
       "      <td>0</td>\n",
       "      <td>1183</td>\n",
       "      <td>2 Fast 2 Furious: A todo gas 2</td>\n",
       "      <td>2 Fast 2 Furious</td>\n",
       "      <td>[Acción, Crimen, Suspense]</td>\n",
       "      <td>[JohnSingleton]</td>\n",
       "      <td>[miami, carrace, sportscar, losangeles, car, a...</td>\n",
       "      <td>[PaulWalker, TyreseGibson, EvaMendes, ColeHaus...</td>\n",
       "      <td>32</td>\n",
       "      <td>[1, 1, 1, 1, 1, 1, 0, 0, 0, 0, 0, 0, 0, 0, 0, ...</td>\n",
       "      <td>[1, 1, 1, 0, 0, 0, 0, 0, 0, 0, 0, 0, 0, 0, 0, ...</td>\n",
       "      <td>[1, 0, 0, 0, 0, 0, 0, 0, 0, 0, 0, 0, 0, 0, 0, ...</td>\n",
       "      <td>[1, 1, 1, 1, 1, 0, 0, 0, 0, 0, 0, 0, 0, 0, 0, ...</td>\n",
       "    </tr>\n",
       "    <tr>\n",
       "      <th>1</th>\n",
       "      <td>2</td>\n",
       "      <td>2</td>\n",
       "      <td>1457</td>\n",
       "      <td>21 gramos</td>\n",
       "      <td>21 Grams</td>\n",
       "      <td>[Drama, Crimen, Suspense]</td>\n",
       "      <td>[AlejandroGonzálezIñárritu]</td>\n",
       "      <td>[lifeanddeath, lossoflovedone, transplantation...</td>\n",
       "      <td>[SeanPenn, NaomiWatts, BeniciodelToro, DannyHu...</td>\n",
       "      <td>31</td>\n",
       "      <td>[0, 0, 0, 0, 0, 0, 1, 1, 1, 1, 1, 1, 1, 1, 1, ...</td>\n",
       "      <td>[0, 1, 1, 1, 0, 0, 0, 0, 0, 0, 0, 0, 0, 0, 0, ...</td>\n",
       "      <td>[0, 1, 0, 0, 0, 0, 0, 0, 0, 0, 0, 0, 0, 0, 0, ...</td>\n",
       "      <td>[0, 0, 0, 0, 0, 1, 1, 1, 1, 1, 0, 0, 0, 0, 0, ...</td>\n",
       "    </tr>\n",
       "  </tbody>\n",
       "</table>\n",
       "</div>"
      ],
      "text/plain": [
       "   Unnamed: 0  Unnamed: 0.1    id                           title  \\\n",
       "0           0             0  1183  2 Fast 2 Furious: A todo gas 2   \n",
       "1           2             2  1457                       21 gramos   \n",
       "\n",
       "     title_original                      genres                     director  \\\n",
       "0  2 Fast 2 Furious  [Acción, Crimen, Suspense]              [JohnSingleton]   \n",
       "1          21 Grams   [Drama, Crimen, Suspense]  [AlejandroGonzálezIñárritu]   \n",
       "\n",
       "                                            keywords  \\\n",
       "0  [miami, carrace, sportscar, losangeles, car, a...   \n",
       "1  [lifeanddeath, lossoflovedone, transplantation...   \n",
       "\n",
       "                                                cast  genre_empty  \\\n",
       "0  [PaulWalker, TyreseGibson, EvaMendes, ColeHaus...           32   \n",
       "1  [SeanPenn, NaomiWatts, BeniciodelToro, DannyHu...           31   \n",
       "\n",
       "                                        keywords_bin  \\\n",
       "0  [1, 1, 1, 1, 1, 1, 0, 0, 0, 0, 0, 0, 0, 0, 0, ...   \n",
       "1  [0, 0, 0, 0, 0, 0, 1, 1, 1, 1, 1, 1, 1, 1, 1, ...   \n",
       "\n",
       "                                          genres_bin  \\\n",
       "0  [1, 1, 1, 0, 0, 0, 0, 0, 0, 0, 0, 0, 0, 0, 0, ...   \n",
       "1  [0, 1, 1, 1, 0, 0, 0, 0, 0, 0, 0, 0, 0, 0, 0, ...   \n",
       "\n",
       "                                        director_bin  \\\n",
       "0  [1, 0, 0, 0, 0, 0, 0, 0, 0, 0, 0, 0, 0, 0, 0, ...   \n",
       "1  [0, 1, 0, 0, 0, 0, 0, 0, 0, 0, 0, 0, 0, 0, 0, ...   \n",
       "\n",
       "                                            cast_bin  \n",
       "0  [1, 1, 1, 1, 1, 0, 0, 0, 0, 0, 0, 0, 0, 0, 0, ...  \n",
       "1  [0, 0, 0, 0, 0, 1, 1, 1, 1, 1, 0, 0, 0, 0, 0, ...  "
      ]
     },
     "execution_count": 16,
     "metadata": {},
     "output_type": "execute_result"
    }
   ],
   "source": [
    "df = create_vector(df, 'cast')\n",
    "df.head(2)"
   ]
  },
  {
   "cell_type": "code",
   "execution_count": 17,
   "metadata": {},
   "outputs": [],
   "source": [
    "# ===> Tenemos el dataframe con todas las peliculas. Vamos a crear una columna que sea una combinacion\n",
    "# ===> de todos los bins del dataframe\n",
    "\n",
    "df['combination_bin'] = df['genres_bin'] + df['cast_bin'] +  df['keywords_bin'] + df['director_bin']"
   ]
  },
  {
   "cell_type": "code",
   "execution_count": 18,
   "metadata": {},
   "outputs": [],
   "source": [
    "# ===> Transformamos esa columna en numpy array de dos dimensiones, lo cual es necesario para poder utilizar esa info\n",
    "# ===> como inputs de modelos de clustering\n",
    "\n",
    "df_kmeans = np.vstack(df['combination_bin'])"
   ]
  },
  {
   "cell_type": "code",
   "execution_count": 19,
   "metadata": {},
   "outputs": [
    {
     "name": "stdout",
     "output_type": "stream",
     "text": [
      "22359\n"
     ]
    }
   ],
   "source": [
    "# ===> Nuestro dataframe tiene 22443 dimensiones\n",
    "\n",
    "print(len(df_kmeans[0]))"
   ]
  },
  {
   "cell_type": "code",
   "execution_count": 20,
   "metadata": {},
   "outputs": [],
   "source": [
    "# ===> Vamos a usar SVD para reducir la dimensionalidad de nuestro dataframe\n",
    "# ===> Otra opcion https://www.researchgate.net/post/Which_clustering_technique_is_most_suitable_for_high_dimensional_data_sets\n",
    "\n",
    "from sklearn.decomposition import TruncatedSVD\n",
    "svd = TruncatedSVD(50)\n",
    "df_transformed = svd.fit_transform(df_kmeans)"
   ]
  },
  {
   "cell_type": "code",
   "execution_count": 21,
   "metadata": {},
   "outputs": [],
   "source": [
    "from sklearn.cluster import KMeans\n",
    "from sklearn.metrics import silhouette_score, calinski_harabaz_score"
   ]
  },
  {
   "cell_type": "code",
   "execution_count": 22,
   "metadata": {},
   "outputs": [],
   "source": [
    "kmeans_final = KMeans(n_clusters=25, random_state=0) \n",
    "kmeans_final.fit(df_kmeans)\n",
    "    \n",
    "labels_final = kmeans_final.labels_"
   ]
  },
  {
   "cell_type": "code",
   "execution_count": 23,
   "metadata": {},
   "outputs": [],
   "source": [
    "df['labels'] = labels_final"
   ]
  },
  {
   "cell_type": "code",
   "execution_count": 24,
   "metadata": {},
   "outputs": [
    {
     "name": "stdout",
     "output_type": "stream",
     "text": [
      "[18 17  6  7  8  4 16  9 10 14  5 23 19 22 24 21 13 11  0 15 20  3  2  1\n",
      " 12]\n"
     ]
    }
   ],
   "source": [
    "print(df['labels'].unique())"
   ]
  },
  {
   "cell_type": "code",
   "execution_count": 25,
   "metadata": {},
   "outputs": [
    {
     "name": "stdout",
     "output_type": "stream",
     "text": [
      "8     1013\n",
      "10     777\n",
      "4      476\n",
      "7      386\n",
      "6      314\n",
      "17     300\n",
      "14     295\n",
      "18     197\n",
      "16     175\n",
      "9      164\n",
      "24     139\n",
      "23     103\n",
      "22      56\n",
      "5       24\n",
      "13       9\n",
      "19       4\n",
      "0        3\n",
      "20       2\n",
      "3        2\n",
      "1        1\n",
      "2        1\n",
      "12       1\n",
      "11       1\n",
      "15       1\n",
      "21       1\n",
      "Name: labels, dtype: int64\n"
     ]
    }
   ],
   "source": [
    "print(df['labels'].value_counts())"
   ]
  },
  {
   "cell_type": "code",
   "execution_count": 26,
   "metadata": {},
   "outputs": [],
   "source": [
    "def add_cluster_if_not_present(dataframe, list_clusters_complete):\n",
    "    \n",
    "    list_clusters = dataframe['labels'].unique()\n",
    "    \n",
    "    for item in list_clusters_complete:\n",
    "        \n",
    "        if item not in list_clusters:\n",
    "            \n",
    "            dataframe = dataframe.append({'labels': item, 'frecuency': 0}, ignore_index=True)\n",
    "            \n",
    "    return dataframe\n",
    "    "
   ]
  },
  {
   "cell_type": "code",
   "execution_count": 27,
   "metadata": {},
   "outputs": [],
   "source": [
    "# ===> Aanaliamos que % de las peliculas de cada plataforma pertenecen a cada cluster\n",
    "\n",
    "def count_clusters(dataframe, name_plataform):\n",
    "\n",
    "    df_clusters = pd.DataFrame(dataframe['labels'].value_counts())\n",
    "    \n",
    "    df_clusters = df_clusters.rename(columns={'labels': 'frecuency'})\n",
    "    \n",
    "    df_clusters['labels'] = df_clusters.index\n",
    "    \n",
    "    df_clusters = add_cluster_if_not_present(df_clusters, df['labels'].unique())\n",
    "    \n",
    "    def number_rows_parent_dataframe(dataframe):\n",
    "        return len(dataframe.index)\n",
    "\n",
    "    def cluster_porcentage(value, dataframe=dataframe):\n",
    "        return value/number_rows_parent_dataframe(dataframe)*100\n",
    "    \n",
    "    name_column = 'percentage_clusters_' + name_plataform \n",
    "    \n",
    "    df_clusters[name_column] = df_clusters['frecuency'].apply(cluster_porcentage)\n",
    "\n",
    "    return df_clusters\n"
   ]
  },
  {
   "cell_type": "code",
   "execution_count": 28,
   "metadata": {},
   "outputs": [],
   "source": [
    "# ===> Agregamos las etiquetas de clusters a la plataforma HBO\n",
    "\n",
    "df_hbo = pd.merge(df_hbo, df[['id', 'labels']], on='id', how='left')"
   ]
  },
  {
   "cell_type": "code",
   "execution_count": 29,
   "metadata": {},
   "outputs": [
    {
     "data": {
      "text/html": [
       "<div>\n",
       "<style scoped>\n",
       "    .dataframe tbody tr th:only-of-type {\n",
       "        vertical-align: middle;\n",
       "    }\n",
       "\n",
       "    .dataframe tbody tr th {\n",
       "        vertical-align: top;\n",
       "    }\n",
       "\n",
       "    .dataframe thead th {\n",
       "        text-align: right;\n",
       "    }\n",
       "</style>\n",
       "<table border=\"1\" class=\"dataframe\">\n",
       "  <thead>\n",
       "    <tr style=\"text-align: right;\">\n",
       "      <th></th>\n",
       "      <th>Unnamed: 0</th>\n",
       "      <th>Unnamed: 0.1</th>\n",
       "      <th>id</th>\n",
       "      <th>title</th>\n",
       "      <th>title_original</th>\n",
       "      <th>genres</th>\n",
       "      <th>director</th>\n",
       "      <th>keywords</th>\n",
       "      <th>cast</th>\n",
       "      <th>genre_empty</th>\n",
       "      <th>labels</th>\n",
       "    </tr>\n",
       "  </thead>\n",
       "  <tbody>\n",
       "    <tr>\n",
       "      <th>0</th>\n",
       "      <td>0</td>\n",
       "      <td>0</td>\n",
       "      <td>1183</td>\n",
       "      <td>2 Fast 2 Furious: A todo gas 2</td>\n",
       "      <td>2 Fast 2 Furious</td>\n",
       "      <td>['Acción', 'Crimen', 'Suspense']</td>\n",
       "      <td>['John Singleton']</td>\n",
       "      <td>['miami', 'car race', 'sports car', 'los angel...</td>\n",
       "      <td>['Paul Walker', 'Tyrese Gibson', 'Eva Mendes',...</td>\n",
       "      <td>32</td>\n",
       "      <td>18</td>\n",
       "    </tr>\n",
       "    <tr>\n",
       "      <th>1</th>\n",
       "      <td>2</td>\n",
       "      <td>2</td>\n",
       "      <td>1457</td>\n",
       "      <td>21 gramos</td>\n",
       "      <td>21 Grams</td>\n",
       "      <td>['Drama', 'Crimen', 'Suspense']</td>\n",
       "      <td>['Alejandro González Iñárritu']</td>\n",
       "      <td>['life and death', 'loss of loved one', 'trans...</td>\n",
       "      <td>['Sean Penn', 'Naomi Watts', 'Benicio del Toro...</td>\n",
       "      <td>31</td>\n",
       "      <td>17</td>\n",
       "    </tr>\n",
       "  </tbody>\n",
       "</table>\n",
       "</div>"
      ],
      "text/plain": [
       "   Unnamed: 0  Unnamed: 0.1    id                           title  \\\n",
       "0           0             0  1183  2 Fast 2 Furious: A todo gas 2   \n",
       "1           2             2  1457                       21 gramos   \n",
       "\n",
       "     title_original                            genres  \\\n",
       "0  2 Fast 2 Furious  ['Acción', 'Crimen', 'Suspense']   \n",
       "1          21 Grams   ['Drama', 'Crimen', 'Suspense']   \n",
       "\n",
       "                          director  \\\n",
       "0               ['John Singleton']   \n",
       "1  ['Alejandro González Iñárritu']   \n",
       "\n",
       "                                            keywords  \\\n",
       "0  ['miami', 'car race', 'sports car', 'los angel...   \n",
       "1  ['life and death', 'loss of loved one', 'trans...   \n",
       "\n",
       "                                                cast  genre_empty  labels  \n",
       "0  ['Paul Walker', 'Tyrese Gibson', 'Eva Mendes',...           32      18  \n",
       "1  ['Sean Penn', 'Naomi Watts', 'Benicio del Toro...           31      17  "
      ]
     },
     "execution_count": 29,
     "metadata": {},
     "output_type": "execute_result"
    }
   ],
   "source": [
    "df_hbo.head(2)"
   ]
  },
  {
   "cell_type": "code",
   "execution_count": 30,
   "metadata": {},
   "outputs": [
    {
     "data": {
      "text/html": [
       "<div>\n",
       "<style scoped>\n",
       "    .dataframe tbody tr th:only-of-type {\n",
       "        vertical-align: middle;\n",
       "    }\n",
       "\n",
       "    .dataframe tbody tr th {\n",
       "        vertical-align: top;\n",
       "    }\n",
       "\n",
       "    .dataframe thead th {\n",
       "        text-align: right;\n",
       "    }\n",
       "</style>\n",
       "<table border=\"1\" class=\"dataframe\">\n",
       "  <thead>\n",
       "    <tr style=\"text-align: right;\">\n",
       "      <th></th>\n",
       "      <th>frecuency</th>\n",
       "      <th>labels</th>\n",
       "      <th>percentage_clusters_hbo</th>\n",
       "    </tr>\n",
       "  </thead>\n",
       "  <tbody>\n",
       "    <tr>\n",
       "      <th>0</th>\n",
       "      <td>27</td>\n",
       "      <td>10</td>\n",
       "      <td>19.285714</td>\n",
       "    </tr>\n",
       "    <tr>\n",
       "      <th>1</th>\n",
       "      <td>21</td>\n",
       "      <td>4</td>\n",
       "      <td>15.000000</td>\n",
       "    </tr>\n",
       "  </tbody>\n",
       "</table>\n",
       "</div>"
      ],
      "text/plain": [
       "   frecuency  labels  percentage_clusters_hbo\n",
       "0         27      10                19.285714\n",
       "1         21       4                15.000000"
      ]
     },
     "execution_count": 30,
     "metadata": {},
     "output_type": "execute_result"
    }
   ],
   "source": [
    "clusters_hbo = count_clusters(df_hbo, 'hbo')\n",
    "count_clusters(df_hbo, 'hbo').head(2)"
   ]
  },
  {
   "cell_type": "code",
   "execution_count": 31,
   "metadata": {},
   "outputs": [],
   "source": [
    "# ===> Agregamos las etiquetas de clusters a la plataforma Claro\n",
    "\n",
    "df_claro = pd.merge(df_claro, df[['id', 'labels']], on='id', how='left')"
   ]
  },
  {
   "cell_type": "code",
   "execution_count": 32,
   "metadata": {},
   "outputs": [
    {
     "data": {
      "text/html": [
       "<div>\n",
       "<style scoped>\n",
       "    .dataframe tbody tr th:only-of-type {\n",
       "        vertical-align: middle;\n",
       "    }\n",
       "\n",
       "    .dataframe tbody tr th {\n",
       "        vertical-align: top;\n",
       "    }\n",
       "\n",
       "    .dataframe thead th {\n",
       "        text-align: right;\n",
       "    }\n",
       "</style>\n",
       "<table border=\"1\" class=\"dataframe\">\n",
       "  <thead>\n",
       "    <tr style=\"text-align: right;\">\n",
       "      <th></th>\n",
       "      <th>Unnamed: 0</th>\n",
       "      <th>Unnamed: 0.1</th>\n",
       "      <th>id</th>\n",
       "      <th>title</th>\n",
       "      <th>title_original</th>\n",
       "      <th>genres</th>\n",
       "      <th>director</th>\n",
       "      <th>keywords</th>\n",
       "      <th>cast</th>\n",
       "      <th>genre_empty</th>\n",
       "      <th>labels</th>\n",
       "    </tr>\n",
       "  </thead>\n",
       "  <tbody>\n",
       "    <tr>\n",
       "      <th>0</th>\n",
       "      <td>0</td>\n",
       "      <td>0</td>\n",
       "      <td>44</td>\n",
       "      <td>500 dias juntos</td>\n",
       "      <td>(500) Days of Summer</td>\n",
       "      <td>['Comedia', 'Drama', 'Romance']</td>\n",
       "      <td>['Marc Webb']</td>\n",
       "      <td>['date', 'jealousy', 'fight', 'architect', 'ga...</td>\n",
       "      <td>['Joseph Gordon-Levitt', 'Zooey Deschanel', 'C...</td>\n",
       "      <td>31</td>\n",
       "      <td>8.0</td>\n",
       "    </tr>\n",
       "    <tr>\n",
       "      <th>1</th>\n",
       "      <td>2</td>\n",
       "      <td>2</td>\n",
       "      <td>49</td>\n",
       "      <td>Nuestros maravillosos aliados</td>\n",
       "      <td>*batteries not included</td>\n",
       "      <td>['Comedia', 'Familia', 'Fantasía', 'Ciencia fi...</td>\n",
       "      <td>['Matthew Robbins']</td>\n",
       "      <td>['extraterrestrial technology', 'alien life-fo...</td>\n",
       "      <td>['Hume Cronyn', 'Jessica Tandy', 'Frank McRae'...</td>\n",
       "      <td>53</td>\n",
       "      <td>14.0</td>\n",
       "    </tr>\n",
       "  </tbody>\n",
       "</table>\n",
       "</div>"
      ],
      "text/plain": [
       "   Unnamed: 0  Unnamed: 0.1  id                          title  \\\n",
       "0           0             0  44                500 dias juntos   \n",
       "1           2             2  49  Nuestros maravillosos aliados   \n",
       "\n",
       "            title_original                                             genres  \\\n",
       "0     (500) Days of Summer                    ['Comedia', 'Drama', 'Romance']   \n",
       "1  *batteries not included  ['Comedia', 'Familia', 'Fantasía', 'Ciencia fi...   \n",
       "\n",
       "              director                                           keywords  \\\n",
       "0        ['Marc Webb']  ['date', 'jealousy', 'fight', 'architect', 'ga...   \n",
       "1  ['Matthew Robbins']  ['extraterrestrial technology', 'alien life-fo...   \n",
       "\n",
       "                                                cast  genre_empty  labels  \n",
       "0  ['Joseph Gordon-Levitt', 'Zooey Deschanel', 'C...           31     8.0  \n",
       "1  ['Hume Cronyn', 'Jessica Tandy', 'Frank McRae'...           53    14.0  "
      ]
     },
     "execution_count": 32,
     "metadata": {},
     "output_type": "execute_result"
    }
   ],
   "source": [
    "df_claro.head(2)"
   ]
  },
  {
   "cell_type": "code",
   "execution_count": 33,
   "metadata": {},
   "outputs": [
    {
     "data": {
      "text/html": [
       "<div>\n",
       "<style scoped>\n",
       "    .dataframe tbody tr th:only-of-type {\n",
       "        vertical-align: middle;\n",
       "    }\n",
       "\n",
       "    .dataframe tbody tr th {\n",
       "        vertical-align: top;\n",
       "    }\n",
       "\n",
       "    .dataframe thead th {\n",
       "        text-align: right;\n",
       "    }\n",
       "</style>\n",
       "<table border=\"1\" class=\"dataframe\">\n",
       "  <thead>\n",
       "    <tr style=\"text-align: right;\">\n",
       "      <th></th>\n",
       "      <th>frecuency</th>\n",
       "      <th>labels</th>\n",
       "      <th>percentage_clusters_claro</th>\n",
       "    </tr>\n",
       "  </thead>\n",
       "  <tbody>\n",
       "    <tr>\n",
       "      <th>0</th>\n",
       "      <td>358</td>\n",
       "      <td>8.0</td>\n",
       "      <td>20.364050</td>\n",
       "    </tr>\n",
       "    <tr>\n",
       "      <th>1</th>\n",
       "      <td>285</td>\n",
       "      <td>10.0</td>\n",
       "      <td>16.211604</td>\n",
       "    </tr>\n",
       "  </tbody>\n",
       "</table>\n",
       "</div>"
      ],
      "text/plain": [
       "   frecuency  labels  percentage_clusters_claro\n",
       "0        358     8.0                  20.364050\n",
       "1        285    10.0                  16.211604"
      ]
     },
     "execution_count": 33,
     "metadata": {},
     "output_type": "execute_result"
    }
   ],
   "source": [
    "clusters_claro = count_clusters(df_claro, 'claro')\n",
    "count_clusters(df_claro, 'claro').head(2)"
   ]
  },
  {
   "cell_type": "code",
   "execution_count": 34,
   "metadata": {},
   "outputs": [],
   "source": [
    "# ===> Agregamos las etiquetas de clusters a la plataforma Sony\n",
    "\n",
    "df_sony = pd.merge(df_sony, df[['id', 'labels']], on='id', how='left')"
   ]
  },
  {
   "cell_type": "code",
   "execution_count": 35,
   "metadata": {},
   "outputs": [
    {
     "data": {
      "text/html": [
       "<div>\n",
       "<style scoped>\n",
       "    .dataframe tbody tr th:only-of-type {\n",
       "        vertical-align: middle;\n",
       "    }\n",
       "\n",
       "    .dataframe tbody tr th {\n",
       "        vertical-align: top;\n",
       "    }\n",
       "\n",
       "    .dataframe thead th {\n",
       "        text-align: right;\n",
       "    }\n",
       "</style>\n",
       "<table border=\"1\" class=\"dataframe\">\n",
       "  <thead>\n",
       "    <tr style=\"text-align: right;\">\n",
       "      <th></th>\n",
       "      <th>frecuency</th>\n",
       "      <th>labels</th>\n",
       "      <th>percentage_clusters_sony</th>\n",
       "    </tr>\n",
       "  </thead>\n",
       "  <tbody>\n",
       "    <tr>\n",
       "      <th>0</th>\n",
       "      <td>8</td>\n",
       "      <td>10</td>\n",
       "      <td>14.285714</td>\n",
       "    </tr>\n",
       "    <tr>\n",
       "      <th>1</th>\n",
       "      <td>8</td>\n",
       "      <td>8</td>\n",
       "      <td>14.285714</td>\n",
       "    </tr>\n",
       "  </tbody>\n",
       "</table>\n",
       "</div>"
      ],
      "text/plain": [
       "   frecuency  labels  percentage_clusters_sony\n",
       "0          8      10                 14.285714\n",
       "1          8       8                 14.285714"
      ]
     },
     "execution_count": 35,
     "metadata": {},
     "output_type": "execute_result"
    }
   ],
   "source": [
    "clusters_sony = count_clusters(df_sony, 'sony')\n",
    "\n",
    "count_clusters(df_sony, 'sony').head(2)"
   ]
  },
  {
   "cell_type": "code",
   "execution_count": 36,
   "metadata": {},
   "outputs": [],
   "source": [
    "# ===> Agregamos las etiquetas de clusters a la plataforma Netflix\n",
    "\n",
    "df_netflix = pd.merge(df_netflix, df[['id', 'labels']], on='id', how='left')"
   ]
  },
  {
   "cell_type": "code",
   "execution_count": 37,
   "metadata": {},
   "outputs": [
    {
     "data": {
      "text/html": [
       "<div>\n",
       "<style scoped>\n",
       "    .dataframe tbody tr th:only-of-type {\n",
       "        vertical-align: middle;\n",
       "    }\n",
       "\n",
       "    .dataframe tbody tr th {\n",
       "        vertical-align: top;\n",
       "    }\n",
       "\n",
       "    .dataframe thead th {\n",
       "        text-align: right;\n",
       "    }\n",
       "</style>\n",
       "<table border=\"1\" class=\"dataframe\">\n",
       "  <thead>\n",
       "    <tr style=\"text-align: right;\">\n",
       "      <th></th>\n",
       "      <th>frecuency</th>\n",
       "      <th>labels</th>\n",
       "      <th>percentage_clusters_netflix</th>\n",
       "    </tr>\n",
       "  </thead>\n",
       "  <tbody>\n",
       "    <tr>\n",
       "      <th>0</th>\n",
       "      <td>377</td>\n",
       "      <td>8.0</td>\n",
       "      <td>23.401614</td>\n",
       "    </tr>\n",
       "    <tr>\n",
       "      <th>1</th>\n",
       "      <td>319</td>\n",
       "      <td>4.0</td>\n",
       "      <td>19.801366</td>\n",
       "    </tr>\n",
       "  </tbody>\n",
       "</table>\n",
       "</div>"
      ],
      "text/plain": [
       "   frecuency  labels  percentage_clusters_netflix\n",
       "0        377     8.0                    23.401614\n",
       "1        319     4.0                    19.801366"
      ]
     },
     "execution_count": 37,
     "metadata": {},
     "output_type": "execute_result"
    }
   ],
   "source": [
    "clusters_netflix = count_clusters(df_netflix, 'netflix')\n",
    "\n",
    "count_clusters(df_netflix, 'netflix').head(2)"
   ]
  },
  {
   "cell_type": "code",
   "execution_count": 38,
   "metadata": {},
   "outputs": [],
   "source": [
    "# ===> Agregamos las etiquetas de clusters a la plataforma Flow\n",
    "\n",
    "df_flow = pd.merge(df_flow, df[['id', 'labels']], on='id', how='left')"
   ]
  },
  {
   "cell_type": "code",
   "execution_count": 39,
   "metadata": {},
   "outputs": [
    {
     "data": {
      "text/html": [
       "<div>\n",
       "<style scoped>\n",
       "    .dataframe tbody tr th:only-of-type {\n",
       "        vertical-align: middle;\n",
       "    }\n",
       "\n",
       "    .dataframe tbody tr th {\n",
       "        vertical-align: top;\n",
       "    }\n",
       "\n",
       "    .dataframe thead th {\n",
       "        text-align: right;\n",
       "    }\n",
       "</style>\n",
       "<table border=\"1\" class=\"dataframe\">\n",
       "  <thead>\n",
       "    <tr style=\"text-align: right;\">\n",
       "      <th></th>\n",
       "      <th>frecuency</th>\n",
       "      <th>labels</th>\n",
       "      <th>percentage_clusters_flow</th>\n",
       "    </tr>\n",
       "  </thead>\n",
       "  <tbody>\n",
       "    <tr>\n",
       "      <th>0</th>\n",
       "      <td>96</td>\n",
       "      <td>8.0</td>\n",
       "      <td>25.668449</td>\n",
       "    </tr>\n",
       "    <tr>\n",
       "      <th>1</th>\n",
       "      <td>46</td>\n",
       "      <td>10.0</td>\n",
       "      <td>12.299465</td>\n",
       "    </tr>\n",
       "  </tbody>\n",
       "</table>\n",
       "</div>"
      ],
      "text/plain": [
       "   frecuency  labels  percentage_clusters_flow\n",
       "0         96     8.0                 25.668449\n",
       "1         46    10.0                 12.299465"
      ]
     },
     "execution_count": 39,
     "metadata": {},
     "output_type": "execute_result"
    }
   ],
   "source": [
    "clusters_flow = count_clusters(df_flow, 'flow')\n",
    "\n",
    "count_clusters(df_flow, 'flow').head(2)"
   ]
  },
  {
   "cell_type": "code",
   "execution_count": 40,
   "metadata": {},
   "outputs": [],
   "source": [
    "# ===> Agregamos las etiquetas de clusters a la plataforma Amazon\n",
    "\n",
    "df_amazon = pd.merge(df_amazon, df[['id', 'labels']], on='id', how='left')"
   ]
  },
  {
   "cell_type": "code",
   "execution_count": 41,
   "metadata": {},
   "outputs": [
    {
     "data": {
      "text/html": [
       "<div>\n",
       "<style scoped>\n",
       "    .dataframe tbody tr th:only-of-type {\n",
       "        vertical-align: middle;\n",
       "    }\n",
       "\n",
       "    .dataframe tbody tr th {\n",
       "        vertical-align: top;\n",
       "    }\n",
       "\n",
       "    .dataframe thead th {\n",
       "        text-align: right;\n",
       "    }\n",
       "</style>\n",
       "<table border=\"1\" class=\"dataframe\">\n",
       "  <thead>\n",
       "    <tr style=\"text-align: right;\">\n",
       "      <th></th>\n",
       "      <th>frecuency</th>\n",
       "      <th>labels</th>\n",
       "      <th>percentage_clusters_amazon</th>\n",
       "    </tr>\n",
       "  </thead>\n",
       "  <tbody>\n",
       "    <tr>\n",
       "      <th>0</th>\n",
       "      <td>178</td>\n",
       "      <td>8.0</td>\n",
       "      <td>22.997416</td>\n",
       "    </tr>\n",
       "    <tr>\n",
       "      <th>1</th>\n",
       "      <td>166</td>\n",
       "      <td>10.0</td>\n",
       "      <td>21.447028</td>\n",
       "    </tr>\n",
       "  </tbody>\n",
       "</table>\n",
       "</div>"
      ],
      "text/plain": [
       "   frecuency  labels  percentage_clusters_amazon\n",
       "0        178     8.0                   22.997416\n",
       "1        166    10.0                   21.447028"
      ]
     },
     "execution_count": 41,
     "metadata": {},
     "output_type": "execute_result"
    }
   ],
   "source": [
    "clusters_amazon = count_clusters(df_amazon, 'amazon')\n",
    "\n",
    "count_clusters(df_amazon, 'amazon').head(2)"
   ]
  },
  {
   "cell_type": "code",
   "execution_count": 42,
   "metadata": {},
   "outputs": [],
   "source": [
    "# ===> Agregamos las etiquetas de clusters a la plataforma On Video\n",
    "\n",
    "df_on_video = pd.merge(df_on_video, df[['id', 'labels']], on='id', how='left')"
   ]
  },
  {
   "cell_type": "code",
   "execution_count": 43,
   "metadata": {},
   "outputs": [
    {
     "data": {
      "text/html": [
       "<div>\n",
       "<style scoped>\n",
       "    .dataframe tbody tr th:only-of-type {\n",
       "        vertical-align: middle;\n",
       "    }\n",
       "\n",
       "    .dataframe tbody tr th {\n",
       "        vertical-align: top;\n",
       "    }\n",
       "\n",
       "    .dataframe thead th {\n",
       "        text-align: right;\n",
       "    }\n",
       "</style>\n",
       "<table border=\"1\" class=\"dataframe\">\n",
       "  <thead>\n",
       "    <tr style=\"text-align: right;\">\n",
       "      <th></th>\n",
       "      <th>frecuency</th>\n",
       "      <th>labels</th>\n",
       "      <th>percentage_clusters_on_video</th>\n",
       "    </tr>\n",
       "  </thead>\n",
       "  <tbody>\n",
       "    <tr>\n",
       "      <th>0</th>\n",
       "      <td>60</td>\n",
       "      <td>10.0</td>\n",
       "      <td>19.108280</td>\n",
       "    </tr>\n",
       "    <tr>\n",
       "      <th>1</th>\n",
       "      <td>56</td>\n",
       "      <td>8.0</td>\n",
       "      <td>17.834395</td>\n",
       "    </tr>\n",
       "  </tbody>\n",
       "</table>\n",
       "</div>"
      ],
      "text/plain": [
       "   frecuency  labels  percentage_clusters_on_video\n",
       "0         60    10.0                     19.108280\n",
       "1         56     8.0                     17.834395"
      ]
     },
     "execution_count": 43,
     "metadata": {},
     "output_type": "execute_result"
    }
   ],
   "source": [
    "clusters_on_video = count_clusters(df_on_video, 'on_video')\n",
    "\n",
    "count_clusters(df_on_video, 'on_video').head(2)"
   ]
  },
  {
   "cell_type": "code",
   "execution_count": 44,
   "metadata": {},
   "outputs": [],
   "source": [
    "# ===> Agregamos las etiquetas de clusters a la plataforma Fox\n",
    "\n",
    "df_fox = pd.merge(df_fox, df[['id', 'labels']], on='id', how='left')"
   ]
  },
  {
   "cell_type": "code",
   "execution_count": 45,
   "metadata": {},
   "outputs": [
    {
     "data": {
      "text/html": [
       "<div>\n",
       "<style scoped>\n",
       "    .dataframe tbody tr th:only-of-type {\n",
       "        vertical-align: middle;\n",
       "    }\n",
       "\n",
       "    .dataframe tbody tr th {\n",
       "        vertical-align: top;\n",
       "    }\n",
       "\n",
       "    .dataframe thead th {\n",
       "        text-align: right;\n",
       "    }\n",
       "</style>\n",
       "<table border=\"1\" class=\"dataframe\">\n",
       "  <thead>\n",
       "    <tr style=\"text-align: right;\">\n",
       "      <th></th>\n",
       "      <th>frecuency</th>\n",
       "      <th>labels</th>\n",
       "      <th>percentage_clusters_fox</th>\n",
       "    </tr>\n",
       "  </thead>\n",
       "  <tbody>\n",
       "    <tr>\n",
       "      <th>0</th>\n",
       "      <td>77</td>\n",
       "      <td>8.0</td>\n",
       "      <td>31.950207</td>\n",
       "    </tr>\n",
       "    <tr>\n",
       "      <th>1</th>\n",
       "      <td>28</td>\n",
       "      <td>10.0</td>\n",
       "      <td>11.618257</td>\n",
       "    </tr>\n",
       "  </tbody>\n",
       "</table>\n",
       "</div>"
      ],
      "text/plain": [
       "   frecuency  labels  percentage_clusters_fox\n",
       "0         77     8.0                31.950207\n",
       "1         28    10.0                11.618257"
      ]
     },
     "execution_count": 45,
     "metadata": {},
     "output_type": "execute_result"
    }
   ],
   "source": [
    "clusters_fox = count_clusters(df_fox, 'fox')\n",
    "\n",
    "count_clusters(df_fox, 'fox').head(2)"
   ]
  },
  {
   "cell_type": "code",
   "execution_count": 46,
   "metadata": {},
   "outputs": [],
   "source": [
    "df_clusters_final = pd.merge(clusters_hbo[['labels', 'percentage_clusters_hbo']], clusters_claro[['labels', 'percentage_clusters_claro']], on='labels', how='left')"
   ]
  },
  {
   "cell_type": "code",
   "execution_count": 47,
   "metadata": {},
   "outputs": [
    {
     "data": {
      "text/html": [
       "<div>\n",
       "<style scoped>\n",
       "    .dataframe tbody tr th:only-of-type {\n",
       "        vertical-align: middle;\n",
       "    }\n",
       "\n",
       "    .dataframe tbody tr th {\n",
       "        vertical-align: top;\n",
       "    }\n",
       "\n",
       "    .dataframe thead th {\n",
       "        text-align: right;\n",
       "    }\n",
       "</style>\n",
       "<table border=\"1\" class=\"dataframe\">\n",
       "  <thead>\n",
       "    <tr style=\"text-align: right;\">\n",
       "      <th></th>\n",
       "      <th>labels</th>\n",
       "      <th>percentage_clusters_hbo</th>\n",
       "      <th>percentage_clusters_claro</th>\n",
       "    </tr>\n",
       "  </thead>\n",
       "  <tbody>\n",
       "    <tr>\n",
       "      <th>0</th>\n",
       "      <td>10</td>\n",
       "      <td>19.285714</td>\n",
       "      <td>16.211604</td>\n",
       "    </tr>\n",
       "    <tr>\n",
       "      <th>1</th>\n",
       "      <td>4</td>\n",
       "      <td>15.000000</td>\n",
       "      <td>3.071672</td>\n",
       "    </tr>\n",
       "  </tbody>\n",
       "</table>\n",
       "</div>"
      ],
      "text/plain": [
       "   labels  percentage_clusters_hbo  percentage_clusters_claro\n",
       "0      10                19.285714                  16.211604\n",
       "1       4                15.000000                   3.071672"
      ]
     },
     "execution_count": 47,
     "metadata": {},
     "output_type": "execute_result"
    }
   ],
   "source": [
    "df_clusters_final.head(2)"
   ]
  },
  {
   "cell_type": "code",
   "execution_count": 48,
   "metadata": {},
   "outputs": [],
   "source": [
    "df_clusters_final = pd.merge(df_clusters_final, clusters_sony[['labels', 'percentage_clusters_sony']], on='labels', how='left')"
   ]
  },
  {
   "cell_type": "code",
   "execution_count": 49,
   "metadata": {},
   "outputs": [],
   "source": [
    "df_clusters_final = pd.merge(df_clusters_final, clusters_netflix[['labels', 'percentage_clusters_netflix']], on='labels', how='left')"
   ]
  },
  {
   "cell_type": "code",
   "execution_count": 50,
   "metadata": {},
   "outputs": [],
   "source": [
    "df_clusters_final = pd.merge(df_clusters_final, clusters_flow[['labels', 'percentage_clusters_flow']], on='labels', how='left')"
   ]
  },
  {
   "cell_type": "code",
   "execution_count": 51,
   "metadata": {},
   "outputs": [],
   "source": [
    "df_clusters_final = pd.merge(df_clusters_final, clusters_amazon[['labels', 'percentage_clusters_amazon']], on='labels', how='left')"
   ]
  },
  {
   "cell_type": "code",
   "execution_count": 52,
   "metadata": {},
   "outputs": [],
   "source": [
    "df_clusters_final = pd.merge(df_clusters_final, clusters_on_video[['labels', 'percentage_clusters_on_video']], on='labels', how='left')"
   ]
  },
  {
   "cell_type": "code",
   "execution_count": 53,
   "metadata": {},
   "outputs": [],
   "source": [
    "df_clusters_final = pd.merge(df_clusters_final, clusters_fox[['labels', 'percentage_clusters_fox']], on='labels', how='left')"
   ]
  },
  {
   "cell_type": "code",
   "execution_count": 54,
   "metadata": {},
   "outputs": [
    {
     "data": {
      "text/html": [
       "<div>\n",
       "<style scoped>\n",
       "    .dataframe tbody tr th:only-of-type {\n",
       "        vertical-align: middle;\n",
       "    }\n",
       "\n",
       "    .dataframe tbody tr th {\n",
       "        vertical-align: top;\n",
       "    }\n",
       "\n",
       "    .dataframe thead th {\n",
       "        text-align: right;\n",
       "    }\n",
       "</style>\n",
       "<table border=\"1\" class=\"dataframe\">\n",
       "  <thead>\n",
       "    <tr style=\"text-align: right;\">\n",
       "      <th></th>\n",
       "      <th>labels</th>\n",
       "      <th>percentage_clusters_hbo</th>\n",
       "      <th>percentage_clusters_claro</th>\n",
       "      <th>percentage_clusters_sony</th>\n",
       "      <th>percentage_clusters_netflix</th>\n",
       "      <th>percentage_clusters_flow</th>\n",
       "      <th>percentage_clusters_amazon</th>\n",
       "      <th>percentage_clusters_on_video</th>\n",
       "      <th>percentage_clusters_fox</th>\n",
       "    </tr>\n",
       "  </thead>\n",
       "  <tbody>\n",
       "    <tr>\n",
       "      <th>0</th>\n",
       "      <td>10</td>\n",
       "      <td>19.285714</td>\n",
       "      <td>16.211604</td>\n",
       "      <td>14.285714</td>\n",
       "      <td>15.332092</td>\n",
       "      <td>12.299465</td>\n",
       "      <td>21.447028</td>\n",
       "      <td>19.108280</td>\n",
       "      <td>11.618257</td>\n",
       "    </tr>\n",
       "    <tr>\n",
       "      <th>1</th>\n",
       "      <td>4</td>\n",
       "      <td>15.000000</td>\n",
       "      <td>3.071672</td>\n",
       "      <td>0.000000</td>\n",
       "      <td>19.801366</td>\n",
       "      <td>5.080214</td>\n",
       "      <td>8.527132</td>\n",
       "      <td>2.866242</td>\n",
       "      <td>2.904564</td>\n",
       "    </tr>\n",
       "  </tbody>\n",
       "</table>\n",
       "</div>"
      ],
      "text/plain": [
       "   labels  percentage_clusters_hbo  percentage_clusters_claro  \\\n",
       "0      10                19.285714                  16.211604   \n",
       "1       4                15.000000                   3.071672   \n",
       "\n",
       "   percentage_clusters_sony  percentage_clusters_netflix  \\\n",
       "0                 14.285714                    15.332092   \n",
       "1                  0.000000                    19.801366   \n",
       "\n",
       "   percentage_clusters_flow  percentage_clusters_amazon  \\\n",
       "0                 12.299465                   21.447028   \n",
       "1                  5.080214                    8.527132   \n",
       "\n",
       "   percentage_clusters_on_video  percentage_clusters_fox  \n",
       "0                     19.108280                11.618257  \n",
       "1                      2.866242                 2.904564  "
      ]
     },
     "execution_count": 54,
     "metadata": {},
     "output_type": "execute_result"
    }
   ],
   "source": [
    "df_clusters_final.head(2)"
   ]
  },
  {
   "cell_type": "code",
   "execution_count": 55,
   "metadata": {},
   "outputs": [
    {
     "name": "stdout",
     "output_type": "stream",
     "text": [
      "[10  4  8  7 17  6 14 18 16  9 22 24 23 19  5 21 13 11  0 15 20  3  2  1\n",
      " 12]\n"
     ]
    }
   ],
   "source": [
    "print(df_clusters_final['labels'].values)"
   ]
  },
  {
   "cell_type": "code",
   "execution_count": 56,
   "metadata": {},
   "outputs": [],
   "source": [
    "df_clusters_final_transpose = df_clusters_final[['percentage_clusters_hbo',\t'percentage_clusters_claro',\t'percentage_clusters_sony',\t'percentage_clusters_netflix'\t,'percentage_clusters_flow',\t'percentage_clusters_amazon',\t'percentage_clusters_on_video',\t'percentage_clusters_fox']].transpose()"
   ]
  },
  {
   "cell_type": "code",
   "execution_count": 57,
   "metadata": {},
   "outputs": [],
   "source": [
    "df_clusters_final_transpose.columns = df_clusters_final['labels'].values"
   ]
  },
  {
   "cell_type": "code",
   "execution_count": 58,
   "metadata": {},
   "outputs": [
    {
     "data": {
      "text/html": [
       "<div>\n",
       "<style scoped>\n",
       "    .dataframe tbody tr th:only-of-type {\n",
       "        vertical-align: middle;\n",
       "    }\n",
       "\n",
       "    .dataframe tbody tr th {\n",
       "        vertical-align: top;\n",
       "    }\n",
       "\n",
       "    .dataframe thead th {\n",
       "        text-align: right;\n",
       "    }\n",
       "</style>\n",
       "<table border=\"1\" class=\"dataframe\">\n",
       "  <thead>\n",
       "    <tr style=\"text-align: right;\">\n",
       "      <th></th>\n",
       "      <th>10</th>\n",
       "      <th>4</th>\n",
       "      <th>8</th>\n",
       "      <th>7</th>\n",
       "      <th>17</th>\n",
       "      <th>6</th>\n",
       "      <th>14</th>\n",
       "      <th>18</th>\n",
       "      <th>16</th>\n",
       "      <th>9</th>\n",
       "      <th>...</th>\n",
       "      <th>21</th>\n",
       "      <th>13</th>\n",
       "      <th>11</th>\n",
       "      <th>0</th>\n",
       "      <th>15</th>\n",
       "      <th>20</th>\n",
       "      <th>3</th>\n",
       "      <th>2</th>\n",
       "      <th>1</th>\n",
       "      <th>12</th>\n",
       "    </tr>\n",
       "  </thead>\n",
       "  <tbody>\n",
       "    <tr>\n",
       "      <th>percentage_clusters_hbo</th>\n",
       "      <td>19.285714</td>\n",
       "      <td>15.000000</td>\n",
       "      <td>13.571429</td>\n",
       "      <td>8.571429</td>\n",
       "      <td>7.142857</td>\n",
       "      <td>7.142857</td>\n",
       "      <td>6.428571</td>\n",
       "      <td>4.285714</td>\n",
       "      <td>4.285714</td>\n",
       "      <td>4.285714</td>\n",
       "      <td>...</td>\n",
       "      <td>0.000000</td>\n",
       "      <td>0.000000</td>\n",
       "      <td>0.000000</td>\n",
       "      <td>0.000000</td>\n",
       "      <td>0.000000</td>\n",
       "      <td>0.000000</td>\n",
       "      <td>0.0</td>\n",
       "      <td>0.0</td>\n",
       "      <td>0.0</td>\n",
       "      <td>0.0</td>\n",
       "    </tr>\n",
       "    <tr>\n",
       "      <th>percentage_clusters_claro</th>\n",
       "      <td>16.211604</td>\n",
       "      <td>3.071672</td>\n",
       "      <td>20.364050</td>\n",
       "      <td>11.262799</td>\n",
       "      <td>7.110353</td>\n",
       "      <td>8.930603</td>\n",
       "      <td>8.532423</td>\n",
       "      <td>5.290102</td>\n",
       "      <td>4.778157</td>\n",
       "      <td>5.403868</td>\n",
       "      <td>...</td>\n",
       "      <td>0.056883</td>\n",
       "      <td>0.113766</td>\n",
       "      <td>0.056883</td>\n",
       "      <td>0.170648</td>\n",
       "      <td>0.056883</td>\n",
       "      <td>0.113766</td>\n",
       "      <td>0.0</td>\n",
       "      <td>0.0</td>\n",
       "      <td>0.0</td>\n",
       "      <td>0.0</td>\n",
       "    </tr>\n",
       "  </tbody>\n",
       "</table>\n",
       "<p>2 rows × 25 columns</p>\n",
       "</div>"
      ],
      "text/plain": [
       "                                  10         4          8          7   \\\n",
       "percentage_clusters_hbo    19.285714  15.000000  13.571429   8.571429   \n",
       "percentage_clusters_claro  16.211604   3.071672  20.364050  11.262799   \n",
       "\n",
       "                                 17        6         14        18        16  \\\n",
       "percentage_clusters_hbo    7.142857  7.142857  6.428571  4.285714  4.285714   \n",
       "percentage_clusters_claro  7.110353  8.930603  8.532423  5.290102  4.778157   \n",
       "\n",
       "                                 9  ...         21        13        11  \\\n",
       "percentage_clusters_hbo    4.285714 ...   0.000000  0.000000  0.000000   \n",
       "percentage_clusters_claro  5.403868 ...   0.056883  0.113766  0.056883   \n",
       "\n",
       "                                 0         15        20   3    2    1    12  \n",
       "percentage_clusters_hbo    0.000000  0.000000  0.000000  0.0  0.0  0.0  0.0  \n",
       "percentage_clusters_claro  0.170648  0.056883  0.113766  0.0  0.0  0.0  0.0  \n",
       "\n",
       "[2 rows x 25 columns]"
      ]
     },
     "execution_count": 58,
     "metadata": {},
     "output_type": "execute_result"
    }
   ],
   "source": [
    "df_clusters_final_transpose.head(2)"
   ]
  },
  {
   "cell_type": "code",
   "execution_count": 59,
   "metadata": {},
   "outputs": [],
   "source": [
    "df_numpy_array_platforms = df_clusters_final_transpose.values"
   ]
  },
  {
   "cell_type": "code",
   "execution_count": 60,
   "metadata": {},
   "outputs": [
    {
     "name": "stdout",
     "output_type": "stream",
     "text": [
      "[[19.28571429 15.         13.57142857  8.57142857  7.14285714  7.14285714\n",
      "   6.42857143  4.28571429  4.28571429  4.28571429  3.57142857  2.85714286\n",
      "   2.14285714  0.71428571  0.71428571  0.          0.          0.\n",
      "   0.          0.          0.          0.          0.          0.\n",
      "   0.        ]\n",
      " [16.2116041   3.07167235 20.36405006 11.26279863  7.11035267  8.93060296\n",
      "   8.53242321  5.29010239  4.778157    5.40386803  1.08077361  3.35608646\n",
      "   2.90102389  0.22753129  0.62571104  0.05688282  0.11376564  0.05688282\n",
      "   0.17064846  0.05688282  0.11376564  0.          0.          0.\n",
      "   0.        ]\n",
      " [14.28571429  0.         14.28571429  7.14285714 10.71428571  3.57142857\n",
      "   5.35714286 10.71428571  5.35714286 12.5         0.          3.57142857\n",
      "   5.35714286  7.14285714  0.          0.          0.          0.\n",
      "   0.          0.          0.          0.          0.          0.\n",
      "   0.        ]\n",
      " [15.33209187 19.80136561 23.4016139   7.13842334  5.77281192  6.51769088\n",
      "   5.33829919  3.53817505  2.91744258  3.4761018   0.86902545  2.6691496\n",
      "   1.36561142  0.          0.37243948  0.          0.37243948  0.\n",
      "   0.          0.          0.          0.06207325  0.          0.06207325\n",
      "   0.06207325]\n",
      " [12.29946524  5.0802139  25.6684492  11.4973262   7.21925134  6.14973262\n",
      "   4.27807487  6.14973262  5.34759358  5.88235294  1.87165775  3.20855615\n",
      "   2.40641711  0.80213904  0.80213904  0.          0.          0.\n",
      "   0.          0.          0.          0.          0.26737968  0.\n",
      "   0.        ]\n",
      " [21.44702842  8.52713178 22.99741602  8.65633075  7.62273902  6.20155039\n",
      "   4.90956072  4.39276486  4.00516796  2.3255814   0.90439276  4.00516796\n",
      "   2.06718346  0.          0.3875969   0.          0.3875969   0.\n",
      "   0.12919897  0.          0.          0.12919897  0.12919897  0.\n",
      "   0.        ]\n",
      " [19.10828025  2.86624204 17.8343949  11.78343949  7.00636943  5.73248408\n",
      "   9.87261146  4.14012739  3.82165605  7.00636943  0.31847134  2.22929936\n",
      "   4.77707006  0.63694268  1.27388535  0.          0.          0.\n",
      "   0.          0.          0.          0.          0.          0.\n",
      "   0.        ]\n",
      " [11.61825726  2.90456432 31.95020747 10.78838174  3.73443983  3.73443983\n",
      "   9.12863071  4.56431535  4.97925311  3.73443983  3.31950207  3.31950207\n",
      "   3.73443983  0.          0.82987552  0.          0.          0.\n",
      "   0.          0.          0.          0.          0.          0.\n",
      "   0.        ]]\n"
     ]
    }
   ],
   "source": [
    "print(df_numpy_array_platforms)"
   ]
  },
  {
   "cell_type": "code",
   "execution_count": 61,
   "metadata": {},
   "outputs": [],
   "source": [
    "# ===> Graficamos las 8 plataformas en un espacio de dos dimensiones\n",
    "\n",
    "from sklearn.manifold import TSNE\n",
    "\n",
    "tsne = TSNE(n_components=2, perplexity=10, metric = 'cosine')\n",
    "#tsne = TSNE(perplexity = 10, metric='precomputed', random_state = 12)\n",
    "\n",
    "result = tsne.fit_transform(df_numpy_array_platforms)\n"
   ]
  },
  {
   "cell_type": "code",
   "execution_count": 62,
   "metadata": {},
   "outputs": [],
   "source": [
    "platforms = ['HBO', 'Claro', 'Sony', 'Netflix', 'Flow', 'Amazon', 'On Video', 'Fox']"
   ]
  },
  {
   "cell_type": "code",
   "execution_count": 63,
   "metadata": {},
   "outputs": [],
   "source": [
    "import matplotlib.pyplot as plt\n",
    "\n",
    "# ===> La forma que se genera parece demasiado simetrica. Es raro, no?\n",
    "\n",
    "fig, ax = plt.subplots(figsize=(10,10))\n",
    "\n",
    "plt.scatter(result[:,0], result[:,1])\n",
    "\n",
    "for i, txt in enumerate(platforms):\n",
    "    ax.annotate(txt, (result[i,0], result[i,1]))"
   ]
  },
  {
   "cell_type": "code",
   "execution_count": 64,
   "metadata": {},
   "outputs": [],
   "source": [
    "from sklearn.decomposition import TruncatedSVD\n",
    "svd = TruncatedSVD(2)\n",
    "clusters_transformed = svd.fit_transform(df_numpy_array_platforms)"
   ]
  },
  {
   "cell_type": "code",
   "execution_count": 65,
   "metadata": {},
   "outputs": [
    {
     "name": "stdout",
     "output_type": "stream",
     "text": [
      "[[ 30.6819137    8.56015378]\n",
      " [ 32.92042886  -3.50907021]\n",
      " [ 27.77807997 -11.15629371]\n",
      " [ 34.50138714  12.58122598]\n",
      " [ 33.92135752  -2.85786325]\n",
      " [ 35.71982757   3.31659068]\n",
      " [ 32.4656106   -4.16949739]\n",
      " [ 36.34713263  -4.33187678]]\n"
     ]
    }
   ],
   "source": [
    "print(clusters_transformed)"
   ]
  },
  {
   "cell_type": "code",
   "execution_count": 66,
   "metadata": {},
   "outputs": [
    {
     "data": {
      "image/png": "[encoded data removed]",
      "text/plain": [
       "<Figure size 720x720 with 1 Axes>"
      ]
     },
     "metadata": {},
     "output_type": "display_data"
    }
   ],
   "source": [
    "fig, ax = plt.subplots(figsize=(10,10))\n",
    "\n",
    "plt.scatter(clusters_transformed[:,0], clusters_transformed[:,1])\n",
    "\n",
    "for i, txt in enumerate(platforms):\n",
    "    ax.annotate(txt, (clusters_transformed[i,0], clusters_transformed[i,1]))"
   ]
  },
  {
   "cell_type": "code",
   "execution_count": 67,
   "metadata": {},
   "outputs": [
    {
     "data": {
      "text/html": [
       "<div>\n",
       "<style scoped>\n",
       "    .dataframe tbody tr th:only-of-type {\n",
       "        vertical-align: middle;\n",
       "    }\n",
       "\n",
       "    .dataframe tbody tr th {\n",
       "        vertical-align: top;\n",
       "    }\n",
       "\n",
       "    .dataframe thead th {\n",
       "        text-align: right;\n",
       "    }\n",
       "</style>\n",
       "<table border=\"1\" class=\"dataframe\">\n",
       "  <thead>\n",
       "    <tr style=\"text-align: right;\">\n",
       "      <th></th>\n",
       "      <th>10</th>\n",
       "      <th>4</th>\n",
       "      <th>8</th>\n",
       "      <th>7</th>\n",
       "      <th>17</th>\n",
       "      <th>6</th>\n",
       "      <th>14</th>\n",
       "      <th>18</th>\n",
       "      <th>16</th>\n",
       "      <th>9</th>\n",
       "      <th>...</th>\n",
       "      <th>21</th>\n",
       "      <th>13</th>\n",
       "      <th>11</th>\n",
       "      <th>0</th>\n",
       "      <th>15</th>\n",
       "      <th>20</th>\n",
       "      <th>3</th>\n",
       "      <th>2</th>\n",
       "      <th>1</th>\n",
       "      <th>12</th>\n",
       "    </tr>\n",
       "  </thead>\n",
       "  <tbody>\n",
       "    <tr>\n",
       "      <th>percentage_clusters_hbo</th>\n",
       "      <td>19.285714</td>\n",
       "      <td>15.000000</td>\n",
       "      <td>13.571429</td>\n",
       "      <td>8.571429</td>\n",
       "      <td>7.142857</td>\n",
       "      <td>7.142857</td>\n",
       "      <td>6.428571</td>\n",
       "      <td>4.285714</td>\n",
       "      <td>4.285714</td>\n",
       "      <td>4.285714</td>\n",
       "      <td>...</td>\n",
       "      <td>0.000000</td>\n",
       "      <td>0.000000</td>\n",
       "      <td>0.000000</td>\n",
       "      <td>0.000000</td>\n",
       "      <td>0.000000</td>\n",
       "      <td>0.000000</td>\n",
       "      <td>0.000000</td>\n",
       "      <td>0.000000</td>\n",
       "      <td>0.000000</td>\n",
       "      <td>0.000000</td>\n",
       "    </tr>\n",
       "    <tr>\n",
       "      <th>percentage_clusters_claro</th>\n",
       "      <td>16.211604</td>\n",
       "      <td>3.071672</td>\n",
       "      <td>20.364050</td>\n",
       "      <td>11.262799</td>\n",
       "      <td>7.110353</td>\n",
       "      <td>8.930603</td>\n",
       "      <td>8.532423</td>\n",
       "      <td>5.290102</td>\n",
       "      <td>4.778157</td>\n",
       "      <td>5.403868</td>\n",
       "      <td>...</td>\n",
       "      <td>0.056883</td>\n",
       "      <td>0.113766</td>\n",
       "      <td>0.056883</td>\n",
       "      <td>0.170648</td>\n",
       "      <td>0.056883</td>\n",
       "      <td>0.113766</td>\n",
       "      <td>0.000000</td>\n",
       "      <td>0.000000</td>\n",
       "      <td>0.000000</td>\n",
       "      <td>0.000000</td>\n",
       "    </tr>\n",
       "    <tr>\n",
       "      <th>percentage_clusters_sony</th>\n",
       "      <td>14.285714</td>\n",
       "      <td>0.000000</td>\n",
       "      <td>14.285714</td>\n",
       "      <td>7.142857</td>\n",
       "      <td>10.714286</td>\n",
       "      <td>3.571429</td>\n",
       "      <td>5.357143</td>\n",
       "      <td>10.714286</td>\n",
       "      <td>5.357143</td>\n",
       "      <td>12.500000</td>\n",
       "      <td>...</td>\n",
       "      <td>0.000000</td>\n",
       "      <td>0.000000</td>\n",
       "      <td>0.000000</td>\n",
       "      <td>0.000000</td>\n",
       "      <td>0.000000</td>\n",
       "      <td>0.000000</td>\n",
       "      <td>0.000000</td>\n",
       "      <td>0.000000</td>\n",
       "      <td>0.000000</td>\n",
       "      <td>0.000000</td>\n",
       "    </tr>\n",
       "    <tr>\n",
       "      <th>percentage_clusters_netflix</th>\n",
       "      <td>15.332092</td>\n",
       "      <td>19.801366</td>\n",
       "      <td>23.401614</td>\n",
       "      <td>7.138423</td>\n",
       "      <td>5.772812</td>\n",
       "      <td>6.517691</td>\n",
       "      <td>5.338299</td>\n",
       "      <td>3.538175</td>\n",
       "      <td>2.917443</td>\n",
       "      <td>3.476102</td>\n",
       "      <td>...</td>\n",
       "      <td>0.000000</td>\n",
       "      <td>0.372439</td>\n",
       "      <td>0.000000</td>\n",
       "      <td>0.000000</td>\n",
       "      <td>0.000000</td>\n",
       "      <td>0.000000</td>\n",
       "      <td>0.062073</td>\n",
       "      <td>0.000000</td>\n",
       "      <td>0.062073</td>\n",
       "      <td>0.062073</td>\n",
       "    </tr>\n",
       "    <tr>\n",
       "      <th>percentage_clusters_flow</th>\n",
       "      <td>12.299465</td>\n",
       "      <td>5.080214</td>\n",
       "      <td>25.668449</td>\n",
       "      <td>11.497326</td>\n",
       "      <td>7.219251</td>\n",
       "      <td>6.149733</td>\n",
       "      <td>4.278075</td>\n",
       "      <td>6.149733</td>\n",
       "      <td>5.347594</td>\n",
       "      <td>5.882353</td>\n",
       "      <td>...</td>\n",
       "      <td>0.000000</td>\n",
       "      <td>0.000000</td>\n",
       "      <td>0.000000</td>\n",
       "      <td>0.000000</td>\n",
       "      <td>0.000000</td>\n",
       "      <td>0.000000</td>\n",
       "      <td>0.000000</td>\n",
       "      <td>0.267380</td>\n",
       "      <td>0.000000</td>\n",
       "      <td>0.000000</td>\n",
       "    </tr>\n",
       "    <tr>\n",
       "      <th>percentage_clusters_amazon</th>\n",
       "      <td>21.447028</td>\n",
       "      <td>8.527132</td>\n",
       "      <td>22.997416</td>\n",
       "      <td>8.656331</td>\n",
       "      <td>7.622739</td>\n",
       "      <td>6.201550</td>\n",
       "      <td>4.909561</td>\n",
       "      <td>4.392765</td>\n",
       "      <td>4.005168</td>\n",
       "      <td>2.325581</td>\n",
       "      <td>...</td>\n",
       "      <td>0.000000</td>\n",
       "      <td>0.387597</td>\n",
       "      <td>0.000000</td>\n",
       "      <td>0.129199</td>\n",
       "      <td>0.000000</td>\n",
       "      <td>0.000000</td>\n",
       "      <td>0.129199</td>\n",
       "      <td>0.129199</td>\n",
       "      <td>0.000000</td>\n",
       "      <td>0.000000</td>\n",
       "    </tr>\n",
       "    <tr>\n",
       "      <th>percentage_clusters_on_video</th>\n",
       "      <td>19.108280</td>\n",
       "      <td>2.866242</td>\n",
       "      <td>17.834395</td>\n",
       "      <td>11.783439</td>\n",
       "      <td>7.006369</td>\n",
       "      <td>5.732484</td>\n",
       "      <td>9.872611</td>\n",
       "      <td>4.140127</td>\n",
       "      <td>3.821656</td>\n",
       "      <td>7.006369</td>\n",
       "      <td>...</td>\n",
       "      <td>0.000000</td>\n",
       "      <td>0.000000</td>\n",
       "      <td>0.000000</td>\n",
       "      <td>0.000000</td>\n",
       "      <td>0.000000</td>\n",
       "      <td>0.000000</td>\n",
       "      <td>0.000000</td>\n",
       "      <td>0.000000</td>\n",
       "      <td>0.000000</td>\n",
       "      <td>0.000000</td>\n",
       "    </tr>\n",
       "    <tr>\n",
       "      <th>percentage_clusters_fox</th>\n",
       "      <td>11.618257</td>\n",
       "      <td>2.904564</td>\n",
       "      <td>31.950207</td>\n",
       "      <td>10.788382</td>\n",
       "      <td>3.734440</td>\n",
       "      <td>3.734440</td>\n",
       "      <td>9.128631</td>\n",
       "      <td>4.564315</td>\n",
       "      <td>4.979253</td>\n",
       "      <td>3.734440</td>\n",
       "      <td>...</td>\n",
       "      <td>0.000000</td>\n",
       "      <td>0.000000</td>\n",
       "      <td>0.000000</td>\n",
       "      <td>0.000000</td>\n",
       "      <td>0.000000</td>\n",
       "      <td>0.000000</td>\n",
       "      <td>0.000000</td>\n",
       "      <td>0.000000</td>\n",
       "      <td>0.000000</td>\n",
       "      <td>0.000000</td>\n",
       "    </tr>\n",
       "  </tbody>\n",
       "</table>\n",
       "<p>8 rows × 25 columns</p>\n",
       "</div>"
      ],
      "text/plain": [
       "                                     10         4          8          7   \\\n",
       "percentage_clusters_hbo       19.285714  15.000000  13.571429   8.571429   \n",
       "percentage_clusters_claro     16.211604   3.071672  20.364050  11.262799   \n",
       "percentage_clusters_sony      14.285714   0.000000  14.285714   7.142857   \n",
       "percentage_clusters_netflix   15.332092  19.801366  23.401614   7.138423   \n",
       "percentage_clusters_flow      12.299465   5.080214  25.668449  11.497326   \n",
       "percentage_clusters_amazon    21.447028   8.527132  22.997416   8.656331   \n",
       "percentage_clusters_on_video  19.108280   2.866242  17.834395  11.783439   \n",
       "percentage_clusters_fox       11.618257   2.904564  31.950207  10.788382   \n",
       "\n",
       "                                     17        6         14         18  \\\n",
       "percentage_clusters_hbo        7.142857  7.142857  6.428571   4.285714   \n",
       "percentage_clusters_claro      7.110353  8.930603  8.532423   5.290102   \n",
       "percentage_clusters_sony      10.714286  3.571429  5.357143  10.714286   \n",
       "percentage_clusters_netflix    5.772812  6.517691  5.338299   3.538175   \n",
       "percentage_clusters_flow       7.219251  6.149733  4.278075   6.149733   \n",
       "percentage_clusters_amazon     7.622739  6.201550  4.909561   4.392765   \n",
       "percentage_clusters_on_video   7.006369  5.732484  9.872611   4.140127   \n",
       "percentage_clusters_fox        3.734440  3.734440  9.128631   4.564315   \n",
       "\n",
       "                                    16         9     ...           21  \\\n",
       "percentage_clusters_hbo       4.285714   4.285714    ...     0.000000   \n",
       "percentage_clusters_claro     4.778157   5.403868    ...     0.056883   \n",
       "percentage_clusters_sony      5.357143  12.500000    ...     0.000000   \n",
       "percentage_clusters_netflix   2.917443   3.476102    ...     0.000000   \n",
       "percentage_clusters_flow      5.347594   5.882353    ...     0.000000   \n",
       "percentage_clusters_amazon    4.005168   2.325581    ...     0.000000   \n",
       "percentage_clusters_on_video  3.821656   7.006369    ...     0.000000   \n",
       "percentage_clusters_fox       4.979253   3.734440    ...     0.000000   \n",
       "\n",
       "                                    13        11        0         15  \\\n",
       "percentage_clusters_hbo       0.000000  0.000000  0.000000  0.000000   \n",
       "percentage_clusters_claro     0.113766  0.056883  0.170648  0.056883   \n",
       "percentage_clusters_sony      0.000000  0.000000  0.000000  0.000000   \n",
       "percentage_clusters_netflix   0.372439  0.000000  0.000000  0.000000   \n",
       "percentage_clusters_flow      0.000000  0.000000  0.000000  0.000000   \n",
       "percentage_clusters_amazon    0.387597  0.000000  0.129199  0.000000   \n",
       "percentage_clusters_on_video  0.000000  0.000000  0.000000  0.000000   \n",
       "percentage_clusters_fox       0.000000  0.000000  0.000000  0.000000   \n",
       "\n",
       "                                    20        3         2         1         12  \n",
       "percentage_clusters_hbo       0.000000  0.000000  0.000000  0.000000  0.000000  \n",
       "percentage_clusters_claro     0.113766  0.000000  0.000000  0.000000  0.000000  \n",
       "percentage_clusters_sony      0.000000  0.000000  0.000000  0.000000  0.000000  \n",
       "percentage_clusters_netflix   0.000000  0.062073  0.000000  0.062073  0.062073  \n",
       "percentage_clusters_flow      0.000000  0.000000  0.267380  0.000000  0.000000  \n",
       "percentage_clusters_amazon    0.000000  0.129199  0.129199  0.000000  0.000000  \n",
       "percentage_clusters_on_video  0.000000  0.000000  0.000000  0.000000  0.000000  \n",
       "percentage_clusters_fox       0.000000  0.000000  0.000000  0.000000  0.000000  \n",
       "\n",
       "[8 rows x 25 columns]"
      ]
     },
     "execution_count": 67,
     "metadata": {},
     "output_type": "execute_result"
    }
   ],
   "source": [
    "df_clusters_final_transpose"
   ]
  },
  {
   "cell_type": "code",
   "execution_count": 68,
   "metadata": {},
   "outputs": [
    {
     "data": {
      "text/html": [
       "<div>\n",
       "<style scoped>\n",
       "    .dataframe tbody tr th:only-of-type {\n",
       "        vertical-align: middle;\n",
       "    }\n",
       "\n",
       "    .dataframe tbody tr th {\n",
       "        vertical-align: top;\n",
       "    }\n",
       "\n",
       "    .dataframe thead th {\n",
       "        text-align: right;\n",
       "    }\n",
       "</style>\n",
       "<table border=\"1\" class=\"dataframe\">\n",
       "  <thead>\n",
       "    <tr style=\"text-align: right;\">\n",
       "      <th></th>\n",
       "      <th>labels</th>\n",
       "      <th>percentage_clusters_hbo</th>\n",
       "      <th>percentage_clusters_claro</th>\n",
       "      <th>percentage_clusters_sony</th>\n",
       "      <th>percentage_clusters_netflix</th>\n",
       "      <th>percentage_clusters_flow</th>\n",
       "      <th>percentage_clusters_amazon</th>\n",
       "      <th>percentage_clusters_on_video</th>\n",
       "      <th>percentage_clusters_fox</th>\n",
       "    </tr>\n",
       "  </thead>\n",
       "  <tbody>\n",
       "    <tr>\n",
       "      <th>0</th>\n",
       "      <td>10</td>\n",
       "      <td>19.285714</td>\n",
       "      <td>16.211604</td>\n",
       "      <td>14.285714</td>\n",
       "      <td>15.332092</td>\n",
       "      <td>12.299465</td>\n",
       "      <td>21.447028</td>\n",
       "      <td>19.108280</td>\n",
       "      <td>11.618257</td>\n",
       "    </tr>\n",
       "    <tr>\n",
       "      <th>1</th>\n",
       "      <td>4</td>\n",
       "      <td>15.000000</td>\n",
       "      <td>3.071672</td>\n",
       "      <td>0.000000</td>\n",
       "      <td>19.801366</td>\n",
       "      <td>5.080214</td>\n",
       "      <td>8.527132</td>\n",
       "      <td>2.866242</td>\n",
       "      <td>2.904564</td>\n",
       "    </tr>\n",
       "  </tbody>\n",
       "</table>\n",
       "</div>"
      ],
      "text/plain": [
       "   labels  percentage_clusters_hbo  percentage_clusters_claro  \\\n",
       "0      10                19.285714                  16.211604   \n",
       "1       4                15.000000                   3.071672   \n",
       "\n",
       "   percentage_clusters_sony  percentage_clusters_netflix  \\\n",
       "0                 14.285714                    15.332092   \n",
       "1                  0.000000                    19.801366   \n",
       "\n",
       "   percentage_clusters_flow  percentage_clusters_amazon  \\\n",
       "0                 12.299465                   21.447028   \n",
       "1                  5.080214                    8.527132   \n",
       "\n",
       "   percentage_clusters_on_video  percentage_clusters_fox  \n",
       "0                     19.108280                11.618257  \n",
       "1                      2.866242                 2.904564  "
      ]
     },
     "execution_count": 68,
     "metadata": {},
     "output_type": "execute_result"
    }
   ],
   "source": [
    "df_clusters_final.head(2)"
   ]
  },
  {
   "cell_type": "code",
   "execution_count": 69,
   "metadata": {},
   "outputs": [],
   "source": [
    "df_clusters_final_comparison = df_clusters_final.copy()"
   ]
  },
  {
   "cell_type": "code",
   "execution_count": 70,
   "metadata": {},
   "outputs": [],
   "source": [
    "df_clusters_final_comparison['claro_flow'] = df_clusters_final_comparison['percentage_clusters_claro'] - df_clusters_final_comparison['percentage_clusters_flow']"
   ]
  },
  {
   "cell_type": "code",
   "execution_count": 71,
   "metadata": {
    "scrolled": true
   },
   "outputs": [
    {
     "ename": "NameError",
     "evalue": "name 'sns' is not defined",
     "output_type": "error",
     "traceback": [
      "\u001b[1;31m---------------------------------------------------------------------------\u001b[0m",
      "\u001b[1;31mNameError\u001b[0m                                 Traceback (most recent call last)",
      "\u001b[1;32m<ipython-input-71-ce96e4267bbc>\u001b[0m in \u001b[0;36m<module>\u001b[1;34m()\u001b[0m\n\u001b[1;32m----> 1\u001b[1;33m \u001b[0mdf_clusters_final_comparison\u001b[0m\u001b[1;33m.\u001b[0m\u001b[0msort_values\u001b[0m\u001b[1;33m(\u001b[0m\u001b[0mby\u001b[0m\u001b[1;33m=\u001b[0m\u001b[1;34m'claro_flow'\u001b[0m\u001b[1;33m,\u001b[0m \u001b[0mascending\u001b[0m\u001b[1;33m=\u001b[0m\u001b[1;32mFalse\u001b[0m\u001b[1;33m)\u001b[0m\u001b[1;33m.\u001b[0m\u001b[0mplot\u001b[0m\u001b[1;33m(\u001b[0m\u001b[1;34m\"labels\"\u001b[0m\u001b[1;33m,\u001b[0m \u001b[1;34m\"claro_flow\"\u001b[0m\u001b[1;33m,\u001b[0m \u001b[0mkind\u001b[0m\u001b[1;33m=\u001b[0m\u001b[1;34m\"barh\"\u001b[0m\u001b[1;33m,\u001b[0m \u001b[0mcolor\u001b[0m\u001b[1;33m=\u001b[0m\u001b[0msns\u001b[0m\u001b[1;33m.\u001b[0m\u001b[0mcolor_palette\u001b[0m\u001b[1;33m(\u001b[0m\u001b[1;34m\"deep\"\u001b[0m\u001b[1;33m,\u001b[0m \u001b[1;36m1\u001b[0m\u001b[1;33m)\u001b[0m\u001b[1;33m,\u001b[0m \u001b[0mfigsize\u001b[0m\u001b[1;33m=\u001b[0m\u001b[1;33m(\u001b[0m\u001b[1;36m8\u001b[0m\u001b[1;33m,\u001b[0m\u001b[1;36m8\u001b[0m\u001b[1;33m)\u001b[0m\u001b[1;33m)\u001b[0m\u001b[1;33m\u001b[0m\u001b[0m\n\u001b[0m",
      "\u001b[1;31mNameError\u001b[0m: name 'sns' is not defined"
     ]
    }
   ],
   "source": [
    "df_clusters_final_comparison.sort_values(by='claro_flow', ascending=False).plot(\"labels\", \"claro_flow\", kind=\"barh\", color=sns.color_palette(\"deep\", 1), figsize=(8,8))"
   ]
  },
  {
   "cell_type": "code",
   "execution_count": null,
   "metadata": {},
   "outputs": [],
   "source": [
    "df_clusters_final_comparison['claro_netflix'] = df_clusters_final_comparison['percentage_clusters_claro'] - df_clusters_final_comparison['percentage_clusters_netflix']"
   ]
  },
  {
   "cell_type": "code",
   "execution_count": null,
   "metadata": {},
   "outputs": [],
   "source": [
    "df_clusters_final_comparison.sort_values(by='claro_netflix', ascending=False).plot(\"labels\", \"claro_netflix\", kind=\"barh\", color=sns.color_palette(\"deep\", 1),figsize=(8,8))"
   ]
  },
  {
   "cell_type": "code",
   "execution_count": null,
   "metadata": {},
   "outputs": [],
   "source": []
  }
 ],
 "metadata": {
  "kernelspec": {
   "display_name": "Python 3",
   "language": "python",
   "name": "python3"
  },
  "language_info": {
   "codemirror_mode": {
    "name": "ipython",
    "version": 3
   },
   "file_extension": ".py",
   "mimetype": "text/x-python",
   "name": "python",
   "nbconvert_exporter": "python",
   "pygments_lexer": "ipython3",
   "version": "3.7.0"
  }
 },
 "nbformat": 4,
 "nbformat_minor": 2
}
