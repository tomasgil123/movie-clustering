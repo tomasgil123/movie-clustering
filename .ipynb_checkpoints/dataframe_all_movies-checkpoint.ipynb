{
 "cells": [
  {
   "cell_type": "code",
   "execution_count": 1,
   "metadata": {
    "collapsed": true
   },
   "outputs": [],
   "source": [
    "import numpy as np\n",
    "import pandas as pd"
   ]
  },
  {
   "cell_type": "code",
   "execution_count": 2,
   "metadata": {
    "collapsed": true
   },
   "outputs": [],
   "source": [
    "df_hbo = pd.read_csv('hbo.csv')\n",
    "df_claro = pd.read_csv('claro.csv')\n",
    "df_sony = pd.read_csv('sony.csv')\n",
    "df_netflix = pd.read_csv('netflix.csv')\n",
    "df_flow = pd.read_csv('flow.csv')\n",
    "df_amazon = pd.read_csv('amazon.csv')\n",
    "df_on_video = pd.read_csv('on_video.csv')\n",
    "df_fox = pd.read_csv('fox.csv')"
   ]
  },
  {
   "cell_type": "code",
   "execution_count": 3,
   "metadata": {},
   "outputs": [
    {
     "data": {
      "text/html": [
       "<div>\n",
       "<style>\n",
       "    .dataframe thead tr:only-child th {\n",
       "        text-align: right;\n",
       "    }\n",
       "\n",
       "    .dataframe thead th {\n",
       "        text-align: left;\n",
       "    }\n",
       "\n",
       "    .dataframe tbody tr th {\n",
       "        vertical-align: top;\n",
       "    }\n",
       "</style>\n",
       "<table border=\"1\" class=\"dataframe\">\n",
       "  <thead>\n",
       "    <tr style=\"text-align: right;\">\n",
       "      <th></th>\n",
       "      <th>Unnamed: 0</th>\n",
       "      <th>Unnamed: 0.1</th>\n",
       "      <th>id</th>\n",
       "      <th>title</th>\n",
       "      <th>title_original</th>\n",
       "      <th>genres</th>\n",
       "      <th>director</th>\n",
       "      <th>keywords</th>\n",
       "      <th>cast</th>\n",
       "      <th>genre_empty</th>\n",
       "    </tr>\n",
       "  </thead>\n",
       "  <tbody>\n",
       "    <tr>\n",
       "      <th>0</th>\n",
       "      <td>0</td>\n",
       "      <td>0</td>\n",
       "      <td>1183</td>\n",
       "      <td>2 Fast 2 Furious: A todo gas 2</td>\n",
       "      <td>2 Fast 2 Furious</td>\n",
       "      <td>['Acción', 'Crimen', 'Suspense']</td>\n",
       "      <td>['John Singleton']</td>\n",
       "      <td>['miami', 'car race', 'sports car', 'los angel...</td>\n",
       "      <td>['Paul Walker', 'Tyrese Gibson', 'Eva Mendes',...</td>\n",
       "      <td>32</td>\n",
       "    </tr>\n",
       "    <tr>\n",
       "      <th>1</th>\n",
       "      <td>2</td>\n",
       "      <td>2</td>\n",
       "      <td>1457</td>\n",
       "      <td>21 gramos</td>\n",
       "      <td>21 Grams</td>\n",
       "      <td>['Drama', 'Crimen', 'Suspense']</td>\n",
       "      <td>['Alejandro González Iñárritu']</td>\n",
       "      <td>['life and death', 'loss of loved one', 'trans...</td>\n",
       "      <td>['Sean Penn', 'Naomi Watts', 'Benicio del Toro...</td>\n",
       "      <td>31</td>\n",
       "    </tr>\n",
       "  </tbody>\n",
       "</table>\n",
       "</div>"
      ],
      "text/plain": [
       "   Unnamed: 0  Unnamed: 0.1    id                           title  \\\n",
       "0           0             0  1183  2 Fast 2 Furious: A todo gas 2   \n",
       "1           2             2  1457                       21 gramos   \n",
       "\n",
       "     title_original                            genres  \\\n",
       "0  2 Fast 2 Furious  ['Acción', 'Crimen', 'Suspense']   \n",
       "1          21 Grams   ['Drama', 'Crimen', 'Suspense']   \n",
       "\n",
       "                          director  \\\n",
       "0               ['John Singleton']   \n",
       "1  ['Alejandro González Iñárritu']   \n",
       "\n",
       "                                            keywords  \\\n",
       "0  ['miami', 'car race', 'sports car', 'los angel...   \n",
       "1  ['life and death', 'loss of loved one', 'trans...   \n",
       "\n",
       "                                                cast  genre_empty  \n",
       "0  ['Paul Walker', 'Tyrese Gibson', 'Eva Mendes',...           32  \n",
       "1  ['Sean Penn', 'Naomi Watts', 'Benicio del Toro...           31  "
      ]
     },
     "execution_count": 3,
     "metadata": {},
     "output_type": "execute_result"
    }
   ],
   "source": [
    "df_hbo.head(2)"
   ]
  },
  {
   "cell_type": "code",
   "execution_count": 4,
   "metadata": {},
   "outputs": [
    {
     "data": {
      "text/html": [
       "<div>\n",
       "<style>\n",
       "    .dataframe thead tr:only-child th {\n",
       "        text-align: right;\n",
       "    }\n",
       "\n",
       "    .dataframe thead th {\n",
       "        text-align: left;\n",
       "    }\n",
       "\n",
       "    .dataframe tbody tr th {\n",
       "        vertical-align: top;\n",
       "    }\n",
       "</style>\n",
       "<table border=\"1\" class=\"dataframe\">\n",
       "  <thead>\n",
       "    <tr style=\"text-align: right;\">\n",
       "      <th></th>\n",
       "      <th>Unnamed: 0</th>\n",
       "      <th>Unnamed: 0.1</th>\n",
       "      <th>id</th>\n",
       "      <th>title</th>\n",
       "      <th>title_original</th>\n",
       "      <th>genres</th>\n",
       "      <th>director</th>\n",
       "      <th>keywords</th>\n",
       "      <th>cast</th>\n",
       "      <th>genre_empty</th>\n",
       "    </tr>\n",
       "  </thead>\n",
       "  <tbody>\n",
       "    <tr>\n",
       "      <th>0</th>\n",
       "      <td>0</td>\n",
       "      <td>0</td>\n",
       "      <td>44</td>\n",
       "      <td>500 dias juntos</td>\n",
       "      <td>(500) Days of Summer</td>\n",
       "      <td>['Comedia', 'Drama', 'Romance']</td>\n",
       "      <td>['Marc Webb']</td>\n",
       "      <td>['date', 'jealousy', 'fight', 'architect', 'ga...</td>\n",
       "      <td>['Joseph Gordon-Levitt', 'Zooey Deschanel', 'C...</td>\n",
       "      <td>31</td>\n",
       "    </tr>\n",
       "    <tr>\n",
       "      <th>1</th>\n",
       "      <td>2</td>\n",
       "      <td>2</td>\n",
       "      <td>49</td>\n",
       "      <td>Nuestros maravillosos aliados</td>\n",
       "      <td>*batteries not included</td>\n",
       "      <td>['Comedia', 'Familia', 'Fantasía', 'Ciencia fi...</td>\n",
       "      <td>['Matthew Robbins']</td>\n",
       "      <td>['extraterrestrial technology', 'alien life-fo...</td>\n",
       "      <td>['Hume Cronyn', 'Jessica Tandy', 'Frank McRae'...</td>\n",
       "      <td>53</td>\n",
       "    </tr>\n",
       "  </tbody>\n",
       "</table>\n",
       "</div>"
      ],
      "text/plain": [
       "   Unnamed: 0  Unnamed: 0.1  id                          title  \\\n",
       "0           0             0  44                500 dias juntos   \n",
       "1           2             2  49  Nuestros maravillosos aliados   \n",
       "\n",
       "            title_original                                             genres  \\\n",
       "0     (500) Days of Summer                    ['Comedia', 'Drama', 'Romance']   \n",
       "1  *batteries not included  ['Comedia', 'Familia', 'Fantasía', 'Ciencia fi...   \n",
       "\n",
       "              director                                           keywords  \\\n",
       "0        ['Marc Webb']  ['date', 'jealousy', 'fight', 'architect', 'ga...   \n",
       "1  ['Matthew Robbins']  ['extraterrestrial technology', 'alien life-fo...   \n",
       "\n",
       "                                                cast  genre_empty  \n",
       "0  ['Joseph Gordon-Levitt', 'Zooey Deschanel', 'C...           31  \n",
       "1  ['Hume Cronyn', 'Jessica Tandy', 'Frank McRae'...           53  "
      ]
     },
     "execution_count": 4,
     "metadata": {},
     "output_type": "execute_result"
    }
   ],
   "source": [
    "df_claro.head(2)"
   ]
  },
  {
   "cell_type": "code",
   "execution_count": 5,
   "metadata": {},
   "outputs": [
    {
     "name": "stdout",
     "output_type": "stream",
     "text": [
      "140\n",
      "1758\n",
      "774\n",
      "1611\n",
      "374\n",
      "314\n",
      "56\n",
      "241\n"
     ]
    }
   ],
   "source": [
    "print(len(df_hbo.index))\n",
    "print(len(df_claro.index))\n",
    "print(len(df_amazon.index))\n",
    "print(len(df_netflix.index))\n",
    "print(len(df_flow.index))\n",
    "print(len(df_on_video.index))\n",
    "print(len(df_sony.index))\n",
    "print(len(df_fox.index))"
   ]
  },
  {
   "cell_type": "code",
   "execution_count": 6,
   "metadata": {
    "collapsed": true
   },
   "outputs": [],
   "source": [
    "# ===> Unimos los diferentes dataframes\n",
    "\n",
    "frames = [df_hbo, df_claro, df_amazon, df_netflix, df_flow, df_on_video, df_sony, df_fox]\n",
    "\n",
    "df = pd.concat(frames)"
   ]
  },
  {
   "cell_type": "code",
   "execution_count": 7,
   "metadata": {},
   "outputs": [
    {
     "name": "stdout",
     "output_type": "stream",
     "text": [
      "5268\n"
     ]
    }
   ],
   "source": [
    "print(len(df.index))"
   ]
  },
  {
   "cell_type": "code",
   "execution_count": 8,
   "metadata": {
    "collapsed": true
   },
   "outputs": [],
   "source": [
    "df = df.drop_duplicates(subset=['id'])"
   ]
  },
  {
   "cell_type": "code",
   "execution_count": 9,
   "metadata": {},
   "outputs": [],
   "source": [
    "df= df.drop_duplicates(subset=['title_original', 'director'])"
   ]
  },
  {
   "cell_type": "code",
   "execution_count": 10,
   "metadata": {},
   "outputs": [
    {
     "name": "stdout",
     "output_type": "stream",
     "text": [
      "4472\n"
     ]
    }
   ],
   "source": [
    "print(len(df.index)) # Pareciera que no se comparten tantas peliculas"
   ]
  },
  {
   "cell_type": "code",
   "execution_count": 11,
   "metadata": {
    "collapsed": true
   },
   "outputs": [],
   "source": [
    "df['genres']=df['genres'].str.strip('[]').str.replace(' ','').str.replace(\"'\",'')\n",
    "df['genres']=df['genres'].str.split(',')\n",
    "\n",
    "df['keywords']=df['keywords'].str.strip('[]').str.replace(' ','').str.replace(\"'\",'')\n",
    "df['keywords']=df['keywords'].str.split(',')\n",
    "\n",
    "df['director']=df['director'].str.strip('[]').str.replace(' ','').str.replace(\"'\",'')\n",
    "df['director']=df['director'].str.split(',')\n",
    "\n",
    "df['cast']=df['cast'].str.strip('[]').str.replace(' ','').str.replace(\"'\",'')\n",
    "df['cast']=df['cast'].str.split(',')"
   ]
  },
  {
   "cell_type": "code",
   "execution_count": 12,
   "metadata": {
    "collapsed": true
   },
   "outputs": [],
   "source": [
    "# ===> Vamos a crear el vector a partir de los datos en el array de una columna\n",
    "\n",
    "# ===> Creamos la lista de valores unicos\n",
    "\n",
    "def create_unique_list(dataframe, column):\n",
    "    \n",
    "    list_unique_items = []\n",
    "    \n",
    "    for index, row in dataframe.iterrows():\n",
    "        list_items = row[column]\n",
    "    \n",
    "        for item in list_items:\n",
    "            if item not in list_unique_items:\n",
    "                list_unique_items.append(item)\n",
    "            \n",
    "    return list_unique_items\n",
    "\n",
    "# ===> binary va iterar sobre los valores de un array y chequear que valores estan en la lista de valores unicos\n",
    "\n",
    "def binary(list_items, list_unique_items):\n",
    "    \n",
    "    binaryList = []\n",
    "    \n",
    "    for item in list_unique_items:\n",
    "        if item in list_items:\n",
    "            binaryList.append(1)\n",
    "        else:\n",
    "            binaryList.append(0)\n",
    "    \n",
    "    return binaryList\n",
    "\n",
    "# ===> create_vector nos va a devolver el dataframe con una nueva columna, que representa un vector binario del atributo\n",
    "# ===> en cuestion (genero, cast, director, etc)\n",
    "\n",
    "def create_vector(dataframe, column_name):\n",
    "    \n",
    "    unique_list = create_unique_list(dataframe, column_name)\n",
    "    \n",
    "    column_name_vector = column_name + '_bin'\n",
    "    \n",
    "    dataframe[column_name_vector] = dataframe[column_name].apply(lambda x: binary(x, unique_list))\n",
    "    \n",
    "    return dataframe"
   ]
  },
  {
   "cell_type": "code",
   "execution_count": 13,
   "metadata": {},
   "outputs": [
    {
     "data": {
      "text/html": [
       "<div>\n",
       "<style>\n",
       "    .dataframe thead tr:only-child th {\n",
       "        text-align: right;\n",
       "    }\n",
       "\n",
       "    .dataframe thead th {\n",
       "        text-align: left;\n",
       "    }\n",
       "\n",
       "    .dataframe tbody tr th {\n",
       "        vertical-align: top;\n",
       "    }\n",
       "</style>\n",
       "<table border=\"1\" class=\"dataframe\">\n",
       "  <thead>\n",
       "    <tr style=\"text-align: right;\">\n",
       "      <th></th>\n",
       "      <th>Unnamed: 0</th>\n",
       "      <th>Unnamed: 0.1</th>\n",
       "      <th>id</th>\n",
       "      <th>title</th>\n",
       "      <th>title_original</th>\n",
       "      <th>genres</th>\n",
       "      <th>director</th>\n",
       "      <th>keywords</th>\n",
       "      <th>cast</th>\n",
       "      <th>genre_empty</th>\n",
       "      <th>keywords_bin</th>\n",
       "    </tr>\n",
       "  </thead>\n",
       "  <tbody>\n",
       "    <tr>\n",
       "      <th>0</th>\n",
       "      <td>0</td>\n",
       "      <td>0</td>\n",
       "      <td>1183</td>\n",
       "      <td>2 Fast 2 Furious: A todo gas 2</td>\n",
       "      <td>2 Fast 2 Furious</td>\n",
       "      <td>[Acción, Crimen, Suspense]</td>\n",
       "      <td>[JohnSingleton]</td>\n",
       "      <td>[miami, carrace, sportscar, losangeles, car, a...</td>\n",
       "      <td>[PaulWalker, TyreseGibson, EvaMendes, ColeHaus...</td>\n",
       "      <td>32</td>\n",
       "      <td>[1, 1, 1, 1, 1, 1, 0, 0, 0, 0, 0, 0, 0, 0, 0, ...</td>\n",
       "    </tr>\n",
       "    <tr>\n",
       "      <th>1</th>\n",
       "      <td>2</td>\n",
       "      <td>2</td>\n",
       "      <td>1457</td>\n",
       "      <td>21 gramos</td>\n",
       "      <td>21 Grams</td>\n",
       "      <td>[Drama, Crimen, Suspense]</td>\n",
       "      <td>[AlejandroGonzálezIñárritu]</td>\n",
       "      <td>[lifeanddeath, lossoflovedone, transplantation...</td>\n",
       "      <td>[SeanPenn, NaomiWatts, BeniciodelToro, DannyHu...</td>\n",
       "      <td>31</td>\n",
       "      <td>[0, 0, 0, 0, 0, 0, 1, 1, 1, 1, 1, 1, 1, 1, 1, ...</td>\n",
       "    </tr>\n",
       "  </tbody>\n",
       "</table>\n",
       "</div>"
      ],
      "text/plain": [
       "   Unnamed: 0  Unnamed: 0.1    id                           title  \\\n",
       "0           0             0  1183  2 Fast 2 Furious: A todo gas 2   \n",
       "1           2             2  1457                       21 gramos   \n",
       "\n",
       "     title_original                      genres                     director  \\\n",
       "0  2 Fast 2 Furious  [Acción, Crimen, Suspense]              [JohnSingleton]   \n",
       "1          21 Grams   [Drama, Crimen, Suspense]  [AlejandroGonzálezIñárritu]   \n",
       "\n",
       "                                            keywords  \\\n",
       "0  [miami, carrace, sportscar, losangeles, car, a...   \n",
       "1  [lifeanddeath, lossoflovedone, transplantation...   \n",
       "\n",
       "                                                cast  genre_empty  \\\n",
       "0  [PaulWalker, TyreseGibson, EvaMendes, ColeHaus...           32   \n",
       "1  [SeanPenn, NaomiWatts, BeniciodelToro, DannyHu...           31   \n",
       "\n",
       "                                        keywords_bin  \n",
       "0  [1, 1, 1, 1, 1, 1, 0, 0, 0, 0, 0, 0, 0, 0, 0, ...  \n",
       "1  [0, 0, 0, 0, 0, 0, 1, 1, 1, 1, 1, 1, 1, 1, 1, ...  "
      ]
     },
     "execution_count": 13,
     "metadata": {},
     "output_type": "execute_result"
    }
   ],
   "source": [
    "df = create_vector(df, 'keywords')\n",
    "df.head(2)"
   ]
  },
  {
   "cell_type": "code",
   "execution_count": 14,
   "metadata": {},
   "outputs": [
    {
     "data": {
      "text/html": [
       "<div>\n",
       "<style>\n",
       "    .dataframe thead tr:only-child th {\n",
       "        text-align: right;\n",
       "    }\n",
       "\n",
       "    .dataframe thead th {\n",
       "        text-align: left;\n",
       "    }\n",
       "\n",
       "    .dataframe tbody tr th {\n",
       "        vertical-align: top;\n",
       "    }\n",
       "</style>\n",
       "<table border=\"1\" class=\"dataframe\">\n",
       "  <thead>\n",
       "    <tr style=\"text-align: right;\">\n",
       "      <th></th>\n",
       "      <th>Unnamed: 0</th>\n",
       "      <th>Unnamed: 0.1</th>\n",
       "      <th>id</th>\n",
       "      <th>title</th>\n",
       "      <th>title_original</th>\n",
       "      <th>genres</th>\n",
       "      <th>director</th>\n",
       "      <th>keywords</th>\n",
       "      <th>cast</th>\n",
       "      <th>genre_empty</th>\n",
       "      <th>keywords_bin</th>\n",
       "      <th>genres_bin</th>\n",
       "    </tr>\n",
       "  </thead>\n",
       "  <tbody>\n",
       "    <tr>\n",
       "      <th>0</th>\n",
       "      <td>0</td>\n",
       "      <td>0</td>\n",
       "      <td>1183</td>\n",
       "      <td>2 Fast 2 Furious: A todo gas 2</td>\n",
       "      <td>2 Fast 2 Furious</td>\n",
       "      <td>[Acción, Crimen, Suspense]</td>\n",
       "      <td>[JohnSingleton]</td>\n",
       "      <td>[miami, carrace, sportscar, losangeles, car, a...</td>\n",
       "      <td>[PaulWalker, TyreseGibson, EvaMendes, ColeHaus...</td>\n",
       "      <td>32</td>\n",
       "      <td>[1, 1, 1, 1, 1, 1, 0, 0, 0, 0, 0, 0, 0, 0, 0, ...</td>\n",
       "      <td>[1, 1, 1, 0, 0, 0, 0, 0, 0, 0, 0, 0, 0, 0, 0, ...</td>\n",
       "    </tr>\n",
       "    <tr>\n",
       "      <th>1</th>\n",
       "      <td>2</td>\n",
       "      <td>2</td>\n",
       "      <td>1457</td>\n",
       "      <td>21 gramos</td>\n",
       "      <td>21 Grams</td>\n",
       "      <td>[Drama, Crimen, Suspense]</td>\n",
       "      <td>[AlejandroGonzálezIñárritu]</td>\n",
       "      <td>[lifeanddeath, lossoflovedone, transplantation...</td>\n",
       "      <td>[SeanPenn, NaomiWatts, BeniciodelToro, DannyHu...</td>\n",
       "      <td>31</td>\n",
       "      <td>[0, 0, 0, 0, 0, 0, 1, 1, 1, 1, 1, 1, 1, 1, 1, ...</td>\n",
       "      <td>[0, 1, 1, 1, 0, 0, 0, 0, 0, 0, 0, 0, 0, 0, 0, ...</td>\n",
       "    </tr>\n",
       "  </tbody>\n",
       "</table>\n",
       "</div>"
      ],
      "text/plain": [
       "   Unnamed: 0  Unnamed: 0.1    id                           title  \\\n",
       "0           0             0  1183  2 Fast 2 Furious: A todo gas 2   \n",
       "1           2             2  1457                       21 gramos   \n",
       "\n",
       "     title_original                      genres                     director  \\\n",
       "0  2 Fast 2 Furious  [Acción, Crimen, Suspense]              [JohnSingleton]   \n",
       "1          21 Grams   [Drama, Crimen, Suspense]  [AlejandroGonzálezIñárritu]   \n",
       "\n",
       "                                            keywords  \\\n",
       "0  [miami, carrace, sportscar, losangeles, car, a...   \n",
       "1  [lifeanddeath, lossoflovedone, transplantation...   \n",
       "\n",
       "                                                cast  genre_empty  \\\n",
       "0  [PaulWalker, TyreseGibson, EvaMendes, ColeHaus...           32   \n",
       "1  [SeanPenn, NaomiWatts, BeniciodelToro, DannyHu...           31   \n",
       "\n",
       "                                        keywords_bin  \\\n",
       "0  [1, 1, 1, 1, 1, 1, 0, 0, 0, 0, 0, 0, 0, 0, 0, ...   \n",
       "1  [0, 0, 0, 0, 0, 0, 1, 1, 1, 1, 1, 1, 1, 1, 1, ...   \n",
       "\n",
       "                                          genres_bin  \n",
       "0  [1, 1, 1, 0, 0, 0, 0, 0, 0, 0, 0, 0, 0, 0, 0, ...  \n",
       "1  [0, 1, 1, 1, 0, 0, 0, 0, 0, 0, 0, 0, 0, 0, 0, ...  "
      ]
     },
     "execution_count": 14,
     "metadata": {},
     "output_type": "execute_result"
    }
   ],
   "source": [
    "df = create_vector(df, 'genres')\n",
    "df.head(2)"
   ]
  },
  {
   "cell_type": "code",
   "execution_count": 15,
   "metadata": {},
   "outputs": [
    {
     "data": {
      "text/html": [
       "<div>\n",
       "<style>\n",
       "    .dataframe thead tr:only-child th {\n",
       "        text-align: right;\n",
       "    }\n",
       "\n",
       "    .dataframe thead th {\n",
       "        text-align: left;\n",
       "    }\n",
       "\n",
       "    .dataframe tbody tr th {\n",
       "        vertical-align: top;\n",
       "    }\n",
       "</style>\n",
       "<table border=\"1\" class=\"dataframe\">\n",
       "  <thead>\n",
       "    <tr style=\"text-align: right;\">\n",
       "      <th></th>\n",
       "      <th>Unnamed: 0</th>\n",
       "      <th>Unnamed: 0.1</th>\n",
       "      <th>id</th>\n",
       "      <th>title</th>\n",
       "      <th>title_original</th>\n",
       "      <th>genres</th>\n",
       "      <th>director</th>\n",
       "      <th>keywords</th>\n",
       "      <th>cast</th>\n",
       "      <th>genre_empty</th>\n",
       "      <th>keywords_bin</th>\n",
       "      <th>genres_bin</th>\n",
       "      <th>director_bin</th>\n",
       "    </tr>\n",
       "  </thead>\n",
       "  <tbody>\n",
       "    <tr>\n",
       "      <th>0</th>\n",
       "      <td>0</td>\n",
       "      <td>0</td>\n",
       "      <td>1183</td>\n",
       "      <td>2 Fast 2 Furious: A todo gas 2</td>\n",
       "      <td>2 Fast 2 Furious</td>\n",
       "      <td>[Acción, Crimen, Suspense]</td>\n",
       "      <td>[JohnSingleton]</td>\n",
       "      <td>[miami, carrace, sportscar, losangeles, car, a...</td>\n",
       "      <td>[PaulWalker, TyreseGibson, EvaMendes, ColeHaus...</td>\n",
       "      <td>32</td>\n",
       "      <td>[1, 1, 1, 1, 1, 1, 0, 0, 0, 0, 0, 0, 0, 0, 0, ...</td>\n",
       "      <td>[1, 1, 1, 0, 0, 0, 0, 0, 0, 0, 0, 0, 0, 0, 0, ...</td>\n",
       "      <td>[1, 0, 0, 0, 0, 0, 0, 0, 0, 0, 0, 0, 0, 0, 0, ...</td>\n",
       "    </tr>\n",
       "    <tr>\n",
       "      <th>1</th>\n",
       "      <td>2</td>\n",
       "      <td>2</td>\n",
       "      <td>1457</td>\n",
       "      <td>21 gramos</td>\n",
       "      <td>21 Grams</td>\n",
       "      <td>[Drama, Crimen, Suspense]</td>\n",
       "      <td>[AlejandroGonzálezIñárritu]</td>\n",
       "      <td>[lifeanddeath, lossoflovedone, transplantation...</td>\n",
       "      <td>[SeanPenn, NaomiWatts, BeniciodelToro, DannyHu...</td>\n",
       "      <td>31</td>\n",
       "      <td>[0, 0, 0, 0, 0, 0, 1, 1, 1, 1, 1, 1, 1, 1, 1, ...</td>\n",
       "      <td>[0, 1, 1, 1, 0, 0, 0, 0, 0, 0, 0, 0, 0, 0, 0, ...</td>\n",
       "      <td>[0, 1, 0, 0, 0, 0, 0, 0, 0, 0, 0, 0, 0, 0, 0, ...</td>\n",
       "    </tr>\n",
       "  </tbody>\n",
       "</table>\n",
       "</div>"
      ],
      "text/plain": [
       "   Unnamed: 0  Unnamed: 0.1    id                           title  \\\n",
       "0           0             0  1183  2 Fast 2 Furious: A todo gas 2   \n",
       "1           2             2  1457                       21 gramos   \n",
       "\n",
       "     title_original                      genres                     director  \\\n",
       "0  2 Fast 2 Furious  [Acción, Crimen, Suspense]              [JohnSingleton]   \n",
       "1          21 Grams   [Drama, Crimen, Suspense]  [AlejandroGonzálezIñárritu]   \n",
       "\n",
       "                                            keywords  \\\n",
       "0  [miami, carrace, sportscar, losangeles, car, a...   \n",
       "1  [lifeanddeath, lossoflovedone, transplantation...   \n",
       "\n",
       "                                                cast  genre_empty  \\\n",
       "0  [PaulWalker, TyreseGibson, EvaMendes, ColeHaus...           32   \n",
       "1  [SeanPenn, NaomiWatts, BeniciodelToro, DannyHu...           31   \n",
       "\n",
       "                                        keywords_bin  \\\n",
       "0  [1, 1, 1, 1, 1, 1, 0, 0, 0, 0, 0, 0, 0, 0, 0, ...   \n",
       "1  [0, 0, 0, 0, 0, 0, 1, 1, 1, 1, 1, 1, 1, 1, 1, ...   \n",
       "\n",
       "                                          genres_bin  \\\n",
       "0  [1, 1, 1, 0, 0, 0, 0, 0, 0, 0, 0, 0, 0, 0, 0, ...   \n",
       "1  [0, 1, 1, 1, 0, 0, 0, 0, 0, 0, 0, 0, 0, 0, 0, ...   \n",
       "\n",
       "                                        director_bin  \n",
       "0  [1, 0, 0, 0, 0, 0, 0, 0, 0, 0, 0, 0, 0, 0, 0, ...  \n",
       "1  [0, 1, 0, 0, 0, 0, 0, 0, 0, 0, 0, 0, 0, 0, 0, ...  "
      ]
     },
     "execution_count": 15,
     "metadata": {},
     "output_type": "execute_result"
    }
   ],
   "source": [
    "df = create_vector(df, 'director')\n",
    "df.head(2)"
   ]
  },
  {
   "cell_type": "code",
   "execution_count": 16,
   "metadata": {},
   "outputs": [
    {
     "data": {
      "text/html": [
       "<div>\n",
       "<style>\n",
       "    .dataframe thead tr:only-child th {\n",
       "        text-align: right;\n",
       "    }\n",
       "\n",
       "    .dataframe thead th {\n",
       "        text-align: left;\n",
       "    }\n",
       "\n",
       "    .dataframe tbody tr th {\n",
       "        vertical-align: top;\n",
       "    }\n",
       "</style>\n",
       "<table border=\"1\" class=\"dataframe\">\n",
       "  <thead>\n",
       "    <tr style=\"text-align: right;\">\n",
       "      <th></th>\n",
       "      <th>Unnamed: 0</th>\n",
       "      <th>Unnamed: 0.1</th>\n",
       "      <th>id</th>\n",
       "      <th>title</th>\n",
       "      <th>title_original</th>\n",
       "      <th>genres</th>\n",
       "      <th>director</th>\n",
       "      <th>keywords</th>\n",
       "      <th>cast</th>\n",
       "      <th>genre_empty</th>\n",
       "      <th>keywords_bin</th>\n",
       "      <th>genres_bin</th>\n",
       "      <th>director_bin</th>\n",
       "      <th>cast_bin</th>\n",
       "    </tr>\n",
       "  </thead>\n",
       "  <tbody>\n",
       "    <tr>\n",
       "      <th>0</th>\n",
       "      <td>0</td>\n",
       "      <td>0</td>\n",
       "      <td>1183</td>\n",
       "      <td>2 Fast 2 Furious: A todo gas 2</td>\n",
       "      <td>2 Fast 2 Furious</td>\n",
       "      <td>[Acción, Crimen, Suspense]</td>\n",
       "      <td>[JohnSingleton]</td>\n",
       "      <td>[miami, carrace, sportscar, losangeles, car, a...</td>\n",
       "      <td>[PaulWalker, TyreseGibson, EvaMendes, ColeHaus...</td>\n",
       "      <td>32</td>\n",
       "      <td>[1, 1, 1, 1, 1, 1, 0, 0, 0, 0, 0, 0, 0, 0, 0, ...</td>\n",
       "      <td>[1, 1, 1, 0, 0, 0, 0, 0, 0, 0, 0, 0, 0, 0, 0, ...</td>\n",
       "      <td>[1, 0, 0, 0, 0, 0, 0, 0, 0, 0, 0, 0, 0, 0, 0, ...</td>\n",
       "      <td>[1, 1, 1, 1, 1, 0, 0, 0, 0, 0, 0, 0, 0, 0, 0, ...</td>\n",
       "    </tr>\n",
       "    <tr>\n",
       "      <th>1</th>\n",
       "      <td>2</td>\n",
       "      <td>2</td>\n",
       "      <td>1457</td>\n",
       "      <td>21 gramos</td>\n",
       "      <td>21 Grams</td>\n",
       "      <td>[Drama, Crimen, Suspense]</td>\n",
       "      <td>[AlejandroGonzálezIñárritu]</td>\n",
       "      <td>[lifeanddeath, lossoflovedone, transplantation...</td>\n",
       "      <td>[SeanPenn, NaomiWatts, BeniciodelToro, DannyHu...</td>\n",
       "      <td>31</td>\n",
       "      <td>[0, 0, 0, 0, 0, 0, 1, 1, 1, 1, 1, 1, 1, 1, 1, ...</td>\n",
       "      <td>[0, 1, 1, 1, 0, 0, 0, 0, 0, 0, 0, 0, 0, 0, 0, ...</td>\n",
       "      <td>[0, 1, 0, 0, 0, 0, 0, 0, 0, 0, 0, 0, 0, 0, 0, ...</td>\n",
       "      <td>[0, 0, 0, 0, 0, 1, 1, 1, 1, 1, 0, 0, 0, 0, 0, ...</td>\n",
       "    </tr>\n",
       "  </tbody>\n",
       "</table>\n",
       "</div>"
      ],
      "text/plain": [
       "   Unnamed: 0  Unnamed: 0.1    id                           title  \\\n",
       "0           0             0  1183  2 Fast 2 Furious: A todo gas 2   \n",
       "1           2             2  1457                       21 gramos   \n",
       "\n",
       "     title_original                      genres                     director  \\\n",
       "0  2 Fast 2 Furious  [Acción, Crimen, Suspense]              [JohnSingleton]   \n",
       "1          21 Grams   [Drama, Crimen, Suspense]  [AlejandroGonzálezIñárritu]   \n",
       "\n",
       "                                            keywords  \\\n",
       "0  [miami, carrace, sportscar, losangeles, car, a...   \n",
       "1  [lifeanddeath, lossoflovedone, transplantation...   \n",
       "\n",
       "                                                cast  genre_empty  \\\n",
       "0  [PaulWalker, TyreseGibson, EvaMendes, ColeHaus...           32   \n",
       "1  [SeanPenn, NaomiWatts, BeniciodelToro, DannyHu...           31   \n",
       "\n",
       "                                        keywords_bin  \\\n",
       "0  [1, 1, 1, 1, 1, 1, 0, 0, 0, 0, 0, 0, 0, 0, 0, ...   \n",
       "1  [0, 0, 0, 0, 0, 0, 1, 1, 1, 1, 1, 1, 1, 1, 1, ...   \n",
       "\n",
       "                                          genres_bin  \\\n",
       "0  [1, 1, 1, 0, 0, 0, 0, 0, 0, 0, 0, 0, 0, 0, 0, ...   \n",
       "1  [0, 1, 1, 1, 0, 0, 0, 0, 0, 0, 0, 0, 0, 0, 0, ...   \n",
       "\n",
       "                                        director_bin  \\\n",
       "0  [1, 0, 0, 0, 0, 0, 0, 0, 0, 0, 0, 0, 0, 0, 0, ...   \n",
       "1  [0, 1, 0, 0, 0, 0, 0, 0, 0, 0, 0, 0, 0, 0, 0, ...   \n",
       "\n",
       "                                            cast_bin  \n",
       "0  [1, 1, 1, 1, 1, 0, 0, 0, 0, 0, 0, 0, 0, 0, 0, ...  \n",
       "1  [0, 0, 0, 0, 0, 1, 1, 1, 1, 1, 0, 0, 0, 0, 0, ...  "
      ]
     },
     "execution_count": 16,
     "metadata": {},
     "output_type": "execute_result"
    }
   ],
   "source": [
    "df = create_vector(df, 'cast')\n",
    "df.head(2)"
   ]
  },
  {
   "cell_type": "code",
   "execution_count": 17,
   "metadata": {
    "collapsed": true
   },
   "outputs": [],
   "source": [
    "# ===> Tenemos el dataframe con todas las peliculas. Vamos a crear una columna que sea una combinacion\n",
    "# ===> de todos los bins del dataframe\n",
    "\n",
    "df['combination_bin'] = df['genres_bin'] + df['cast_bin'] +  df['keywords_bin'] + df['director_bin']"
   ]
  },
  {
   "cell_type": "code",
   "execution_count": 18,
   "metadata": {
    "collapsed": true
   },
   "outputs": [],
   "source": [
    "# ===> Transformamos esa columna en numpy array de dos dimensiones, lo cual es necesario para poder utilizar esa info\n",
    "# ===> como inputs de modelos de clustering\n",
    "\n",
    "df_kmeans = np.vstack(df['combination_bin'])"
   ]
  },
  {
   "cell_type": "code",
   "execution_count": 19,
   "metadata": {},
   "outputs": [
    {
     "name": "stdout",
     "output_type": "stream",
     "text": [
      "22443\n"
     ]
    }
   ],
   "source": [
    "# ===> Nuestro dataframe tiene 22443 dimensiones\n",
    "\n",
    "print(len(df_kmeans[0]))"
   ]
  },
  {
   "cell_type": "code",
   "execution_count": 20,
   "metadata": {
    "collapsed": true
   },
   "outputs": [],
   "source": [
    "# ===> Vamos a usar SVD para reducir la dimensionalidad de nuestro dataframe\n",
    "# ===> Otra opcion https://www.researchgate.net/post/Which_clustering_technique_is_most_suitable_for_high_dimensional_data_sets\n",
    "\n",
    "from sklearn.decomposition import TruncatedSVD\n",
    "svd = TruncatedSVD(50)\n",
    "df_transformed = svd.fit_transform(df_kmeans)"
   ]
  },
  {
   "cell_type": "code",
   "execution_count": 21,
   "metadata": {
    "collapsed": true
   },
   "outputs": [],
   "source": [
    "from sklearn.cluster import KMeans\n",
    "from sklearn.metrics import silhouette_score, calinski_harabaz_score"
   ]
  },
  {
   "cell_type": "code",
   "execution_count": 22,
   "metadata": {
    "collapsed": true
   },
   "outputs": [],
   "source": [
    "kmeans_final = KMeans(n_clusters=25, random_state=0) \n",
    "kmeans_final.fit(df_transformed)\n",
    "    \n",
    "labels_final = kmeans_final.labels_"
   ]
  },
  {
   "cell_type": "code",
   "execution_count": 23,
   "metadata": {
    "collapsed": true
   },
   "outputs": [],
   "source": [
    "df['labels'] = labels_final"
   ]
  },
  {
   "cell_type": "code",
   "execution_count": 24,
   "metadata": {},
   "outputs": [
    {
     "name": "stdout",
     "output_type": "stream",
     "text": [
      "[17 13 22  4 24 14  2  0 20 12  6  3 10  9 15 19  7  5 11 23  1  8 16 21\n",
      " 18]\n"
     ]
    }
   ],
   "source": [
    "print(df['labels'].unique())"
   ]
  },
  {
   "cell_type": "code",
   "execution_count": 25,
   "metadata": {},
   "outputs": [
    {
     "name": "stdout",
     "output_type": "stream",
     "text": [
      "2     331\n",
      "14    315\n",
      "19    313\n",
      "24    285\n",
      "1     265\n",
      "22    223\n",
      "13    217\n",
      "11    203\n",
      "9     193\n",
      "17    182\n",
      "12    160\n",
      "7     159\n",
      "0     157\n",
      "4     152\n",
      "5     152\n",
      "21    145\n",
      "6     141\n",
      "18    141\n",
      "3     135\n",
      "16    133\n",
      "10    117\n",
      "15    115\n",
      "23     88\n",
      "8      77\n",
      "20     73\n",
      "Name: labels, dtype: int64\n"
     ]
    }
   ],
   "source": [
    "print(df['labels'].value_counts())"
   ]
  },
  {
   "cell_type": "code",
   "execution_count": 26,
   "metadata": {
    "collapsed": true
   },
   "outputs": [],
   "source": [
    "def add_cluster_if_not_present(dataframe, list_clusters_complete):\n",
    "    \n",
    "    list_clusters = dataframe['labels'].unique()\n",
    "    \n",
    "    for item in list_clusters_complete:\n",
    "        \n",
    "        if item not in list_clusters:\n",
    "            \n",
    "            dataframe = dataframe.append({'labels': item, 'frecuency': 0}, ignore_index=True)\n",
    "            \n",
    "    return dataframe\n",
    "    "
   ]
  },
  {
   "cell_type": "code",
   "execution_count": 27,
   "metadata": {
    "collapsed": true
   },
   "outputs": [],
   "source": [
    "# ===> Aanaliamos que % de las peliculas de cada plataforma pertenecen a cada cluster\n",
    "\n",
    "def count_clusters(dataframe, name_plataform):\n",
    "\n",
    "    df_clusters = pd.DataFrame(dataframe['labels'].value_counts())\n",
    "    \n",
    "    df_clusters = df_clusters.rename(columns={'labels': 'frecuency'})\n",
    "    \n",
    "    df_clusters['labels'] = df_clusters.index\n",
    "    \n",
    "    df_clusters = add_cluster_if_not_present(df_clusters, df['labels'].unique())\n",
    "    \n",
    "    def number_rows_parent_dataframe(dataframe):\n",
    "        return len(dataframe.index)\n",
    "\n",
    "    def cluster_porcentage(value, dataframe=dataframe):\n",
    "        return value/number_rows_parent_dataframe(dataframe)*100\n",
    "    \n",
    "    name_column = 'percentage_clusters_' + name_plataform \n",
    "    \n",
    "    df_clusters[name_column] = df_clusters['frecuency'].apply(cluster_porcentage)\n",
    "\n",
    "    return df_clusters\n"
   ]
  },
  {
   "cell_type": "code",
   "execution_count": 28,
   "metadata": {
    "collapsed": true
   },
   "outputs": [],
   "source": [
    "# ===> Agregamos las etiquetas de clusters a la plataforma HBO\n",
    "\n",
    "df_hbo = pd.merge(df_hbo, df[['id', 'labels']], on='id', how='left')"
   ]
  },
  {
   "cell_type": "code",
   "execution_count": 29,
   "metadata": {},
   "outputs": [
    {
     "data": {
      "text/html": [
       "<div>\n",
       "<style>\n",
       "    .dataframe thead tr:only-child th {\n",
       "        text-align: right;\n",
       "    }\n",
       "\n",
       "    .dataframe thead th {\n",
       "        text-align: left;\n",
       "    }\n",
       "\n",
       "    .dataframe tbody tr th {\n",
       "        vertical-align: top;\n",
       "    }\n",
       "</style>\n",
       "<table border=\"1\" class=\"dataframe\">\n",
       "  <thead>\n",
       "    <tr style=\"text-align: right;\">\n",
       "      <th></th>\n",
       "      <th>Unnamed: 0</th>\n",
       "      <th>Unnamed: 0.1</th>\n",
       "      <th>id</th>\n",
       "      <th>title</th>\n",
       "      <th>title_original</th>\n",
       "      <th>genres</th>\n",
       "      <th>director</th>\n",
       "      <th>keywords</th>\n",
       "      <th>cast</th>\n",
       "      <th>genre_empty</th>\n",
       "      <th>labels</th>\n",
       "    </tr>\n",
       "  </thead>\n",
       "  <tbody>\n",
       "    <tr>\n",
       "      <th>0</th>\n",
       "      <td>0</td>\n",
       "      <td>0</td>\n",
       "      <td>1183</td>\n",
       "      <td>2 Fast 2 Furious: A todo gas 2</td>\n",
       "      <td>2 Fast 2 Furious</td>\n",
       "      <td>['Acción', 'Crimen', 'Suspense']</td>\n",
       "      <td>['John Singleton']</td>\n",
       "      <td>['miami', 'car race', 'sports car', 'los angel...</td>\n",
       "      <td>['Paul Walker', 'Tyrese Gibson', 'Eva Mendes',...</td>\n",
       "      <td>32</td>\n",
       "      <td>17</td>\n",
       "    </tr>\n",
       "    <tr>\n",
       "      <th>1</th>\n",
       "      <td>2</td>\n",
       "      <td>2</td>\n",
       "      <td>1457</td>\n",
       "      <td>21 gramos</td>\n",
       "      <td>21 Grams</td>\n",
       "      <td>['Drama', 'Crimen', 'Suspense']</td>\n",
       "      <td>['Alejandro González Iñárritu']</td>\n",
       "      <td>['life and death', 'loss of loved one', 'trans...</td>\n",
       "      <td>['Sean Penn', 'Naomi Watts', 'Benicio del Toro...</td>\n",
       "      <td>31</td>\n",
       "      <td>13</td>\n",
       "    </tr>\n",
       "  </tbody>\n",
       "</table>\n",
       "</div>"
      ],
      "text/plain": [
       "   Unnamed: 0  Unnamed: 0.1    id                           title  \\\n",
       "0           0             0  1183  2 Fast 2 Furious: A todo gas 2   \n",
       "1           2             2  1457                       21 gramos   \n",
       "\n",
       "     title_original                            genres  \\\n",
       "0  2 Fast 2 Furious  ['Acción', 'Crimen', 'Suspense']   \n",
       "1          21 Grams   ['Drama', 'Crimen', 'Suspense']   \n",
       "\n",
       "                          director  \\\n",
       "0               ['John Singleton']   \n",
       "1  ['Alejandro González Iñárritu']   \n",
       "\n",
       "                                            keywords  \\\n",
       "0  ['miami', 'car race', 'sports car', 'los angel...   \n",
       "1  ['life and death', 'loss of loved one', 'trans...   \n",
       "\n",
       "                                                cast  genre_empty  labels  \n",
       "0  ['Paul Walker', 'Tyrese Gibson', 'Eva Mendes',...           32      17  \n",
       "1  ['Sean Penn', 'Naomi Watts', 'Benicio del Toro...           31      13  "
      ]
     },
     "execution_count": 29,
     "metadata": {},
     "output_type": "execute_result"
    }
   ],
   "source": [
    "df_hbo.head(2)"
   ]
  },
  {
   "cell_type": "code",
   "execution_count": 30,
   "metadata": {},
   "outputs": [
    {
     "data": {
      "text/html": [
       "<div>\n",
       "<style>\n",
       "    .dataframe thead tr:only-child th {\n",
       "        text-align: right;\n",
       "    }\n",
       "\n",
       "    .dataframe thead th {\n",
       "        text-align: left;\n",
       "    }\n",
       "\n",
       "    .dataframe tbody tr th {\n",
       "        vertical-align: top;\n",
       "    }\n",
       "</style>\n",
       "<table border=\"1\" class=\"dataframe\">\n",
       "  <thead>\n",
       "    <tr style=\"text-align: right;\">\n",
       "      <th></th>\n",
       "      <th>frecuency</th>\n",
       "      <th>labels</th>\n",
       "      <th>percentage_clusters_hbo</th>\n",
       "    </tr>\n",
       "  </thead>\n",
       "  <tbody>\n",
       "    <tr>\n",
       "      <th>14</th>\n",
       "      <td>11</td>\n",
       "      <td>14</td>\n",
       "      <td>7.857143</td>\n",
       "    </tr>\n",
       "    <tr>\n",
       "      <th>3</th>\n",
       "      <td>10</td>\n",
       "      <td>3</td>\n",
       "      <td>7.142857</td>\n",
       "    </tr>\n",
       "  </tbody>\n",
       "</table>\n",
       "</div>"
      ],
      "text/plain": [
       "    frecuency  labels  percentage_clusters_hbo\n",
       "14         11      14                 7.857143\n",
       "3          10       3                 7.142857"
      ]
     },
     "execution_count": 30,
     "metadata": {},
     "output_type": "execute_result"
    }
   ],
   "source": [
    "clusters_hbo = count_clusters(df_hbo, 'hbo')\n",
    "count_clusters(df_hbo, 'hbo').head(2)"
   ]
  },
  {
   "cell_type": "code",
   "execution_count": 31,
   "metadata": {
    "collapsed": true
   },
   "outputs": [],
   "source": [
    "# ===> Agregamos las etiquetas de clusters a la plataforma Claro\n",
    "\n",
    "df_claro = pd.merge(df_claro, df[['id', 'labels']], on='id', how='left')"
   ]
  },
  {
   "cell_type": "code",
   "execution_count": 32,
   "metadata": {},
   "outputs": [
    {
     "data": {
      "text/html": [
       "<div>\n",
       "<style>\n",
       "    .dataframe thead tr:only-child th {\n",
       "        text-align: right;\n",
       "    }\n",
       "\n",
       "    .dataframe thead th {\n",
       "        text-align: left;\n",
       "    }\n",
       "\n",
       "    .dataframe tbody tr th {\n",
       "        vertical-align: top;\n",
       "    }\n",
       "</style>\n",
       "<table border=\"1\" class=\"dataframe\">\n",
       "  <thead>\n",
       "    <tr style=\"text-align: right;\">\n",
       "      <th></th>\n",
       "      <th>Unnamed: 0</th>\n",
       "      <th>Unnamed: 0.1</th>\n",
       "      <th>id</th>\n",
       "      <th>title</th>\n",
       "      <th>title_original</th>\n",
       "      <th>genres</th>\n",
       "      <th>director</th>\n",
       "      <th>keywords</th>\n",
       "      <th>cast</th>\n",
       "      <th>genre_empty</th>\n",
       "      <th>labels</th>\n",
       "    </tr>\n",
       "  </thead>\n",
       "  <tbody>\n",
       "    <tr>\n",
       "      <th>0</th>\n",
       "      <td>0</td>\n",
       "      <td>0</td>\n",
       "      <td>44</td>\n",
       "      <td>500 dias juntos</td>\n",
       "      <td>(500) Days of Summer</td>\n",
       "      <td>['Comedia', 'Drama', 'Romance']</td>\n",
       "      <td>['Marc Webb']</td>\n",
       "      <td>['date', 'jealousy', 'fight', 'architect', 'ga...</td>\n",
       "      <td>['Joseph Gordon-Levitt', 'Zooey Deschanel', 'C...</td>\n",
       "      <td>31</td>\n",
       "      <td>1</td>\n",
       "    </tr>\n",
       "    <tr>\n",
       "      <th>1</th>\n",
       "      <td>2</td>\n",
       "      <td>2</td>\n",
       "      <td>49</td>\n",
       "      <td>Nuestros maravillosos aliados</td>\n",
       "      <td>*batteries not included</td>\n",
       "      <td>['Comedia', 'Familia', 'Fantasía', 'Ciencia fi...</td>\n",
       "      <td>['Matthew Robbins']</td>\n",
       "      <td>['extraterrestrial technology', 'alien life-fo...</td>\n",
       "      <td>['Hume Cronyn', 'Jessica Tandy', 'Frank McRae'...</td>\n",
       "      <td>53</td>\n",
       "      <td>0</td>\n",
       "    </tr>\n",
       "  </tbody>\n",
       "</table>\n",
       "</div>"
      ],
      "text/plain": [
       "   Unnamed: 0  Unnamed: 0.1  id                          title  \\\n",
       "0           0             0  44                500 dias juntos   \n",
       "1           2             2  49  Nuestros maravillosos aliados   \n",
       "\n",
       "            title_original                                             genres  \\\n",
       "0     (500) Days of Summer                    ['Comedia', 'Drama', 'Romance']   \n",
       "1  *batteries not included  ['Comedia', 'Familia', 'Fantasía', 'Ciencia fi...   \n",
       "\n",
       "              director                                           keywords  \\\n",
       "0        ['Marc Webb']  ['date', 'jealousy', 'fight', 'architect', 'ga...   \n",
       "1  ['Matthew Robbins']  ['extraterrestrial technology', 'alien life-fo...   \n",
       "\n",
       "                                                cast  genre_empty  labels  \n",
       "0  ['Joseph Gordon-Levitt', 'Zooey Deschanel', 'C...           31       1  \n",
       "1  ['Hume Cronyn', 'Jessica Tandy', 'Frank McRae'...           53       0  "
      ]
     },
     "execution_count": 32,
     "metadata": {},
     "output_type": "execute_result"
    }
   ],
   "source": [
    "df_claro.head(2)"
   ]
  },
  {
   "cell_type": "code",
   "execution_count": 33,
   "metadata": {},
   "outputs": [
    {
     "data": {
      "text/html": [
       "<div>\n",
       "<style>\n",
       "    .dataframe thead tr:only-child th {\n",
       "        text-align: right;\n",
       "    }\n",
       "\n",
       "    .dataframe thead th {\n",
       "        text-align: left;\n",
       "    }\n",
       "\n",
       "    .dataframe tbody tr th {\n",
       "        vertical-align: top;\n",
       "    }\n",
       "</style>\n",
       "<table border=\"1\" class=\"dataframe\">\n",
       "  <thead>\n",
       "    <tr style=\"text-align: right;\">\n",
       "      <th></th>\n",
       "      <th>frecuency</th>\n",
       "      <th>labels</th>\n",
       "      <th>percentage_clusters_claro</th>\n",
       "    </tr>\n",
       "  </thead>\n",
       "  <tbody>\n",
       "    <tr>\n",
       "      <th>1</th>\n",
       "      <td>133</td>\n",
       "      <td>1</td>\n",
       "      <td>7.565415</td>\n",
       "    </tr>\n",
       "    <tr>\n",
       "      <th>22</th>\n",
       "      <td>115</td>\n",
       "      <td>22</td>\n",
       "      <td>6.541524</td>\n",
       "    </tr>\n",
       "  </tbody>\n",
       "</table>\n",
       "</div>"
      ],
      "text/plain": [
       "    frecuency  labels  percentage_clusters_claro\n",
       "1         133       1                   7.565415\n",
       "22        115      22                   6.541524"
      ]
     },
     "execution_count": 33,
     "metadata": {},
     "output_type": "execute_result"
    }
   ],
   "source": [
    "clusters_claro = count_clusters(df_claro, 'claro')\n",
    "count_clusters(df_claro, 'claro').head(2)"
   ]
  },
  {
   "cell_type": "code",
   "execution_count": 34,
   "metadata": {
    "collapsed": true
   },
   "outputs": [],
   "source": [
    "# ===> Agregamos las etiquetas de clusters a la plataforma Sony\n",
    "\n",
    "df_sony = pd.merge(df_sony, df[['id', 'labels']], on='id', how='left')"
   ]
  },
  {
   "cell_type": "code",
   "execution_count": 35,
   "metadata": {},
   "outputs": [
    {
     "data": {
      "text/html": [
       "<div>\n",
       "<style>\n",
       "    .dataframe thead tr:only-child th {\n",
       "        text-align: right;\n",
       "    }\n",
       "\n",
       "    .dataframe thead th {\n",
       "        text-align: left;\n",
       "    }\n",
       "\n",
       "    .dataframe tbody tr th {\n",
       "        vertical-align: top;\n",
       "    }\n",
       "</style>\n",
       "<table border=\"1\" class=\"dataframe\">\n",
       "  <thead>\n",
       "    <tr style=\"text-align: right;\">\n",
       "      <th></th>\n",
       "      <th>frecuency</th>\n",
       "      <th>labels</th>\n",
       "      <th>percentage_clusters_sony</th>\n",
       "    </tr>\n",
       "  </thead>\n",
       "  <tbody>\n",
       "    <tr>\n",
       "      <th>0</th>\n",
       "      <td>7</td>\n",
       "      <td>11</td>\n",
       "      <td>12.500000</td>\n",
       "    </tr>\n",
       "    <tr>\n",
       "      <th>1</th>\n",
       "      <td>5</td>\n",
       "      <td>15</td>\n",
       "      <td>8.928571</td>\n",
       "    </tr>\n",
       "  </tbody>\n",
       "</table>\n",
       "</div>"
      ],
      "text/plain": [
       "   frecuency  labels  percentage_clusters_sony\n",
       "0          7      11                 12.500000\n",
       "1          5      15                  8.928571"
      ]
     },
     "execution_count": 35,
     "metadata": {},
     "output_type": "execute_result"
    }
   ],
   "source": [
    "clusters_sony = count_clusters(df_sony, 'sony')\n",
    "\n",
    "count_clusters(df_sony, 'sony').head(2)"
   ]
  },
  {
   "cell_type": "code",
   "execution_count": 36,
   "metadata": {
    "collapsed": true
   },
   "outputs": [],
   "source": [
    "# ===> Agregamos las etiquetas de clusters a la plataforma Netflix\n",
    "\n",
    "df_netflix = pd.merge(df_netflix, df[['id', 'labels']], on='id', how='left')"
   ]
  },
  {
   "cell_type": "code",
   "execution_count": 37,
   "metadata": {},
   "outputs": [
    {
     "data": {
      "text/html": [
       "<div>\n",
       "<style>\n",
       "    .dataframe thead tr:only-child th {\n",
       "        text-align: right;\n",
       "    }\n",
       "\n",
       "    .dataframe thead th {\n",
       "        text-align: left;\n",
       "    }\n",
       "\n",
       "    .dataframe tbody tr th {\n",
       "        vertical-align: top;\n",
       "    }\n",
       "</style>\n",
       "<table border=\"1\" class=\"dataframe\">\n",
       "  <thead>\n",
       "    <tr style=\"text-align: right;\">\n",
       "      <th></th>\n",
       "      <th>frecuency</th>\n",
       "      <th>labels</th>\n",
       "      <th>percentage_clusters_netflix</th>\n",
       "    </tr>\n",
       "  </thead>\n",
       "  <tbody>\n",
       "    <tr>\n",
       "      <th>14.0</th>\n",
       "      <td>223</td>\n",
       "      <td>14.0</td>\n",
       "      <td>13.842334</td>\n",
       "    </tr>\n",
       "    <tr>\n",
       "      <th>24.0</th>\n",
       "      <td>123</td>\n",
       "      <td>24.0</td>\n",
       "      <td>7.635009</td>\n",
       "    </tr>\n",
       "  </tbody>\n",
       "</table>\n",
       "</div>"
      ],
      "text/plain": [
       "      frecuency  labels  percentage_clusters_netflix\n",
       "14.0        223    14.0                    13.842334\n",
       "24.0        123    24.0                     7.635009"
      ]
     },
     "execution_count": 37,
     "metadata": {},
     "output_type": "execute_result"
    }
   ],
   "source": [
    "clusters_netflix = count_clusters(df_netflix, 'netflix')\n",
    "\n",
    "count_clusters(df_netflix, 'netflix').head(2)"
   ]
  },
  {
   "cell_type": "code",
   "execution_count": 38,
   "metadata": {
    "collapsed": true
   },
   "outputs": [],
   "source": [
    "# ===> Agregamos las etiquetas de clusters a la plataforma Flow\n",
    "\n",
    "df_flow = pd.merge(df_flow, df[['id', 'labels']], on='id', how='left')"
   ]
  },
  {
   "cell_type": "code",
   "execution_count": 39,
   "metadata": {},
   "outputs": [
    {
     "data": {
      "text/html": [
       "<div>\n",
       "<style>\n",
       "    .dataframe thead tr:only-child th {\n",
       "        text-align: right;\n",
       "    }\n",
       "\n",
       "    .dataframe thead th {\n",
       "        text-align: left;\n",
       "    }\n",
       "\n",
       "    .dataframe tbody tr th {\n",
       "        vertical-align: top;\n",
       "    }\n",
       "</style>\n",
       "<table border=\"1\" class=\"dataframe\">\n",
       "  <thead>\n",
       "    <tr style=\"text-align: right;\">\n",
       "      <th></th>\n",
       "      <th>frecuency</th>\n",
       "      <th>labels</th>\n",
       "      <th>percentage_clusters_flow</th>\n",
       "    </tr>\n",
       "  </thead>\n",
       "  <tbody>\n",
       "    <tr>\n",
       "      <th>1.0</th>\n",
       "      <td>27</td>\n",
       "      <td>1.0</td>\n",
       "      <td>7.219251</td>\n",
       "    </tr>\n",
       "    <tr>\n",
       "      <th>11.0</th>\n",
       "      <td>27</td>\n",
       "      <td>11.0</td>\n",
       "      <td>7.219251</td>\n",
       "    </tr>\n",
       "  </tbody>\n",
       "</table>\n",
       "</div>"
      ],
      "text/plain": [
       "      frecuency  labels  percentage_clusters_flow\n",
       "1.0          27     1.0                  7.219251\n",
       "11.0         27    11.0                  7.219251"
      ]
     },
     "execution_count": 39,
     "metadata": {},
     "output_type": "execute_result"
    }
   ],
   "source": [
    "clusters_flow = count_clusters(df_flow, 'flow')\n",
    "\n",
    "count_clusters(df_flow, 'flow').head(2)"
   ]
  },
  {
   "cell_type": "code",
   "execution_count": 40,
   "metadata": {
    "collapsed": true
   },
   "outputs": [],
   "source": [
    "# ===> Agregamos las etiquetas de clusters a la plataforma Amazon\n",
    "\n",
    "df_amazon = pd.merge(df_amazon, df[['id', 'labels']], on='id', how='left')"
   ]
  },
  {
   "cell_type": "code",
   "execution_count": 41,
   "metadata": {},
   "outputs": [
    {
     "data": {
      "text/html": [
       "<div>\n",
       "<style>\n",
       "    .dataframe thead tr:only-child th {\n",
       "        text-align: right;\n",
       "    }\n",
       "\n",
       "    .dataframe thead th {\n",
       "        text-align: left;\n",
       "    }\n",
       "\n",
       "    .dataframe tbody tr th {\n",
       "        vertical-align: top;\n",
       "    }\n",
       "</style>\n",
       "<table border=\"1\" class=\"dataframe\">\n",
       "  <thead>\n",
       "    <tr style=\"text-align: right;\">\n",
       "      <th></th>\n",
       "      <th>frecuency</th>\n",
       "      <th>labels</th>\n",
       "      <th>percentage_clusters_amazon</th>\n",
       "    </tr>\n",
       "  </thead>\n",
       "  <tbody>\n",
       "    <tr>\n",
       "      <th>2</th>\n",
       "      <td>89</td>\n",
       "      <td>2</td>\n",
       "      <td>11.498708</td>\n",
       "    </tr>\n",
       "    <tr>\n",
       "      <th>19</th>\n",
       "      <td>67</td>\n",
       "      <td>19</td>\n",
       "      <td>8.656331</td>\n",
       "    </tr>\n",
       "  </tbody>\n",
       "</table>\n",
       "</div>"
      ],
      "text/plain": [
       "    frecuency  labels  percentage_clusters_amazon\n",
       "2          89       2                   11.498708\n",
       "19         67      19                    8.656331"
      ]
     },
     "execution_count": 41,
     "metadata": {},
     "output_type": "execute_result"
    }
   ],
   "source": [
    "clusters_amazon = count_clusters(df_amazon, 'amazon')\n",
    "\n",
    "count_clusters(df_amazon, 'amazon').head(2)"
   ]
  },
  {
   "cell_type": "code",
   "execution_count": 42,
   "metadata": {
    "collapsed": true
   },
   "outputs": [],
   "source": [
    "# ===> Agregamos las etiquetas de clusters a la plataforma On Video\n",
    "\n",
    "df_on_video = pd.merge(df_on_video, df[['id', 'labels']], on='id', how='left')"
   ]
  },
  {
   "cell_type": "code",
   "execution_count": 43,
   "metadata": {},
   "outputs": [
    {
     "data": {
      "text/html": [
       "<div>\n",
       "<style>\n",
       "    .dataframe thead tr:only-child th {\n",
       "        text-align: right;\n",
       "    }\n",
       "\n",
       "    .dataframe thead th {\n",
       "        text-align: left;\n",
       "    }\n",
       "\n",
       "    .dataframe tbody tr th {\n",
       "        vertical-align: top;\n",
       "    }\n",
       "</style>\n",
       "<table border=\"1\" class=\"dataframe\">\n",
       "  <thead>\n",
       "    <tr style=\"text-align: right;\">\n",
       "      <th></th>\n",
       "      <th>frecuency</th>\n",
       "      <th>labels</th>\n",
       "      <th>percentage_clusters_on_video</th>\n",
       "    </tr>\n",
       "  </thead>\n",
       "  <tbody>\n",
       "    <tr>\n",
       "      <th>11.0</th>\n",
       "      <td>24</td>\n",
       "      <td>11.0</td>\n",
       "      <td>7.643312</td>\n",
       "    </tr>\n",
       "    <tr>\n",
       "      <th>19.0</th>\n",
       "      <td>24</td>\n",
       "      <td>19.0</td>\n",
       "      <td>7.643312</td>\n",
       "    </tr>\n",
       "  </tbody>\n",
       "</table>\n",
       "</div>"
      ],
      "text/plain": [
       "      frecuency  labels  percentage_clusters_on_video\n",
       "11.0         24    11.0                      7.643312\n",
       "19.0         24    19.0                      7.643312"
      ]
     },
     "execution_count": 43,
     "metadata": {},
     "output_type": "execute_result"
    }
   ],
   "source": [
    "clusters_on_video = count_clusters(df_on_video, 'on_video')\n",
    "\n",
    "count_clusters(df_on_video, 'on_video').head(2)"
   ]
  },
  {
   "cell_type": "code",
   "execution_count": 44,
   "metadata": {
    "collapsed": true
   },
   "outputs": [],
   "source": [
    "# ===> Agregamos las etiquetas de clusters a la plataforma Fox\n",
    "\n",
    "df_fox = pd.merge(df_fox, df[['id', 'labels']], on='id', how='left')"
   ]
  },
  {
   "cell_type": "code",
   "execution_count": 45,
   "metadata": {},
   "outputs": [
    {
     "data": {
      "text/html": [
       "<div>\n",
       "<style>\n",
       "    .dataframe thead tr:only-child th {\n",
       "        text-align: right;\n",
       "    }\n",
       "\n",
       "    .dataframe thead th {\n",
       "        text-align: left;\n",
       "    }\n",
       "\n",
       "    .dataframe tbody tr th {\n",
       "        vertical-align: top;\n",
       "    }\n",
       "</style>\n",
       "<table border=\"1\" class=\"dataframe\">\n",
       "  <thead>\n",
       "    <tr style=\"text-align: right;\">\n",
       "      <th></th>\n",
       "      <th>frecuency</th>\n",
       "      <th>labels</th>\n",
       "      <th>percentage_clusters_fox</th>\n",
       "    </tr>\n",
       "  </thead>\n",
       "  <tbody>\n",
       "    <tr>\n",
       "      <th>1.0</th>\n",
       "      <td>32</td>\n",
       "      <td>1.0</td>\n",
       "      <td>13.278008</td>\n",
       "    </tr>\n",
       "    <tr>\n",
       "      <th>24.0</th>\n",
       "      <td>21</td>\n",
       "      <td>24.0</td>\n",
       "      <td>8.713693</td>\n",
       "    </tr>\n",
       "  </tbody>\n",
       "</table>\n",
       "</div>"
      ],
      "text/plain": [
       "      frecuency  labels  percentage_clusters_fox\n",
       "1.0          32     1.0                13.278008\n",
       "24.0         21    24.0                 8.713693"
      ]
     },
     "execution_count": 45,
     "metadata": {},
     "output_type": "execute_result"
    }
   ],
   "source": [
    "clusters_fox = count_clusters(df_fox, 'fox')\n",
    "\n",
    "count_clusters(df_fox, 'fox').head(2)"
   ]
  },
  {
   "cell_type": "code",
   "execution_count": 46,
   "metadata": {
    "collapsed": true
   },
   "outputs": [],
   "source": [
    "df_clusters_final = pd.merge(clusters_hbo[['labels', 'percentage_clusters_hbo']], clusters_claro[['labels', 'percentage_clusters_claro']], on='labels', how='left')"
   ]
  },
  {
   "cell_type": "code",
   "execution_count": 47,
   "metadata": {},
   "outputs": [
    {
     "data": {
      "text/html": [
       "<div>\n",
       "<style>\n",
       "    .dataframe thead tr:only-child th {\n",
       "        text-align: right;\n",
       "    }\n",
       "\n",
       "    .dataframe thead th {\n",
       "        text-align: left;\n",
       "    }\n",
       "\n",
       "    .dataframe tbody tr th {\n",
       "        vertical-align: top;\n",
       "    }\n",
       "</style>\n",
       "<table border=\"1\" class=\"dataframe\">\n",
       "  <thead>\n",
       "    <tr style=\"text-align: right;\">\n",
       "      <th></th>\n",
       "      <th>labels</th>\n",
       "      <th>percentage_clusters_hbo</th>\n",
       "      <th>percentage_clusters_claro</th>\n",
       "    </tr>\n",
       "  </thead>\n",
       "  <tbody>\n",
       "    <tr>\n",
       "      <th>0</th>\n",
       "      <td>14</td>\n",
       "      <td>7.857143</td>\n",
       "      <td>1.934016</td>\n",
       "    </tr>\n",
       "    <tr>\n",
       "      <th>1</th>\n",
       "      <td>3</td>\n",
       "      <td>7.142857</td>\n",
       "      <td>0.682594</td>\n",
       "    </tr>\n",
       "  </tbody>\n",
       "</table>\n",
       "</div>"
      ],
      "text/plain": [
       "   labels  percentage_clusters_hbo  percentage_clusters_claro\n",
       "0      14                 7.857143                   1.934016\n",
       "1       3                 7.142857                   0.682594"
      ]
     },
     "execution_count": 47,
     "metadata": {},
     "output_type": "execute_result"
    }
   ],
   "source": [
    "df_clusters_final.head(2)"
   ]
  },
  {
   "cell_type": "code",
   "execution_count": 48,
   "metadata": {
    "collapsed": true
   },
   "outputs": [],
   "source": [
    "df_clusters_final = pd.merge(df_clusters_final, clusters_sony[['labels', 'percentage_clusters_sony']], on='labels', how='left')"
   ]
  },
  {
   "cell_type": "code",
   "execution_count": 49,
   "metadata": {
    "collapsed": true
   },
   "outputs": [],
   "source": [
    "df_clusters_final = pd.merge(df_clusters_final, clusters_netflix[['labels', 'percentage_clusters_netflix']], on='labels', how='left')"
   ]
  },
  {
   "cell_type": "code",
   "execution_count": 50,
   "metadata": {
    "collapsed": true
   },
   "outputs": [],
   "source": [
    "df_clusters_final = pd.merge(df_clusters_final, clusters_flow[['labels', 'percentage_clusters_flow']], on='labels', how='left')"
   ]
  },
  {
   "cell_type": "code",
   "execution_count": 51,
   "metadata": {
    "collapsed": true
   },
   "outputs": [],
   "source": [
    "df_clusters_final = pd.merge(df_clusters_final, clusters_amazon[['labels', 'percentage_clusters_amazon']], on='labels', how='left')"
   ]
  },
  {
   "cell_type": "code",
   "execution_count": 52,
   "metadata": {
    "collapsed": true
   },
   "outputs": [],
   "source": [
    "df_clusters_final = pd.merge(df_clusters_final, clusters_on_video[['labels', 'percentage_clusters_on_video']], on='labels', how='left')"
   ]
  },
  {
   "cell_type": "code",
   "execution_count": 53,
   "metadata": {
    "collapsed": true
   },
   "outputs": [],
   "source": [
    "df_clusters_final = pd.merge(df_clusters_final, clusters_fox[['labels', 'percentage_clusters_fox']], on='labels', how='left')"
   ]
  },
  {
   "cell_type": "code",
   "execution_count": 54,
   "metadata": {},
   "outputs": [
    {
     "data": {
      "text/html": [
       "<div>\n",
       "<style>\n",
       "    .dataframe thead tr:only-child th {\n",
       "        text-align: right;\n",
       "    }\n",
       "\n",
       "    .dataframe thead th {\n",
       "        text-align: left;\n",
       "    }\n",
       "\n",
       "    .dataframe tbody tr th {\n",
       "        vertical-align: top;\n",
       "    }\n",
       "</style>\n",
       "<table border=\"1\" class=\"dataframe\">\n",
       "  <thead>\n",
       "    <tr style=\"text-align: right;\">\n",
       "      <th></th>\n",
       "      <th>labels</th>\n",
       "      <th>percentage_clusters_hbo</th>\n",
       "      <th>percentage_clusters_claro</th>\n",
       "      <th>percentage_clusters_sony</th>\n",
       "      <th>percentage_clusters_netflix</th>\n",
       "      <th>percentage_clusters_flow</th>\n",
       "      <th>percentage_clusters_amazon</th>\n",
       "      <th>percentage_clusters_on_video</th>\n",
       "      <th>percentage_clusters_fox</th>\n",
       "    </tr>\n",
       "  </thead>\n",
       "  <tbody>\n",
       "    <tr>\n",
       "      <th>0</th>\n",
       "      <td>14</td>\n",
       "      <td>7.857143</td>\n",
       "      <td>1.934016</td>\n",
       "      <td>0.0</td>\n",
       "      <td>13.842334</td>\n",
       "      <td>3.743316</td>\n",
       "      <td>5.038760</td>\n",
       "      <td>1.273885</td>\n",
       "      <td>1.659751</td>\n",
       "    </tr>\n",
       "    <tr>\n",
       "      <th>1</th>\n",
       "      <td>3</td>\n",
       "      <td>7.142857</td>\n",
       "      <td>0.682594</td>\n",
       "      <td>0.0</td>\n",
       "      <td>5.276226</td>\n",
       "      <td>0.802139</td>\n",
       "      <td>3.359173</td>\n",
       "      <td>1.273885</td>\n",
       "      <td>0.414938</td>\n",
       "    </tr>\n",
       "  </tbody>\n",
       "</table>\n",
       "</div>"
      ],
      "text/plain": [
       "  labels  percentage_clusters_hbo  percentage_clusters_claro  \\\n",
       "0     14                 7.857143                   1.934016   \n",
       "1      3                 7.142857                   0.682594   \n",
       "\n",
       "   percentage_clusters_sony  percentage_clusters_netflix  \\\n",
       "0                       0.0                    13.842334   \n",
       "1                       0.0                     5.276226   \n",
       "\n",
       "   percentage_clusters_flow  percentage_clusters_amazon  \\\n",
       "0                  3.743316                    5.038760   \n",
       "1                  0.802139                    3.359173   \n",
       "\n",
       "   percentage_clusters_on_video  percentage_clusters_fox  \n",
       "0                      1.273885                 1.659751  \n",
       "1                      1.273885                 0.414938  "
      ]
     },
     "execution_count": 54,
     "metadata": {},
     "output_type": "execute_result"
    }
   ],
   "source": [
    "df_clusters_final.head(2)"
   ]
  },
  {
   "cell_type": "code",
   "execution_count": 55,
   "metadata": {},
   "outputs": [
    {
     "name": "stdout",
     "output_type": "stream",
     "text": [
      "[14 3 13 15 10 2 22 19 11 12 17 5 1 9 7 8 6 4 24 18 0 23 20 21 16]\n"
     ]
    }
   ],
   "source": [
    "print(df_clusters_final['labels'].values)"
   ]
  },
  {
   "cell_type": "code",
   "execution_count": 56,
   "metadata": {
    "collapsed": true
   },
   "outputs": [],
   "source": [
    "df_clusters_final_transpose = df_clusters_final[['percentage_clusters_hbo',\t'percentage_clusters_claro',\t'percentage_clusters_sony',\t'percentage_clusters_netflix'\t,'percentage_clusters_flow',\t'percentage_clusters_amazon',\t'percentage_clusters_on_video',\t'percentage_clusters_fox']].transpose()"
   ]
  },
  {
   "cell_type": "code",
   "execution_count": 57,
   "metadata": {
    "collapsed": true
   },
   "outputs": [],
   "source": [
    "df_clusters_final_transpose.columns = df_clusters_final['labels'].values"
   ]
  },
  {
   "cell_type": "code",
   "execution_count": 58,
   "metadata": {},
   "outputs": [
    {
     "data": {
      "text/html": [
       "<div>\n",
       "<style>\n",
       "    .dataframe thead tr:only-child th {\n",
       "        text-align: right;\n",
       "    }\n",
       "\n",
       "    .dataframe thead th {\n",
       "        text-align: left;\n",
       "    }\n",
       "\n",
       "    .dataframe tbody tr th {\n",
       "        vertical-align: top;\n",
       "    }\n",
       "</style>\n",
       "<table border=\"1\" class=\"dataframe\">\n",
       "  <thead>\n",
       "    <tr style=\"text-align: right;\">\n",
       "      <th></th>\n",
       "      <th>14</th>\n",
       "      <th>3</th>\n",
       "      <th>13</th>\n",
       "      <th>15</th>\n",
       "      <th>10</th>\n",
       "      <th>2</th>\n",
       "      <th>22</th>\n",
       "      <th>19</th>\n",
       "      <th>11</th>\n",
       "      <th>12</th>\n",
       "      <th>...</th>\n",
       "      <th>8</th>\n",
       "      <th>6</th>\n",
       "      <th>4</th>\n",
       "      <th>24</th>\n",
       "      <th>18</th>\n",
       "      <th>0</th>\n",
       "      <th>23</th>\n",
       "      <th>20</th>\n",
       "      <th>21</th>\n",
       "      <th>16</th>\n",
       "    </tr>\n",
       "  </thead>\n",
       "  <tbody>\n",
       "    <tr>\n",
       "      <th>percentage_clusters_hbo</th>\n",
       "      <td>7.857143</td>\n",
       "      <td>7.142857</td>\n",
       "      <td>7.142857</td>\n",
       "      <td>6.428571</td>\n",
       "      <td>6.428571</td>\n",
       "      <td>6.428571</td>\n",
       "      <td>5.714286</td>\n",
       "      <td>5.714286</td>\n",
       "      <td>5.714286</td>\n",
       "      <td>4.285714</td>\n",
       "      <td>...</td>\n",
       "      <td>2.857143</td>\n",
       "      <td>2.142857</td>\n",
       "      <td>2.142857</td>\n",
       "      <td>2.142857</td>\n",
       "      <td>2.142857</td>\n",
       "      <td>2.142857</td>\n",
       "      <td>1.428571</td>\n",
       "      <td>1.428571</td>\n",
       "      <td>1.428571</td>\n",
       "      <td>0.714286</td>\n",
       "    </tr>\n",
       "    <tr>\n",
       "      <th>percentage_clusters_claro</th>\n",
       "      <td>1.934016</td>\n",
       "      <td>0.682594</td>\n",
       "      <td>5.233220</td>\n",
       "      <td>3.697383</td>\n",
       "      <td>2.616610</td>\n",
       "      <td>5.574516</td>\n",
       "      <td>6.541524</td>\n",
       "      <td>6.143345</td>\n",
       "      <td>6.370876</td>\n",
       "      <td>4.323094</td>\n",
       "      <td>...</td>\n",
       "      <td>1.763367</td>\n",
       "      <td>3.640501</td>\n",
       "      <td>4.607509</td>\n",
       "      <td>4.891923</td>\n",
       "      <td>2.275313</td>\n",
       "      <td>4.891923</td>\n",
       "      <td>2.445961</td>\n",
       "      <td>2.502844</td>\n",
       "      <td>3.128555</td>\n",
       "      <td>3.356086</td>\n",
       "    </tr>\n",
       "  </tbody>\n",
       "</table>\n",
       "<p>2 rows × 25 columns</p>\n",
       "</div>"
      ],
      "text/plain": [
       "                                 14        3         13        15        10  \\\n",
       "percentage_clusters_hbo    7.857143  7.142857  7.142857  6.428571  6.428571   \n",
       "percentage_clusters_claro  1.934016  0.682594  5.233220  3.697383  2.616610   \n",
       "\n",
       "                                 2         22        19        11        12  \\\n",
       "percentage_clusters_hbo    6.428571  5.714286  5.714286  5.714286  4.285714   \n",
       "percentage_clusters_claro  5.574516  6.541524  6.143345  6.370876  4.323094   \n",
       "\n",
       "                             ...           8         6         4         24  \\\n",
       "percentage_clusters_hbo      ...     2.857143  2.142857  2.142857  2.142857   \n",
       "percentage_clusters_claro    ...     1.763367  3.640501  4.607509  4.891923   \n",
       "\n",
       "                                 18        0         23        20        21  \\\n",
       "percentage_clusters_hbo    2.142857  2.142857  1.428571  1.428571  1.428571   \n",
       "percentage_clusters_claro  2.275313  4.891923  2.445961  2.502844  3.128555   \n",
       "\n",
       "                                 16  \n",
       "percentage_clusters_hbo    0.714286  \n",
       "percentage_clusters_claro  3.356086  \n",
       "\n",
       "[2 rows x 25 columns]"
      ]
     },
     "execution_count": 58,
     "metadata": {},
     "output_type": "execute_result"
    }
   ],
   "source": [
    "df_clusters_final_transpose.head(2)"
   ]
  },
  {
   "cell_type": "code",
   "execution_count": 59,
   "metadata": {
    "collapsed": true
   },
   "outputs": [],
   "source": [
    "df_numpy_array_platforms = df_clusters_final_transpose.values"
   ]
  },
  {
   "cell_type": "code",
   "execution_count": 60,
   "metadata": {},
   "outputs": [],
   "source": [
    "#print(df_numpy_array_platforms)"
   ]
  },
  {
   "cell_type": "code",
   "execution_count": 61,
   "metadata": {
    "collapsed": true
   },
   "outputs": [],
   "source": [
    "# ===> Graficamos las 8 plataformas en un espacio de dos dimensiones\n",
    "\n",
    "from sklearn.manifold import TSNE\n",
    "\n",
    "tsne = TSNE(n_components=2, perplexity=3, metric = 'cosine')\n",
    "#tsne = TSNE(perplexity = 10, metric='precomputed', random_state = 12)\n",
    "\n",
    "result = tsne.fit_transform(df_numpy_array_platforms)\n"
   ]
  },
  {
   "cell_type": "code",
   "execution_count": 62,
   "metadata": {
    "collapsed": true
   },
   "outputs": [],
   "source": [
    "platforms = ['HBO', 'Claro', 'Sony', 'Netflix', 'Flow', 'Amazon', 'On Video', 'Fox']"
   ]
  },
  {
   "cell_type": "code",
   "execution_count": 83,
   "metadata": {},
   "outputs": [
    {
     "data": {
      "image/png": "[encoded data removed]",
      "text/plain": [
       "<matplotlib.figure.Figure at 0x1ee339c7198>"
      ]
     },
     "metadata": {},
     "output_type": "display_data"
    }
   ],
   "source": [
    "import matplotlib.pyplot as plt\n",
    "%matplotlib inline\n",
    "\n",
    "# ===> La forma que se genera parece demasiado simetrica. Es raro, no?\n",
    "\n",
    "fig, ax = plt.subplots(figsize=(10,10))\n",
    "\n",
    "plt.scatter(result[:,0], result[:,1])\n",
    "\n",
    "for i, txt in enumerate(platforms):\n",
    "    ax.annotate(txt, (result[i,0], result[i,1]))"
   ]
  },
  {
   "cell_type": "code",
   "execution_count": 84,
   "metadata": {
    "collapsed": true
   },
   "outputs": [],
   "source": [
    "from sklearn.decomposition import TruncatedSVD\n",
    "svd = TruncatedSVD(2)\n",
    "clusters_transformed = svd.fit_transform(df_numpy_array_platforms)"
   ]
  },
  {
   "cell_type": "code",
   "execution_count": 85,
   "metadata": {},
   "outputs": [
    {
     "name": "stdout",
     "output_type": "stream",
     "text": [
      "[[20.39271904 -3.91373499]\n",
      " [21.17178975  1.967053  ]\n",
      " [21.49408291 13.14046758]\n",
      " [20.72447648 -9.88175907]\n",
      " [21.69486679 -0.22124607]\n",
      " [21.18124871 -6.37342872]\n",
      " [21.55101702  3.64093491]\n",
      " [21.81058133  1.00175606]]\n"
     ]
    }
   ],
   "source": [
    "print(clusters_transformed)"
   ]
  },
  {
   "cell_type": "code",
   "execution_count": 86,
   "metadata": {},
   "outputs": [
    {
     "data": {
      "image/png": "[encoded data removed]",
      "text/plain": [
       "<matplotlib.figure.Figure at 0x1ee375504e0>"
      ]
     },
     "metadata": {},
     "output_type": "display_data"
    }
   ],
   "source": [
    "fig, ax = plt.subplots(figsize=(10,10))\n",
    "\n",
    "plt.scatter(clusters_transformed[:,0], clusters_transformed[:,1])\n",
    "\n",
    "for i, txt in enumerate(platforms):\n",
    "    ax.annotate(txt, (clusters_transformed[i,0], clusters_transformed[i,1]))"
   ]
  },
  {
   "cell_type": "code",
   "execution_count": 87,
   "metadata": {},
   "outputs": [
    {
     "data": {
      "text/html": [
       "<div>\n",
       "<style>\n",
       "    .dataframe thead tr:only-child th {\n",
       "        text-align: right;\n",
       "    }\n",
       "\n",
       "    .dataframe thead th {\n",
       "        text-align: left;\n",
       "    }\n",
       "\n",
       "    .dataframe tbody tr th {\n",
       "        vertical-align: top;\n",
       "    }\n",
       "</style>\n",
       "<table border=\"1\" class=\"dataframe\">\n",
       "  <thead>\n",
       "    <tr style=\"text-align: right;\">\n",
       "      <th></th>\n",
       "      <th>14</th>\n",
       "      <th>3</th>\n",
       "      <th>13</th>\n",
       "      <th>15</th>\n",
       "      <th>10</th>\n",
       "      <th>2</th>\n",
       "      <th>22</th>\n",
       "      <th>19</th>\n",
       "      <th>11</th>\n",
       "      <th>12</th>\n",
       "      <th>...</th>\n",
       "      <th>8</th>\n",
       "      <th>6</th>\n",
       "      <th>4</th>\n",
       "      <th>24</th>\n",
       "      <th>18</th>\n",
       "      <th>0</th>\n",
       "      <th>23</th>\n",
       "      <th>20</th>\n",
       "      <th>21</th>\n",
       "      <th>16</th>\n",
       "    </tr>\n",
       "  </thead>\n",
       "  <tbody>\n",
       "    <tr>\n",
       "      <th>percentage_clusters_hbo</th>\n",
       "      <td>7.857143</td>\n",
       "      <td>7.142857</td>\n",
       "      <td>7.142857</td>\n",
       "      <td>6.428571</td>\n",
       "      <td>6.428571</td>\n",
       "      <td>6.428571</td>\n",
       "      <td>5.714286</td>\n",
       "      <td>5.714286</td>\n",
       "      <td>5.714286</td>\n",
       "      <td>4.285714</td>\n",
       "      <td>...</td>\n",
       "      <td>2.857143</td>\n",
       "      <td>2.142857</td>\n",
       "      <td>2.142857</td>\n",
       "      <td>2.142857</td>\n",
       "      <td>2.142857</td>\n",
       "      <td>2.142857</td>\n",
       "      <td>1.428571</td>\n",
       "      <td>1.428571</td>\n",
       "      <td>1.428571</td>\n",
       "      <td>0.714286</td>\n",
       "    </tr>\n",
       "    <tr>\n",
       "      <th>percentage_clusters_claro</th>\n",
       "      <td>1.934016</td>\n",
       "      <td>0.682594</td>\n",
       "      <td>5.233220</td>\n",
       "      <td>3.697383</td>\n",
       "      <td>2.616610</td>\n",
       "      <td>5.574516</td>\n",
       "      <td>6.541524</td>\n",
       "      <td>6.143345</td>\n",
       "      <td>6.370876</td>\n",
       "      <td>4.323094</td>\n",
       "      <td>...</td>\n",
       "      <td>1.763367</td>\n",
       "      <td>3.640501</td>\n",
       "      <td>4.607509</td>\n",
       "      <td>4.891923</td>\n",
       "      <td>2.275313</td>\n",
       "      <td>4.891923</td>\n",
       "      <td>2.445961</td>\n",
       "      <td>2.502844</td>\n",
       "      <td>3.128555</td>\n",
       "      <td>3.356086</td>\n",
       "    </tr>\n",
       "    <tr>\n",
       "      <th>percentage_clusters_sony</th>\n",
       "      <td>0.000000</td>\n",
       "      <td>0.000000</td>\n",
       "      <td>7.142857</td>\n",
       "      <td>8.928571</td>\n",
       "      <td>0.000000</td>\n",
       "      <td>0.000000</td>\n",
       "      <td>3.571429</td>\n",
       "      <td>5.357143</td>\n",
       "      <td>12.500000</td>\n",
       "      <td>3.571429</td>\n",
       "      <td>...</td>\n",
       "      <td>3.571429</td>\n",
       "      <td>1.785714</td>\n",
       "      <td>5.357143</td>\n",
       "      <td>0.000000</td>\n",
       "      <td>5.357143</td>\n",
       "      <td>7.142857</td>\n",
       "      <td>5.357143</td>\n",
       "      <td>0.000000</td>\n",
       "      <td>1.785714</td>\n",
       "      <td>0.000000</td>\n",
       "    </tr>\n",
       "    <tr>\n",
       "      <th>percentage_clusters_netflix</th>\n",
       "      <td>13.842334</td>\n",
       "      <td>5.276226</td>\n",
       "      <td>4.158908</td>\n",
       "      <td>1.427685</td>\n",
       "      <td>2.420857</td>\n",
       "      <td>6.703911</td>\n",
       "      <td>4.593420</td>\n",
       "      <td>6.083178</td>\n",
       "      <td>4.965860</td>\n",
       "      <td>2.793296</td>\n",
       "      <td>...</td>\n",
       "      <td>1.551831</td>\n",
       "      <td>2.917443</td>\n",
       "      <td>3.165736</td>\n",
       "      <td>7.635009</td>\n",
       "      <td>3.910615</td>\n",
       "      <td>2.420857</td>\n",
       "      <td>1.241465</td>\n",
       "      <td>1.241465</td>\n",
       "      <td>2.793296</td>\n",
       "      <td>2.110490</td>\n",
       "    </tr>\n",
       "    <tr>\n",
       "      <th>percentage_clusters_flow</th>\n",
       "      <td>3.743316</td>\n",
       "      <td>0.802139</td>\n",
       "      <td>5.347594</td>\n",
       "      <td>2.941176</td>\n",
       "      <td>2.139037</td>\n",
       "      <td>6.417112</td>\n",
       "      <td>3.475936</td>\n",
       "      <td>6.417112</td>\n",
       "      <td>7.219251</td>\n",
       "      <td>4.010695</td>\n",
       "      <td>...</td>\n",
       "      <td>1.336898</td>\n",
       "      <td>2.941176</td>\n",
       "      <td>5.080214</td>\n",
       "      <td>6.149733</td>\n",
       "      <td>2.941176</td>\n",
       "      <td>1.871658</td>\n",
       "      <td>1.336898</td>\n",
       "      <td>1.871658</td>\n",
       "      <td>4.010695</td>\n",
       "      <td>2.406417</td>\n",
       "    </tr>\n",
       "    <tr>\n",
       "      <th>percentage_clusters_amazon</th>\n",
       "      <td>5.038760</td>\n",
       "      <td>3.359173</td>\n",
       "      <td>4.521964</td>\n",
       "      <td>2.454780</td>\n",
       "      <td>1.937984</td>\n",
       "      <td>11.498708</td>\n",
       "      <td>4.263566</td>\n",
       "      <td>8.656331</td>\n",
       "      <td>2.713178</td>\n",
       "      <td>3.746770</td>\n",
       "      <td>...</td>\n",
       "      <td>1.937984</td>\n",
       "      <td>3.229974</td>\n",
       "      <td>3.617571</td>\n",
       "      <td>6.589147</td>\n",
       "      <td>3.229974</td>\n",
       "      <td>2.325581</td>\n",
       "      <td>2.067183</td>\n",
       "      <td>1.421189</td>\n",
       "      <td>3.746770</td>\n",
       "      <td>3.359173</td>\n",
       "    </tr>\n",
       "    <tr>\n",
       "      <th>percentage_clusters_on_video</th>\n",
       "      <td>1.273885</td>\n",
       "      <td>1.273885</td>\n",
       "      <td>5.414013</td>\n",
       "      <td>5.414013</td>\n",
       "      <td>3.503185</td>\n",
       "      <td>5.095541</td>\n",
       "      <td>6.050955</td>\n",
       "      <td>7.643312</td>\n",
       "      <td>7.643312</td>\n",
       "      <td>3.821656</td>\n",
       "      <td>...</td>\n",
       "      <td>0.955414</td>\n",
       "      <td>1.273885</td>\n",
       "      <td>7.324841</td>\n",
       "      <td>4.777070</td>\n",
       "      <td>2.547771</td>\n",
       "      <td>4.777070</td>\n",
       "      <td>3.821656</td>\n",
       "      <td>2.229299</td>\n",
       "      <td>3.503185</td>\n",
       "      <td>1.592357</td>\n",
       "    </tr>\n",
       "    <tr>\n",
       "      <th>percentage_clusters_fox</th>\n",
       "      <td>1.659751</td>\n",
       "      <td>0.414938</td>\n",
       "      <td>3.734440</td>\n",
       "      <td>2.904564</td>\n",
       "      <td>2.904564</td>\n",
       "      <td>5.394191</td>\n",
       "      <td>1.659751</td>\n",
       "      <td>6.639004</td>\n",
       "      <td>4.979253</td>\n",
       "      <td>4.149378</td>\n",
       "      <td>...</td>\n",
       "      <td>2.489627</td>\n",
       "      <td>2.904564</td>\n",
       "      <td>4.564315</td>\n",
       "      <td>8.713693</td>\n",
       "      <td>2.074689</td>\n",
       "      <td>2.904564</td>\n",
       "      <td>3.319502</td>\n",
       "      <td>2.904564</td>\n",
       "      <td>2.489627</td>\n",
       "      <td>2.904564</td>\n",
       "    </tr>\n",
       "  </tbody>\n",
       "</table>\n",
       "<p>8 rows × 25 columns</p>\n",
       "</div>"
      ],
      "text/plain": [
       "                                     14        3         13        15  \\\n",
       "percentage_clusters_hbo        7.857143  7.142857  7.142857  6.428571   \n",
       "percentage_clusters_claro      1.934016  0.682594  5.233220  3.697383   \n",
       "percentage_clusters_sony       0.000000  0.000000  7.142857  8.928571   \n",
       "percentage_clusters_netflix   13.842334  5.276226  4.158908  1.427685   \n",
       "percentage_clusters_flow       3.743316  0.802139  5.347594  2.941176   \n",
       "percentage_clusters_amazon     5.038760  3.359173  4.521964  2.454780   \n",
       "percentage_clusters_on_video   1.273885  1.273885  5.414013  5.414013   \n",
       "percentage_clusters_fox        1.659751  0.414938  3.734440  2.904564   \n",
       "\n",
       "                                    10         2         22        19  \\\n",
       "percentage_clusters_hbo       6.428571   6.428571  5.714286  5.714286   \n",
       "percentage_clusters_claro     2.616610   5.574516  6.541524  6.143345   \n",
       "percentage_clusters_sony      0.000000   0.000000  3.571429  5.357143   \n",
       "percentage_clusters_netflix   2.420857   6.703911  4.593420  6.083178   \n",
       "percentage_clusters_flow      2.139037   6.417112  3.475936  6.417112   \n",
       "percentage_clusters_amazon    1.937984  11.498708  4.263566  8.656331   \n",
       "percentage_clusters_on_video  3.503185   5.095541  6.050955  7.643312   \n",
       "percentage_clusters_fox       2.904564   5.394191  1.659751  6.639004   \n",
       "\n",
       "                                     11        12    ...           8   \\\n",
       "percentage_clusters_hbo        5.714286  4.285714    ...     2.857143   \n",
       "percentage_clusters_claro      6.370876  4.323094    ...     1.763367   \n",
       "percentage_clusters_sony      12.500000  3.571429    ...     3.571429   \n",
       "percentage_clusters_netflix    4.965860  2.793296    ...     1.551831   \n",
       "percentage_clusters_flow       7.219251  4.010695    ...     1.336898   \n",
       "percentage_clusters_amazon     2.713178  3.746770    ...     1.937984   \n",
       "percentage_clusters_on_video   7.643312  3.821656    ...     0.955414   \n",
       "percentage_clusters_fox        4.979253  4.149378    ...     2.489627   \n",
       "\n",
       "                                    6         4         24        18  \\\n",
       "percentage_clusters_hbo       2.142857  2.142857  2.142857  2.142857   \n",
       "percentage_clusters_claro     3.640501  4.607509  4.891923  2.275313   \n",
       "percentage_clusters_sony      1.785714  5.357143  0.000000  5.357143   \n",
       "percentage_clusters_netflix   2.917443  3.165736  7.635009  3.910615   \n",
       "percentage_clusters_flow      2.941176  5.080214  6.149733  2.941176   \n",
       "percentage_clusters_amazon    3.229974  3.617571  6.589147  3.229974   \n",
       "percentage_clusters_on_video  1.273885  7.324841  4.777070  2.547771   \n",
       "percentage_clusters_fox       2.904564  4.564315  8.713693  2.074689   \n",
       "\n",
       "                                    0         23        20        21        16  \n",
       "percentage_clusters_hbo       2.142857  1.428571  1.428571  1.428571  0.714286  \n",
       "percentage_clusters_claro     4.891923  2.445961  2.502844  3.128555  3.356086  \n",
       "percentage_clusters_sony      7.142857  5.357143  0.000000  1.785714  0.000000  \n",
       "percentage_clusters_netflix   2.420857  1.241465  1.241465  2.793296  2.110490  \n",
       "percentage_clusters_flow      1.871658  1.336898  1.871658  4.010695  2.406417  \n",
       "percentage_clusters_amazon    2.325581  2.067183  1.421189  3.746770  3.359173  \n",
       "percentage_clusters_on_video  4.777070  3.821656  2.229299  3.503185  1.592357  \n",
       "percentage_clusters_fox       2.904564  3.319502  2.904564  2.489627  2.904564  \n",
       "\n",
       "[8 rows x 25 columns]"
      ]
     },
     "execution_count": 87,
     "metadata": {},
     "output_type": "execute_result"
    }
   ],
   "source": [
    "df_clusters_final_transpose"
   ]
  },
  {
   "cell_type": "code",
   "execution_count": 88,
   "metadata": {},
   "outputs": [
    {
     "data": {
      "text/html": [
       "<div>\n",
       "<style>\n",
       "    .dataframe thead tr:only-child th {\n",
       "        text-align: right;\n",
       "    }\n",
       "\n",
       "    .dataframe thead th {\n",
       "        text-align: left;\n",
       "    }\n",
       "\n",
       "    .dataframe tbody tr th {\n",
       "        vertical-align: top;\n",
       "    }\n",
       "</style>\n",
       "<table border=\"1\" class=\"dataframe\">\n",
       "  <thead>\n",
       "    <tr style=\"text-align: right;\">\n",
       "      <th></th>\n",
       "      <th>labels</th>\n",
       "      <th>percentage_clusters_hbo</th>\n",
       "      <th>percentage_clusters_claro</th>\n",
       "      <th>percentage_clusters_sony</th>\n",
       "      <th>percentage_clusters_netflix</th>\n",
       "      <th>percentage_clusters_flow</th>\n",
       "      <th>percentage_clusters_amazon</th>\n",
       "      <th>percentage_clusters_on_video</th>\n",
       "      <th>percentage_clusters_fox</th>\n",
       "    </tr>\n",
       "  </thead>\n",
       "  <tbody>\n",
       "    <tr>\n",
       "      <th>0</th>\n",
       "      <td>14</td>\n",
       "      <td>7.857143</td>\n",
       "      <td>1.934016</td>\n",
       "      <td>0.0</td>\n",
       "      <td>13.842334</td>\n",
       "      <td>3.743316</td>\n",
       "      <td>5.038760</td>\n",
       "      <td>1.273885</td>\n",
       "      <td>1.659751</td>\n",
       "    </tr>\n",
       "    <tr>\n",
       "      <th>1</th>\n",
       "      <td>3</td>\n",
       "      <td>7.142857</td>\n",
       "      <td>0.682594</td>\n",
       "      <td>0.0</td>\n",
       "      <td>5.276226</td>\n",
       "      <td>0.802139</td>\n",
       "      <td>3.359173</td>\n",
       "      <td>1.273885</td>\n",
       "      <td>0.414938</td>\n",
       "    </tr>\n",
       "  </tbody>\n",
       "</table>\n",
       "</div>"
      ],
      "text/plain": [
       "  labels  percentage_clusters_hbo  percentage_clusters_claro  \\\n",
       "0     14                 7.857143                   1.934016   \n",
       "1      3                 7.142857                   0.682594   \n",
       "\n",
       "   percentage_clusters_sony  percentage_clusters_netflix  \\\n",
       "0                       0.0                    13.842334   \n",
       "1                       0.0                     5.276226   \n",
       "\n",
       "   percentage_clusters_flow  percentage_clusters_amazon  \\\n",
       "0                  3.743316                    5.038760   \n",
       "1                  0.802139                    3.359173   \n",
       "\n",
       "   percentage_clusters_on_video  percentage_clusters_fox  \n",
       "0                      1.273885                 1.659751  \n",
       "1                      1.273885                 0.414938  "
      ]
     },
     "execution_count": 88,
     "metadata": {},
     "output_type": "execute_result"
    }
   ],
   "source": [
    "df_clusters_final.head(2)"
   ]
  },
  {
   "cell_type": "code",
   "execution_count": 89,
   "metadata": {
    "collapsed": true
   },
   "outputs": [],
   "source": [
    "df_clusters_final_comparison = df_clusters_final.copy()"
   ]
  },
  {
   "cell_type": "code",
   "execution_count": 90,
   "metadata": {
    "collapsed": true
   },
   "outputs": [],
   "source": [
    "df_clusters_final_comparison['claro_flow'] =  (df_clusters_final_comparison['percentage_clusters_flow'] - df_clusters_final_comparison['percentage_clusters_claro'])/df_clusters_final_comparison['percentage_clusters_claro']*100"
   ]
  },
  {
   "cell_type": "code",
   "execution_count": 91,
   "metadata": {
    "scrolled": true
   },
   "outputs": [
    {
     "data": {
      "text/plain": [
       "<matplotlib.axes._subplots.AxesSubplot at 0x1ee339289b0>"
      ]
     },
     "execution_count": 91,
     "metadata": {},
     "output_type": "execute_result"
    },
    {
     "data": {
      "image/png": "[encoded data removed]",
      "text/plain": [
       "<matplotlib.figure.Figure at 0x1ee375a1828>"
      ]
     },
     "metadata": {},
     "output_type": "display_data"
    }
   ],
   "source": [
    "import seaborn as sns\n",
    "df_clusters_final_comparison.sort_values(by='claro_flow', ascending=False).plot(\"labels\", \"claro_flow\", kind=\"barh\", color=sns.color_palette(\"deep\", 1), figsize=(8,8))"
   ]
  },
  {
   "cell_type": "code",
   "execution_count": 92,
   "metadata": {
    "collapsed": true
   },
   "outputs": [],
   "source": [
    "df_clusters_final_comparison['claro_netflix'] = (df_clusters_final_comparison['percentage_clusters_netflix'] - df_clusters_final_comparison['percentage_clusters_claro'])/df_clusters_final_comparison['percentage_clusters_claro']*100"
   ]
  },
  {
   "cell_type": "code",
   "execution_count": 93,
   "metadata": {},
   "outputs": [
    {
     "data": {
      "text/plain": [
       "<matplotlib.axes._subplots.AxesSubplot at 0x1ee3766c128>"
      ]
     },
     "execution_count": 93,
     "metadata": {},
     "output_type": "execute_result"
    },
    {
     "data": {
      "image/png": "[encoded data removed]",
      "text/plain": [
       "<matplotlib.figure.Figure at 0x1ee3797c2b0>"
      ]
     },
     "metadata": {},
     "output_type": "display_data"
    }
   ],
   "source": [
    "# ===> Se observa que para 5 clusters Claro tiene peliculas, mientras Netflix no.\n",
    "# ===> A su vez, para los clsuters 13 y 4 Netflix tiene varias veces mas contenido que Claro\n",
    "# ===> Otra forma de ver esto es que el peso de cierto tipo de contenido en la oferta de contenidos de Netflix\n",
    "# ===> es mucho mas improtante que en Claro\n",
    "\n",
    "df_clusters_final_comparison.sort_values(by='claro_netflix', ascending=False).plot(\"labels\", \"claro_netflix\", kind=\"barh\", color=sns.color_palette(\"deep\", 1),figsize=(8,8))"
   ]
  },
  {
   "cell_type": "code",
   "execution_count": 94,
   "metadata": {
    "collapsed": true
   },
   "outputs": [],
   "source": [
    "# ===> Funciones que nos van a permitir realizar words clouds a partir de agregar palabras de un atributo especifico\n",
    "# ===> (genero, actores, etc) de las peliculas de un cluster\n",
    "\n",
    "import matplotlib.pyplot as plt\n",
    "from wordcloud import WordCloud\n",
    "from collections import Counter\n",
    "\n",
    "def remove_one_from_word(dict):\n",
    "    \n",
    "    new_dict = dict.copy()\n",
    "    \n",
    "    for key, value in new_dict.items():\n",
    "        \n",
    "        new_dict[key] = new_dict[key] - 1\n",
    "    \n",
    "    return new_dict\n",
    "\n",
    "def remove_single_items(dictionary): \n",
    "    \n",
    "    main_dict = remove_one_from_word(dictionary)\n",
    "    \n",
    "    new_dict = {}\n",
    "    \n",
    "    for key, value in main_dict.items(): \n",
    "\n",
    "        if main_dict[key] > 0:\n",
    "            new_dict[key] = main_dict[key]\n",
    "\n",
    "    return new_dict\n",
    "        \n",
    "def word_cloud_words_cluster(dataframe, label, attribute):\n",
    "    \n",
    "    array_words = []\n",
    "    \n",
    "    dataframe_filter = dataframe[dataframe['labels']==label]\n",
    "    \n",
    "    for item in dataframe_filter[attribute]:\n",
    "        \n",
    "        array_words = array_words + item\n",
    "    \n",
    "    word_counter = Counter(array_words)\n",
    "    \n",
    "    words_not_unique = remove_single_items(word_counter)\n",
    "    \n",
    "    wordcloud = WordCloud( background_color='white').generate_from_frequencies(words_not_unique)\n",
    "\n",
    "    # Display the generated image:\n",
    "    plt.imshow(wordcloud, interpolation='bilinear')\n",
    "    plt.axis(\"off\")\n",
    "    plt.show()"
   ]
  },
  {
   "cell_type": "code",
   "execution_count": 104,
   "metadata": {},
   "outputs": [
    {
     "data": {
      "image/png": "[encoded data removed]",
      "text/plain": [
       "<matplotlib.figure.Figure at 0x1ee37bb8470>"
      ]
     },
     "metadata": {},
     "output_type": "display_data"
    }
   ],
   "source": [
    "# ===> Tratemos de entender cuales son los atributos que las peliculas del cluster 7 (uno de los clusters para los cuales Netflix\n",
    "# ===> y Claro son diferentes) comparten entre si\n",
    "\n",
    "word_cloud_words_cluster(df, 7, 'genres')"
   ]
  },
  {
   "cell_type": "code",
   "execution_count": 105,
   "metadata": {},
   "outputs": [
    {
     "data": {
      "image/png": "[encoded data removed]",
      "text/plain": [
       "<matplotlib.figure.Figure at 0x1ee37e9efd0>"
      ]
     },
     "metadata": {},
     "output_type": "display_data"
    }
   ],
   "source": [
    "word_cloud_words_cluster(df, 7, 'keywords')"
   ]
  },
  {
   "cell_type": "code",
   "execution_count": 77,
   "metadata": {},
   "outputs": [
    {
     "data": {
      "image/png": "[encoded data removed]",
      "text/plain": [
       "<matplotlib.figure.Figure at 0x1ee331a2be0>"
      ]
     },
     "metadata": {},
     "output_type": "display_data"
    }
   ],
   "source": [
    "word_cloud_words_cluster(df, 7, 'cast')"
   ]
  },
  {
   "cell_type": "code",
   "execution_count": 78,
   "metadata": {},
   "outputs": [
    {
     "data": {
      "image/png": "[encoded data removed]",
      "text/plain": [
       "<matplotlib.figure.Figure at 0x1ee335b4438>"
      ]
     },
     "metadata": {},
     "output_type": "display_data"
    }
   ],
   "source": [
    "word_cloud_words_cluster(df, 7, 'director')"
   ]
  },
  {
   "cell_type": "code",
   "execution_count": null,
   "metadata": {
    "collapsed": true
   },
   "outputs": [],
   "source": []
  }
 ],
 "metadata": {
  "kernelspec": {
   "display_name": "Python 3",
   "language": "python",
   "name": "python3"
  },
  "language_info": {
   "codemirror_mode": {
    "name": "ipython",
    "version": 3
   },
   "file_extension": ".py",
   "mimetype": "text/x-python",
   "name": "python",
   "nbconvert_exporter": "python",
   "pygments_lexer": "ipython3",
   "version": "3.6.3"
  }
 },
 "nbformat": 4,
 "nbformat_minor": 2
}
