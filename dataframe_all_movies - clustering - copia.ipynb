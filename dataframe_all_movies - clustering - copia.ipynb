{
 "cells": [
  {
   "cell_type": "code",
   "execution_count": 1,
   "metadata": {},
   "outputs": [],
   "source": [
    "import numpy as np\n",
    "import pandas as pd"
   ]
  },
  {
   "cell_type": "code",
   "execution_count": 2,
   "metadata": {},
   "outputs": [],
   "source": [
    "df_hbo = pd.read_csv('hbo.csv')\n",
    "df_claro = pd.read_csv('claro.csv')\n",
    "df_sony = pd.read_csv('sony.csv')\n",
    "df_netflix = pd.read_csv('netflix.csv')\n",
    "df_flow = pd.read_csv('flow.csv')\n",
    "df_amazon = pd.read_csv('amazon.csv')\n",
    "df_on_video = pd.read_csv('on_video.csv')\n",
    "df_fox = pd.read_csv('fox.csv')"
   ]
  },
  {
   "cell_type": "code",
   "execution_count": 3,
   "metadata": {},
   "outputs": [
    {
     "data": {
      "text/html": [
       "<div>\n",
       "<style scoped>\n",
       "    .dataframe tbody tr th:only-of-type {\n",
       "        vertical-align: middle;\n",
       "    }\n",
       "\n",
       "    .dataframe tbody tr th {\n",
       "        vertical-align: top;\n",
       "    }\n",
       "\n",
       "    .dataframe thead th {\n",
       "        text-align: right;\n",
       "    }\n",
       "</style>\n",
       "<table border=\"1\" class=\"dataframe\">\n",
       "  <thead>\n",
       "    <tr style=\"text-align: right;\">\n",
       "      <th></th>\n",
       "      <th>Unnamed: 0</th>\n",
       "      <th>Unnamed: 0.1</th>\n",
       "      <th>id</th>\n",
       "      <th>title</th>\n",
       "      <th>title_original</th>\n",
       "      <th>genres</th>\n",
       "      <th>director</th>\n",
       "      <th>keywords</th>\n",
       "      <th>cast</th>\n",
       "      <th>genre_empty</th>\n",
       "    </tr>\n",
       "  </thead>\n",
       "  <tbody>\n",
       "    <tr>\n",
       "      <th>0</th>\n",
       "      <td>0</td>\n",
       "      <td>0</td>\n",
       "      <td>1183</td>\n",
       "      <td>2 Fast 2 Furious: A todo gas 2</td>\n",
       "      <td>2 Fast 2 Furious</td>\n",
       "      <td>['Acción', 'Crimen', 'Suspense']</td>\n",
       "      <td>['John Singleton']</td>\n",
       "      <td>['miami', 'car race', 'sports car', 'los angel...</td>\n",
       "      <td>['Paul Walker', 'Tyrese Gibson', 'Eva Mendes',...</td>\n",
       "      <td>32</td>\n",
       "    </tr>\n",
       "    <tr>\n",
       "      <th>1</th>\n",
       "      <td>2</td>\n",
       "      <td>2</td>\n",
       "      <td>1457</td>\n",
       "      <td>21 gramos</td>\n",
       "      <td>21 Grams</td>\n",
       "      <td>['Drama', 'Crimen', 'Suspense']</td>\n",
       "      <td>['Alejandro González Iñárritu']</td>\n",
       "      <td>['life and death', 'loss of loved one', 'trans...</td>\n",
       "      <td>['Sean Penn', 'Naomi Watts', 'Benicio del Toro...</td>\n",
       "      <td>31</td>\n",
       "    </tr>\n",
       "  </tbody>\n",
       "</table>\n",
       "</div>"
      ],
      "text/plain": [
       "   Unnamed: 0  Unnamed: 0.1    id                           title  \\\n",
       "0           0             0  1183  2 Fast 2 Furious: A todo gas 2   \n",
       "1           2             2  1457                       21 gramos   \n",
       "\n",
       "     title_original                            genres  \\\n",
       "0  2 Fast 2 Furious  ['Acción', 'Crimen', 'Suspense']   \n",
       "1          21 Grams   ['Drama', 'Crimen', 'Suspense']   \n",
       "\n",
       "                          director  \\\n",
       "0               ['John Singleton']   \n",
       "1  ['Alejandro González Iñárritu']   \n",
       "\n",
       "                                            keywords  \\\n",
       "0  ['miami', 'car race', 'sports car', 'los angel...   \n",
       "1  ['life and death', 'loss of loved one', 'trans...   \n",
       "\n",
       "                                                cast  genre_empty  \n",
       "0  ['Paul Walker', 'Tyrese Gibson', 'Eva Mendes',...           32  \n",
       "1  ['Sean Penn', 'Naomi Watts', 'Benicio del Toro...           31  "
      ]
     },
     "execution_count": 3,
     "metadata": {},
     "output_type": "execute_result"
    }
   ],
   "source": [
    "df_hbo.head(2)"
   ]
  },
  {
   "cell_type": "code",
   "execution_count": 4,
   "metadata": {},
   "outputs": [
    {
     "data": {
      "text/html": [
       "<div>\n",
       "<style scoped>\n",
       "    .dataframe tbody tr th:only-of-type {\n",
       "        vertical-align: middle;\n",
       "    }\n",
       "\n",
       "    .dataframe tbody tr th {\n",
       "        vertical-align: top;\n",
       "    }\n",
       "\n",
       "    .dataframe thead th {\n",
       "        text-align: right;\n",
       "    }\n",
       "</style>\n",
       "<table border=\"1\" class=\"dataframe\">\n",
       "  <thead>\n",
       "    <tr style=\"text-align: right;\">\n",
       "      <th></th>\n",
       "      <th>Unnamed: 0</th>\n",
       "      <th>Unnamed: 0.1</th>\n",
       "      <th>id</th>\n",
       "      <th>title</th>\n",
       "      <th>title_original</th>\n",
       "      <th>genres</th>\n",
       "      <th>director</th>\n",
       "      <th>keywords</th>\n",
       "      <th>cast</th>\n",
       "      <th>genre_empty</th>\n",
       "    </tr>\n",
       "  </thead>\n",
       "  <tbody>\n",
       "    <tr>\n",
       "      <th>0</th>\n",
       "      <td>0</td>\n",
       "      <td>0</td>\n",
       "      <td>44</td>\n",
       "      <td>500 dias juntos</td>\n",
       "      <td>(500) Days of Summer</td>\n",
       "      <td>['Comedia', 'Drama', 'Romance']</td>\n",
       "      <td>['Marc Webb']</td>\n",
       "      <td>['date', 'jealousy', 'fight', 'architect', 'ga...</td>\n",
       "      <td>['Joseph Gordon-Levitt', 'Zooey Deschanel', 'C...</td>\n",
       "      <td>31</td>\n",
       "    </tr>\n",
       "    <tr>\n",
       "      <th>1</th>\n",
       "      <td>2</td>\n",
       "      <td>2</td>\n",
       "      <td>49</td>\n",
       "      <td>Nuestros maravillosos aliados</td>\n",
       "      <td>*batteries not included</td>\n",
       "      <td>['Comedia', 'Familia', 'Fantasía', 'Ciencia fi...</td>\n",
       "      <td>['Matthew Robbins']</td>\n",
       "      <td>['extraterrestrial technology', 'alien life-fo...</td>\n",
       "      <td>['Hume Cronyn', 'Jessica Tandy', 'Frank McRae'...</td>\n",
       "      <td>53</td>\n",
       "    </tr>\n",
       "  </tbody>\n",
       "</table>\n",
       "</div>"
      ],
      "text/plain": [
       "   Unnamed: 0  Unnamed: 0.1  id                          title  \\\n",
       "0           0             0  44                500 dias juntos   \n",
       "1           2             2  49  Nuestros maravillosos aliados   \n",
       "\n",
       "            title_original                                             genres  \\\n",
       "0     (500) Days of Summer                    ['Comedia', 'Drama', 'Romance']   \n",
       "1  *batteries not included  ['Comedia', 'Familia', 'Fantasía', 'Ciencia fi...   \n",
       "\n",
       "              director                                           keywords  \\\n",
       "0        ['Marc Webb']  ['date', 'jealousy', 'fight', 'architect', 'ga...   \n",
       "1  ['Matthew Robbins']  ['extraterrestrial technology', 'alien life-fo...   \n",
       "\n",
       "                                                cast  genre_empty  \n",
       "0  ['Joseph Gordon-Levitt', 'Zooey Deschanel', 'C...           31  \n",
       "1  ['Hume Cronyn', 'Jessica Tandy', 'Frank McRae'...           53  "
      ]
     },
     "execution_count": 4,
     "metadata": {},
     "output_type": "execute_result"
    }
   ],
   "source": [
    "df_claro.head(2)"
   ]
  },
  {
   "cell_type": "code",
   "execution_count": 5,
   "metadata": {},
   "outputs": [
    {
     "name": "stdout",
     "output_type": "stream",
     "text": [
      "140\n",
      "1758\n",
      "774\n",
      "1611\n",
      "374\n",
      "314\n",
      "56\n",
      "241\n"
     ]
    }
   ],
   "source": [
    "print(len(df_hbo.index))\n",
    "print(len(df_claro.index))\n",
    "print(len(df_amazon.index))\n",
    "print(len(df_netflix.index))\n",
    "print(len(df_flow.index))\n",
    "print(len(df_on_video.index))\n",
    "print(len(df_sony.index))\n",
    "print(len(df_fox.index))"
   ]
  },
  {
   "cell_type": "code",
   "execution_count": 6,
   "metadata": {},
   "outputs": [],
   "source": [
    "# ===> Unimos los diferentes dataframes\n",
    "\n",
    "frames = [df_hbo, df_claro, df_amazon, df_netflix, df_flow, df_on_video, df_sony, df_fox]\n",
    "\n",
    "df = pd.concat(frames)"
   ]
  },
  {
   "cell_type": "code",
   "execution_count": 7,
   "metadata": {},
   "outputs": [
    {
     "name": "stdout",
     "output_type": "stream",
     "text": [
      "5268\n"
     ]
    }
   ],
   "source": [
    "print(len(df.index))"
   ]
  },
  {
   "cell_type": "code",
   "execution_count": 8,
   "metadata": {},
   "outputs": [],
   "source": [
    "df = df.drop_duplicates(subset=['id'])"
   ]
  },
  {
   "cell_type": "code",
   "execution_count": 9,
   "metadata": {},
   "outputs": [],
   "source": [
    "df = df.drop_duplicates(subset=['title_original'])"
   ]
  },
  {
   "cell_type": "code",
   "execution_count": 10,
   "metadata": {},
   "outputs": [
    {
     "name": "stdout",
     "output_type": "stream",
     "text": [
      "4445\n"
     ]
    }
   ],
   "source": [
    "print(len(df.index)) # Pareciera que no se comparten tantas peliculas"
   ]
  },
  {
   "cell_type": "code",
   "execution_count": 11,
   "metadata": {},
   "outputs": [],
   "source": [
    "df['genres']=df['genres'].str.strip('[]').str.replace(' ','').str.replace(\"'\",'')\n",
    "df['genres']=df['genres'].str.split(',')\n",
    "\n",
    "df['keywords']=df['keywords'].str.strip('[]').str.replace(' ','').str.replace(\"'\",'')\n",
    "df['keywords']=df['keywords'].str.split(',')\n",
    "\n",
    "df['director']=df['director'].str.strip('[]').str.replace(' ','').str.replace(\"'\",'')\n",
    "df['director']=df['director'].str.split(',')\n",
    "\n",
    "df['cast']=df['cast'].str.strip('[]').str.replace(' ','').str.replace(\"'\",'')\n",
    "df['cast']=df['cast'].str.split(',')"
   ]
  },
  {
   "cell_type": "code",
   "execution_count": 12,
   "metadata": {},
   "outputs": [],
   "source": [
    "# ===> Vamos a crear el vector a partir de los datos en el array de una columna\n",
    "\n",
    "# ===> Creamos la lista de valores unicos\n",
    "\n",
    "def create_unique_list(dataframe, column):\n",
    "    \n",
    "    list_unique_items = []\n",
    "    \n",
    "    for index, row in dataframe.iterrows():\n",
    "        list_items = row[column]\n",
    "    \n",
    "        for item in list_items:\n",
    "            if item not in list_unique_items:\n",
    "                list_unique_items.append(item)\n",
    "            \n",
    "    return list_unique_items\n",
    "\n",
    "# ===> binary va iterar sobre los valores de un array y chequear que valores estan en la lista de valores unicos\n",
    "\n",
    "def binary(list_items, list_unique_items):\n",
    "    \n",
    "    binaryList = []\n",
    "    \n",
    "    for item in list_unique_items:\n",
    "        if item in list_items:\n",
    "            binaryList.append(1)\n",
    "        else:\n",
    "            binaryList.append(0)\n",
    "    \n",
    "    return binaryList\n",
    "\n",
    "# ===> create_vector nos va a devolver el dataframe con una nueva columna, que representa un vector binario del atributo\n",
    "# ===> en cuestion (genero, cast, director, etc)\n",
    "\n",
    "def create_vector(dataframe, column_name):\n",
    "    \n",
    "    unique_list = create_unique_list(dataframe, column_name)\n",
    "    \n",
    "    column_name_vector = column_name + '_bin'\n",
    "    \n",
    "    dataframe[column_name_vector] = dataframe[column_name].apply(lambda x: binary(x, unique_list))\n",
    "    \n",
    "    return dataframe"
   ]
  },
  {
   "cell_type": "code",
   "execution_count": 13,
   "metadata": {},
   "outputs": [
    {
     "data": {
      "text/html": [
       "<div>\n",
       "<style scoped>\n",
       "    .dataframe tbody tr th:only-of-type {\n",
       "        vertical-align: middle;\n",
       "    }\n",
       "\n",
       "    .dataframe tbody tr th {\n",
       "        vertical-align: top;\n",
       "    }\n",
       "\n",
       "    .dataframe thead th {\n",
       "        text-align: right;\n",
       "    }\n",
       "</style>\n",
       "<table border=\"1\" class=\"dataframe\">\n",
       "  <thead>\n",
       "    <tr style=\"text-align: right;\">\n",
       "      <th></th>\n",
       "      <th>Unnamed: 0</th>\n",
       "      <th>Unnamed: 0.1</th>\n",
       "      <th>id</th>\n",
       "      <th>title</th>\n",
       "      <th>title_original</th>\n",
       "      <th>genres</th>\n",
       "      <th>director</th>\n",
       "      <th>keywords</th>\n",
       "      <th>cast</th>\n",
       "      <th>genre_empty</th>\n",
       "      <th>keywords_bin</th>\n",
       "    </tr>\n",
       "  </thead>\n",
       "  <tbody>\n",
       "    <tr>\n",
       "      <th>0</th>\n",
       "      <td>0</td>\n",
       "      <td>0</td>\n",
       "      <td>1183</td>\n",
       "      <td>2 Fast 2 Furious: A todo gas 2</td>\n",
       "      <td>2 Fast 2 Furious</td>\n",
       "      <td>[Acción, Crimen, Suspense]</td>\n",
       "      <td>[JohnSingleton]</td>\n",
       "      <td>[miami, carrace, sportscar, losangeles, car, a...</td>\n",
       "      <td>[PaulWalker, TyreseGibson, EvaMendes, ColeHaus...</td>\n",
       "      <td>32</td>\n",
       "      <td>[1, 1, 1, 1, 1, 1, 0, 0, 0, 0, 0, 0, 0, 0, 0, ...</td>\n",
       "    </tr>\n",
       "    <tr>\n",
       "      <th>1</th>\n",
       "      <td>2</td>\n",
       "      <td>2</td>\n",
       "      <td>1457</td>\n",
       "      <td>21 gramos</td>\n",
       "      <td>21 Grams</td>\n",
       "      <td>[Drama, Crimen, Suspense]</td>\n",
       "      <td>[AlejandroGonzálezIñárritu]</td>\n",
       "      <td>[lifeanddeath, lossoflovedone, transplantation...</td>\n",
       "      <td>[SeanPenn, NaomiWatts, BeniciodelToro, DannyHu...</td>\n",
       "      <td>31</td>\n",
       "      <td>[0, 0, 0, 0, 0, 0, 1, 1, 1, 1, 1, 1, 1, 1, 1, ...</td>\n",
       "    </tr>\n",
       "  </tbody>\n",
       "</table>\n",
       "</div>"
      ],
      "text/plain": [
       "   Unnamed: 0  Unnamed: 0.1    id                           title  \\\n",
       "0           0             0  1183  2 Fast 2 Furious: A todo gas 2   \n",
       "1           2             2  1457                       21 gramos   \n",
       "\n",
       "     title_original                      genres                     director  \\\n",
       "0  2 Fast 2 Furious  [Acción, Crimen, Suspense]              [JohnSingleton]   \n",
       "1          21 Grams   [Drama, Crimen, Suspense]  [AlejandroGonzálezIñárritu]   \n",
       "\n",
       "                                            keywords  \\\n",
       "0  [miami, carrace, sportscar, losangeles, car, a...   \n",
       "1  [lifeanddeath, lossoflovedone, transplantation...   \n",
       "\n",
       "                                                cast  genre_empty  \\\n",
       "0  [PaulWalker, TyreseGibson, EvaMendes, ColeHaus...           32   \n",
       "1  [SeanPenn, NaomiWatts, BeniciodelToro, DannyHu...           31   \n",
       "\n",
       "                                        keywords_bin  \n",
       "0  [1, 1, 1, 1, 1, 1, 0, 0, 0, 0, 0, 0, 0, 0, 0, ...  \n",
       "1  [0, 0, 0, 0, 0, 0, 1, 1, 1, 1, 1, 1, 1, 1, 1, ...  "
      ]
     },
     "execution_count": 13,
     "metadata": {},
     "output_type": "execute_result"
    }
   ],
   "source": [
    "df = create_vector(df, 'keywords')\n",
    "df.head(2)"
   ]
  },
  {
   "cell_type": "code",
   "execution_count": 14,
   "metadata": {},
   "outputs": [
    {
     "data": {
      "text/html": [
       "<div>\n",
       "<style scoped>\n",
       "    .dataframe tbody tr th:only-of-type {\n",
       "        vertical-align: middle;\n",
       "    }\n",
       "\n",
       "    .dataframe tbody tr th {\n",
       "        vertical-align: top;\n",
       "    }\n",
       "\n",
       "    .dataframe thead th {\n",
       "        text-align: right;\n",
       "    }\n",
       "</style>\n",
       "<table border=\"1\" class=\"dataframe\">\n",
       "  <thead>\n",
       "    <tr style=\"text-align: right;\">\n",
       "      <th></th>\n",
       "      <th>Unnamed: 0</th>\n",
       "      <th>Unnamed: 0.1</th>\n",
       "      <th>id</th>\n",
       "      <th>title</th>\n",
       "      <th>title_original</th>\n",
       "      <th>genres</th>\n",
       "      <th>director</th>\n",
       "      <th>keywords</th>\n",
       "      <th>cast</th>\n",
       "      <th>genre_empty</th>\n",
       "      <th>keywords_bin</th>\n",
       "      <th>genres_bin</th>\n",
       "    </tr>\n",
       "  </thead>\n",
       "  <tbody>\n",
       "    <tr>\n",
       "      <th>0</th>\n",
       "      <td>0</td>\n",
       "      <td>0</td>\n",
       "      <td>1183</td>\n",
       "      <td>2 Fast 2 Furious: A todo gas 2</td>\n",
       "      <td>2 Fast 2 Furious</td>\n",
       "      <td>[Acción, Crimen, Suspense]</td>\n",
       "      <td>[JohnSingleton]</td>\n",
       "      <td>[miami, carrace, sportscar, losangeles, car, a...</td>\n",
       "      <td>[PaulWalker, TyreseGibson, EvaMendes, ColeHaus...</td>\n",
       "      <td>32</td>\n",
       "      <td>[1, 1, 1, 1, 1, 1, 0, 0, 0, 0, 0, 0, 0, 0, 0, ...</td>\n",
       "      <td>[1, 1, 1, 0, 0, 0, 0, 0, 0, 0, 0, 0, 0, 0, 0, ...</td>\n",
       "    </tr>\n",
       "    <tr>\n",
       "      <th>1</th>\n",
       "      <td>2</td>\n",
       "      <td>2</td>\n",
       "      <td>1457</td>\n",
       "      <td>21 gramos</td>\n",
       "      <td>21 Grams</td>\n",
       "      <td>[Drama, Crimen, Suspense]</td>\n",
       "      <td>[AlejandroGonzálezIñárritu]</td>\n",
       "      <td>[lifeanddeath, lossoflovedone, transplantation...</td>\n",
       "      <td>[SeanPenn, NaomiWatts, BeniciodelToro, DannyHu...</td>\n",
       "      <td>31</td>\n",
       "      <td>[0, 0, 0, 0, 0, 0, 1, 1, 1, 1, 1, 1, 1, 1, 1, ...</td>\n",
       "      <td>[0, 1, 1, 1, 0, 0, 0, 0, 0, 0, 0, 0, 0, 0, 0, ...</td>\n",
       "    </tr>\n",
       "  </tbody>\n",
       "</table>\n",
       "</div>"
      ],
      "text/plain": [
       "   Unnamed: 0  Unnamed: 0.1    id                           title  \\\n",
       "0           0             0  1183  2 Fast 2 Furious: A todo gas 2   \n",
       "1           2             2  1457                       21 gramos   \n",
       "\n",
       "     title_original                      genres                     director  \\\n",
       "0  2 Fast 2 Furious  [Acción, Crimen, Suspense]              [JohnSingleton]   \n",
       "1          21 Grams   [Drama, Crimen, Suspense]  [AlejandroGonzálezIñárritu]   \n",
       "\n",
       "                                            keywords  \\\n",
       "0  [miami, carrace, sportscar, losangeles, car, a...   \n",
       "1  [lifeanddeath, lossoflovedone, transplantation...   \n",
       "\n",
       "                                                cast  genre_empty  \\\n",
       "0  [PaulWalker, TyreseGibson, EvaMendes, ColeHaus...           32   \n",
       "1  [SeanPenn, NaomiWatts, BeniciodelToro, DannyHu...           31   \n",
       "\n",
       "                                        keywords_bin  \\\n",
       "0  [1, 1, 1, 1, 1, 1, 0, 0, 0, 0, 0, 0, 0, 0, 0, ...   \n",
       "1  [0, 0, 0, 0, 0, 0, 1, 1, 1, 1, 1, 1, 1, 1, 1, ...   \n",
       "\n",
       "                                          genres_bin  \n",
       "0  [1, 1, 1, 0, 0, 0, 0, 0, 0, 0, 0, 0, 0, 0, 0, ...  \n",
       "1  [0, 1, 1, 1, 0, 0, 0, 0, 0, 0, 0, 0, 0, 0, 0, ...  "
      ]
     },
     "execution_count": 14,
     "metadata": {},
     "output_type": "execute_result"
    }
   ],
   "source": [
    "df = create_vector(df, 'genres')\n",
    "df.head(2)"
   ]
  },
  {
   "cell_type": "code",
   "execution_count": 15,
   "metadata": {},
   "outputs": [
    {
     "data": {
      "text/html": [
       "<div>\n",
       "<style scoped>\n",
       "    .dataframe tbody tr th:only-of-type {\n",
       "        vertical-align: middle;\n",
       "    }\n",
       "\n",
       "    .dataframe tbody tr th {\n",
       "        vertical-align: top;\n",
       "    }\n",
       "\n",
       "    .dataframe thead th {\n",
       "        text-align: right;\n",
       "    }\n",
       "</style>\n",
       "<table border=\"1\" class=\"dataframe\">\n",
       "  <thead>\n",
       "    <tr style=\"text-align: right;\">\n",
       "      <th></th>\n",
       "      <th>Unnamed: 0</th>\n",
       "      <th>Unnamed: 0.1</th>\n",
       "      <th>id</th>\n",
       "      <th>title</th>\n",
       "      <th>title_original</th>\n",
       "      <th>genres</th>\n",
       "      <th>director</th>\n",
       "      <th>keywords</th>\n",
       "      <th>cast</th>\n",
       "      <th>genre_empty</th>\n",
       "      <th>keywords_bin</th>\n",
       "      <th>genres_bin</th>\n",
       "      <th>director_bin</th>\n",
       "    </tr>\n",
       "  </thead>\n",
       "  <tbody>\n",
       "    <tr>\n",
       "      <th>0</th>\n",
       "      <td>0</td>\n",
       "      <td>0</td>\n",
       "      <td>1183</td>\n",
       "      <td>2 Fast 2 Furious: A todo gas 2</td>\n",
       "      <td>2 Fast 2 Furious</td>\n",
       "      <td>[Acción, Crimen, Suspense]</td>\n",
       "      <td>[JohnSingleton]</td>\n",
       "      <td>[miami, carrace, sportscar, losangeles, car, a...</td>\n",
       "      <td>[PaulWalker, TyreseGibson, EvaMendes, ColeHaus...</td>\n",
       "      <td>32</td>\n",
       "      <td>[1, 1, 1, 1, 1, 1, 0, 0, 0, 0, 0, 0, 0, 0, 0, ...</td>\n",
       "      <td>[1, 1, 1, 0, 0, 0, 0, 0, 0, 0, 0, 0, 0, 0, 0, ...</td>\n",
       "      <td>[1, 0, 0, 0, 0, 0, 0, 0, 0, 0, 0, 0, 0, 0, 0, ...</td>\n",
       "    </tr>\n",
       "    <tr>\n",
       "      <th>1</th>\n",
       "      <td>2</td>\n",
       "      <td>2</td>\n",
       "      <td>1457</td>\n",
       "      <td>21 gramos</td>\n",
       "      <td>21 Grams</td>\n",
       "      <td>[Drama, Crimen, Suspense]</td>\n",
       "      <td>[AlejandroGonzálezIñárritu]</td>\n",
       "      <td>[lifeanddeath, lossoflovedone, transplantation...</td>\n",
       "      <td>[SeanPenn, NaomiWatts, BeniciodelToro, DannyHu...</td>\n",
       "      <td>31</td>\n",
       "      <td>[0, 0, 0, 0, 0, 0, 1, 1, 1, 1, 1, 1, 1, 1, 1, ...</td>\n",
       "      <td>[0, 1, 1, 1, 0, 0, 0, 0, 0, 0, 0, 0, 0, 0, 0, ...</td>\n",
       "      <td>[0, 1, 0, 0, 0, 0, 0, 0, 0, 0, 0, 0, 0, 0, 0, ...</td>\n",
       "    </tr>\n",
       "  </tbody>\n",
       "</table>\n",
       "</div>"
      ],
      "text/plain": [
       "   Unnamed: 0  Unnamed: 0.1    id                           title  \\\n",
       "0           0             0  1183  2 Fast 2 Furious: A todo gas 2   \n",
       "1           2             2  1457                       21 gramos   \n",
       "\n",
       "     title_original                      genres                     director  \\\n",
       "0  2 Fast 2 Furious  [Acción, Crimen, Suspense]              [JohnSingleton]   \n",
       "1          21 Grams   [Drama, Crimen, Suspense]  [AlejandroGonzálezIñárritu]   \n",
       "\n",
       "                                            keywords  \\\n",
       "0  [miami, carrace, sportscar, losangeles, car, a...   \n",
       "1  [lifeanddeath, lossoflovedone, transplantation...   \n",
       "\n",
       "                                                cast  genre_empty  \\\n",
       "0  [PaulWalker, TyreseGibson, EvaMendes, ColeHaus...           32   \n",
       "1  [SeanPenn, NaomiWatts, BeniciodelToro, DannyHu...           31   \n",
       "\n",
       "                                        keywords_bin  \\\n",
       "0  [1, 1, 1, 1, 1, 1, 0, 0, 0, 0, 0, 0, 0, 0, 0, ...   \n",
       "1  [0, 0, 0, 0, 0, 0, 1, 1, 1, 1, 1, 1, 1, 1, 1, ...   \n",
       "\n",
       "                                          genres_bin  \\\n",
       "0  [1, 1, 1, 0, 0, 0, 0, 0, 0, 0, 0, 0, 0, 0, 0, ...   \n",
       "1  [0, 1, 1, 1, 0, 0, 0, 0, 0, 0, 0, 0, 0, 0, 0, ...   \n",
       "\n",
       "                                        director_bin  \n",
       "0  [1, 0, 0, 0, 0, 0, 0, 0, 0, 0, 0, 0, 0, 0, 0, ...  \n",
       "1  [0, 1, 0, 0, 0, 0, 0, 0, 0, 0, 0, 0, 0, 0, 0, ...  "
      ]
     },
     "execution_count": 15,
     "metadata": {},
     "output_type": "execute_result"
    }
   ],
   "source": [
    "df = create_vector(df, 'director')\n",
    "df.head(2)"
   ]
  },
  {
   "cell_type": "code",
   "execution_count": 16,
   "metadata": {},
   "outputs": [
    {
     "data": {
      "text/html": [
       "<div>\n",
       "<style scoped>\n",
       "    .dataframe tbody tr th:only-of-type {\n",
       "        vertical-align: middle;\n",
       "    }\n",
       "\n",
       "    .dataframe tbody tr th {\n",
       "        vertical-align: top;\n",
       "    }\n",
       "\n",
       "    .dataframe thead th {\n",
       "        text-align: right;\n",
       "    }\n",
       "</style>\n",
       "<table border=\"1\" class=\"dataframe\">\n",
       "  <thead>\n",
       "    <tr style=\"text-align: right;\">\n",
       "      <th></th>\n",
       "      <th>Unnamed: 0</th>\n",
       "      <th>Unnamed: 0.1</th>\n",
       "      <th>id</th>\n",
       "      <th>title</th>\n",
       "      <th>title_original</th>\n",
       "      <th>genres</th>\n",
       "      <th>director</th>\n",
       "      <th>keywords</th>\n",
       "      <th>cast</th>\n",
       "      <th>genre_empty</th>\n",
       "      <th>keywords_bin</th>\n",
       "      <th>genres_bin</th>\n",
       "      <th>director_bin</th>\n",
       "      <th>cast_bin</th>\n",
       "    </tr>\n",
       "  </thead>\n",
       "  <tbody>\n",
       "    <tr>\n",
       "      <th>0</th>\n",
       "      <td>0</td>\n",
       "      <td>0</td>\n",
       "      <td>1183</td>\n",
       "      <td>2 Fast 2 Furious: A todo gas 2</td>\n",
       "      <td>2 Fast 2 Furious</td>\n",
       "      <td>[Acción, Crimen, Suspense]</td>\n",
       "      <td>[JohnSingleton]</td>\n",
       "      <td>[miami, carrace, sportscar, losangeles, car, a...</td>\n",
       "      <td>[PaulWalker, TyreseGibson, EvaMendes, ColeHaus...</td>\n",
       "      <td>32</td>\n",
       "      <td>[1, 1, 1, 1, 1, 1, 0, 0, 0, 0, 0, 0, 0, 0, 0, ...</td>\n",
       "      <td>[1, 1, 1, 0, 0, 0, 0, 0, 0, 0, 0, 0, 0, 0, 0, ...</td>\n",
       "      <td>[1, 0, 0, 0, 0, 0, 0, 0, 0, 0, 0, 0, 0, 0, 0, ...</td>\n",
       "      <td>[1, 1, 1, 1, 1, 0, 0, 0, 0, 0, 0, 0, 0, 0, 0, ...</td>\n",
       "    </tr>\n",
       "    <tr>\n",
       "      <th>1</th>\n",
       "      <td>2</td>\n",
       "      <td>2</td>\n",
       "      <td>1457</td>\n",
       "      <td>21 gramos</td>\n",
       "      <td>21 Grams</td>\n",
       "      <td>[Drama, Crimen, Suspense]</td>\n",
       "      <td>[AlejandroGonzálezIñárritu]</td>\n",
       "      <td>[lifeanddeath, lossoflovedone, transplantation...</td>\n",
       "      <td>[SeanPenn, NaomiWatts, BeniciodelToro, DannyHu...</td>\n",
       "      <td>31</td>\n",
       "      <td>[0, 0, 0, 0, 0, 0, 1, 1, 1, 1, 1, 1, 1, 1, 1, ...</td>\n",
       "      <td>[0, 1, 1, 1, 0, 0, 0, 0, 0, 0, 0, 0, 0, 0, 0, ...</td>\n",
       "      <td>[0, 1, 0, 0, 0, 0, 0, 0, 0, 0, 0, 0, 0, 0, 0, ...</td>\n",
       "      <td>[0, 0, 0, 0, 0, 1, 1, 1, 1, 1, 0, 0, 0, 0, 0, ...</td>\n",
       "    </tr>\n",
       "  </tbody>\n",
       "</table>\n",
       "</div>"
      ],
      "text/plain": [
       "   Unnamed: 0  Unnamed: 0.1    id                           title  \\\n",
       "0           0             0  1183  2 Fast 2 Furious: A todo gas 2   \n",
       "1           2             2  1457                       21 gramos   \n",
       "\n",
       "     title_original                      genres                     director  \\\n",
       "0  2 Fast 2 Furious  [Acción, Crimen, Suspense]              [JohnSingleton]   \n",
       "1          21 Grams   [Drama, Crimen, Suspense]  [AlejandroGonzálezIñárritu]   \n",
       "\n",
       "                                            keywords  \\\n",
       "0  [miami, carrace, sportscar, losangeles, car, a...   \n",
       "1  [lifeanddeath, lossoflovedone, transplantation...   \n",
       "\n",
       "                                                cast  genre_empty  \\\n",
       "0  [PaulWalker, TyreseGibson, EvaMendes, ColeHaus...           32   \n",
       "1  [SeanPenn, NaomiWatts, BeniciodelToro, DannyHu...           31   \n",
       "\n",
       "                                        keywords_bin  \\\n",
       "0  [1, 1, 1, 1, 1, 1, 0, 0, 0, 0, 0, 0, 0, 0, 0, ...   \n",
       "1  [0, 0, 0, 0, 0, 0, 1, 1, 1, 1, 1, 1, 1, 1, 1, ...   \n",
       "\n",
       "                                          genres_bin  \\\n",
       "0  [1, 1, 1, 0, 0, 0, 0, 0, 0, 0, 0, 0, 0, 0, 0, ...   \n",
       "1  [0, 1, 1, 1, 0, 0, 0, 0, 0, 0, 0, 0, 0, 0, 0, ...   \n",
       "\n",
       "                                        director_bin  \\\n",
       "0  [1, 0, 0, 0, 0, 0, 0, 0, 0, 0, 0, 0, 0, 0, 0, ...   \n",
       "1  [0, 1, 0, 0, 0, 0, 0, 0, 0, 0, 0, 0, 0, 0, 0, ...   \n",
       "\n",
       "                                            cast_bin  \n",
       "0  [1, 1, 1, 1, 1, 0, 0, 0, 0, 0, 0, 0, 0, 0, 0, ...  \n",
       "1  [0, 0, 0, 0, 0, 1, 1, 1, 1, 1, 0, 0, 0, 0, 0, ...  "
      ]
     },
     "execution_count": 16,
     "metadata": {},
     "output_type": "execute_result"
    }
   ],
   "source": [
    "df = create_vector(df, 'cast')\n",
    "df.head(2)"
   ]
  },
  {
   "cell_type": "code",
   "execution_count": 17,
   "metadata": {},
   "outputs": [],
   "source": [
    "# ===> Tenemos el dataframe con todas las peliculas. Vamos a crear una columna que sea una combinacion\n",
    "# ===> de todos los bins del dataframe\n",
    "\n",
    "df['combination_bin'] = df['genres_bin'] + df['cast_bin'] +  df['keywords_bin'] + df['director_bin']"
   ]
  },
  {
   "cell_type": "code",
   "execution_count": 18,
   "metadata": {},
   "outputs": [],
   "source": [
    "# ===> Transformamos esa columna en numpy array de dos dimensiones, lo cual es necesario para poder utilizar esa info\n",
    "# ===> como inputs de modelos de clustering\n",
    "\n",
    "df_kmeans = np.vstack(df['combination_bin'])"
   ]
  },
  {
   "cell_type": "code",
   "execution_count": 19,
   "metadata": {},
   "outputs": [
    {
     "name": "stdout",
     "output_type": "stream",
     "text": [
      "22359\n"
     ]
    }
   ],
   "source": [
    "# ===> Nuestro dataframe tiene 22443 dimensiones\n",
    "\n",
    "print(len(df_kmeans[0]))"
   ]
  },
  {
   "cell_type": "code",
   "execution_count": null,
   "metadata": {},
   "outputs": [],
   "source": [
    "# ===> Vamos a usar SVD para reducir la dimensionalidad de nuestro dataframe\n",
    "# ===> Otra opcion https://www.researchgate.net/post/Which_clustering_technique_is_most_suitable_for_high_dimensional_data_sets\n",
    "\n",
    "from sklearn.decomposition import TruncatedSVD\n",
    "svd = TruncatedSVD(50, random_state=0)\n",
    "df_transformed = svd.fit_transform(df_kmeans)"
   ]
  },
  {
   "cell_type": "code",
   "execution_count": null,
   "metadata": {},
   "outputs": [],
   "source": [
    "from sklearn.cluster import KMeans\n",
    "from sklearn.metrics import silhouette_score, calinski_harabaz_score"
   ]
  },
  {
   "cell_type": "code",
   "execution_count": null,
   "metadata": {},
   "outputs": [],
   "source": [
    "kmeans_final = KMeans(n_clusters=25, random_state=0) \n",
    "kmeans_final.fit(df_transformed)\n",
    "    \n",
    "labels_final = kmeans_final.labels_"
   ]
  },
  {
   "cell_type": "code",
   "execution_count": null,
   "metadata": {},
   "outputs": [],
   "source": [
    " df['labels'] = labels_final"
   ]
  },
  {
   "cell_type": "code",
   "execution_count": null,
   "metadata": {},
   "outputs": [],
   "source": [
    "print(df['labels'].unique())"
   ]
  },
  {
   "cell_type": "code",
   "execution_count": null,
   "metadata": {},
   "outputs": [],
   "source": [
    "pd.DataFrame(df['labels'].value_counts())"
   ]
  },
  {
   "cell_type": "code",
   "execution_count": null,
   "metadata": {},
   "outputs": [],
   "source": [
    "from sklearn.cluster import DBSCAN\n",
    "from scipy.stats import itemfreq\n",
    "\n",
    "# Los resultados no son buenos. Se arma un solo cluster enorme y muchos clausters chicos de no mas de 10 unidades\n",
    "\n",
    "#epsilon_values = [1,2,3,4,5,6,7]\n",
    "\n",
    "#min_samples_values = [3,6,9,12]\n",
    "\n",
    "#for ep_value in epsilon_values:\n",
    "    \n",
    "#    for min_sample_value in min_samples_values:\n",
    "        \n",
    "        #clustering = DBSCAN(eps=ep_value, min_samples=min_sample_value).fit(df_transformed)\n",
    "        #labels_final_dbscan = clustering.labels_\n",
    "        #print(\"epsilon_value=\", ep_value)\n",
    "        #print(\"min_sample_value=\", min_sample_value)\n",
    "        #print(itemfreq(labels_final_dbscan))"
   ]
  },
  {
   "cell_type": "code",
   "execution_count": null,
   "metadata": {},
   "outputs": [],
   "source": []
  },
  {
   "cell_type": "code",
   "execution_count": null,
   "metadata": {},
   "outputs": [],
   "source": [
    "#df['labels_dbscan'] = labels_final_dbscan"
   ]
  },
  {
   "cell_type": "code",
   "execution_count": null,
   "metadata": {},
   "outputs": [],
   "source": [
    "#pd.DataFrame(df['labels_dbscan'].value_counts())"
   ]
  },
  {
   "cell_type": "code",
   "execution_count": null,
   "metadata": {},
   "outputs": [],
   "source": [
    "from scipy.cluster.hierarchy import dendrogram, linkage, cophenet,fcluster\n",
    "from scipy.cluster import  hierarchy\n",
    "from sklearn.metrics.pairwise import cosine_distances\n",
    "\n",
    "#df_jerarquico = df_kmeans.copy()\n",
    "#D = cosine_distances(df_jerarquico, df_jerarquico)\n",
    "#Z = hierarchy.linkage(D, \"ward\")\n",
    "#threshold = 35\n",
    "#C = hierarchy.fcluster(Z, threshold, criterion=\"distance\")"
   ]
  },
  {
   "cell_type": "code",
   "execution_count": null,
   "metadata": {},
   "outputs": [],
   "source": [
    "# pd.Series(C).value_counts()"
   ]
  },
  {
   "cell_type": "code",
   "execution_count": null,
   "metadata": {},
   "outputs": [],
   "source": [
    "# df['labels'] = C"
   ]
  },
  {
   "cell_type": "code",
   "execution_count": null,
   "metadata": {},
   "outputs": [],
   "source": [
    "svd_2 = TruncatedSVD(2, random_state=0)\n",
    "df_transformed_2_dim = svd_2.fit_transform(df_kmeans)"
   ]
  },
  {
   "cell_type": "code",
   "execution_count": null,
   "metadata": {},
   "outputs": [],
   "source": [
    "print(df_transformed_2_dim)"
   ]
  },
  {
   "cell_type": "code",
   "execution_count": null,
   "metadata": {},
   "outputs": [],
   "source": [
    "print(len(df_transformed_2_dim))"
   ]
  },
  {
   "cell_type": "code",
   "execution_count": null,
   "metadata": {},
   "outputs": [],
   "source": [
    "df_transformed_2_dim_reduced = df_transformed_2_dim[400:450]"
   ]
  },
  {
   "cell_type": "code",
   "execution_count": null,
   "metadata": {},
   "outputs": [],
   "source": [
    "print(df.columns.values)"
   ]
  },
  {
   "cell_type": "code",
   "execution_count": null,
   "metadata": {},
   "outputs": [],
   "source": [
    "import matplotlib.pyplot as plt\n",
    "\n",
    "fig, ax = plt.subplots(figsize=(11,11))\n",
    "\n",
    "plt.scatter(df_transformed_2_dim_reduced[:,0], df_transformed_2_dim_reduced[:,1], c=labels_final[50:100], s = 500, alpha = 50, cmap = 'tab20')\n",
    "\n",
    "for i, txt in enumerate(df.title_original[50:100]):\n",
    "    ax.annotate(txt, (df_transformed_2_dim_reduced[i,0], df_transformed_2_dim_reduced[i,1]))"
   ]
  },
  {
   "cell_type": "code",
   "execution_count": null,
   "metadata": {},
   "outputs": [],
   "source": []
  },
  {
   "cell_type": "code",
   "execution_count": null,
   "metadata": {},
   "outputs": [],
   "source": [
    "df[df['labels']==3]"
   ]
  },
  {
   "cell_type": "code",
   "execution_count": null,
   "metadata": {},
   "outputs": [],
   "source": [
    "def add_cluster_if_not_present(dataframe, list_clusters_complete):\n",
    "    \n",
    "    list_clusters = dataframe['labels'].unique()\n",
    "    \n",
    "    for item in list_clusters_complete:\n",
    "        \n",
    "        if item not in list_clusters:\n",
    "            \n",
    "            dataframe = dataframe.append({'labels': item, 'frecuency': 0}, ignore_index=True)\n",
    "            \n",
    "    return dataframe\n",
    "    "
   ]
  },
  {
   "cell_type": "code",
   "execution_count": null,
   "metadata": {},
   "outputs": [],
   "source": [
    "# ===> Aanaliamos que % de las peliculas de cada plataforma pertenecen a cada cluster\n",
    "\n",
    "def count_clusters(dataframe, name_plataform):\n",
    "\n",
    "    df_clusters = pd.DataFrame(dataframe['labels'].value_counts())\n",
    "    \n",
    "    df_clusters = df_clusters.rename(columns={'labels': 'frecuency'})\n",
    "    \n",
    "    df_clusters['labels'] = df_clusters.index\n",
    "    \n",
    "    df_clusters = add_cluster_if_not_present(df_clusters, df['labels'].unique())\n",
    "    \n",
    "    def number_rows_parent_dataframe(dataframe):\n",
    "        return len(dataframe.index)\n",
    "\n",
    "    def cluster_porcentage(value, dataframe=dataframe):\n",
    "        return value/number_rows_parent_dataframe(dataframe)*100\n",
    "    \n",
    "    name_column = 'percentage_clusters_' + name_plataform \n",
    "    \n",
    "    df_clusters[name_column] = df_clusters['frecuency'].apply(cluster_porcentage)\n",
    "\n",
    "    return df_clusters\n"
   ]
  },
  {
   "cell_type": "code",
   "execution_count": null,
   "metadata": {},
   "outputs": [],
   "source": [
    "# ===> Agregamos las etiquetas de clusters a la plataforma HBO\n",
    "\n",
    "df_hbo = pd.merge(df_hbo, df[['id', 'labels']], on='id', how='left')"
   ]
  },
  {
   "cell_type": "code",
   "execution_count": null,
   "metadata": {},
   "outputs": [],
   "source": [
    "df_hbo.head(2)"
   ]
  },
  {
   "cell_type": "code",
   "execution_count": null,
   "metadata": {},
   "outputs": [],
   "source": [
    "clusters_hbo = count_clusters(df_hbo, 'hbo')\n",
    "count_clusters(df_hbo, 'hbo').head(2)"
   ]
  },
  {
   "cell_type": "code",
   "execution_count": null,
   "metadata": {},
   "outputs": [],
   "source": [
    "# ===> Agregamos las etiquetas de clusters a la plataforma Claro\n",
    "\n",
    "df_claro = pd.merge(df_claro, df[['id', 'labels']], on='id', how='left')"
   ]
  },
  {
   "cell_type": "code",
   "execution_count": null,
   "metadata": {},
   "outputs": [],
   "source": [
    "df_claro.head(2)"
   ]
  },
  {
   "cell_type": "code",
   "execution_count": null,
   "metadata": {},
   "outputs": [],
   "source": [
    "clusters_claro = count_clusters(df_claro, 'claro')\n",
    "count_clusters(df_claro, 'claro').head(2)"
   ]
  },
  {
   "cell_type": "code",
   "execution_count": null,
   "metadata": {},
   "outputs": [],
   "source": [
    "# ===> Agregamos las etiquetas de clusters a la plataforma Sony\n",
    "\n",
    "df_sony = pd.merge(df_sony, df[['id', 'labels']], on='id', how='left')"
   ]
  },
  {
   "cell_type": "code",
   "execution_count": null,
   "metadata": {},
   "outputs": [],
   "source": [
    "clusters_sony = count_clusters(df_sony, 'sony')\n",
    "\n",
    "count_clusters(df_sony, 'sony').head(2)"
   ]
  },
  {
   "cell_type": "code",
   "execution_count": null,
   "metadata": {},
   "outputs": [],
   "source": [
    "# ===> Agregamos las etiquetas de clusters a la plataforma Netflix\n",
    "\n",
    "df_netflix = pd.merge(df_netflix, df[['id', 'labels']], on='id', how='left')"
   ]
  },
  {
   "cell_type": "code",
   "execution_count": null,
   "metadata": {},
   "outputs": [],
   "source": [
    "clusters_netflix = count_clusters(df_netflix, 'netflix')\n",
    "\n",
    "count_clusters(df_netflix, 'netflix').head(2)"
   ]
  },
  {
   "cell_type": "code",
   "execution_count": null,
   "metadata": {},
   "outputs": [],
   "source": [
    "# ===> Agregamos las etiquetas de clusters a la plataforma Flow\n",
    "\n",
    "df_flow = pd.merge(df_flow, df[['id', 'labels']], on='id', how='left')"
   ]
  },
  {
   "cell_type": "code",
   "execution_count": null,
   "metadata": {},
   "outputs": [],
   "source": [
    "clusters_flow = count_clusters(df_flow, 'flow')\n",
    "\n",
    "count_clusters(df_flow, 'flow').head(2)"
   ]
  },
  {
   "cell_type": "code",
   "execution_count": null,
   "metadata": {},
   "outputs": [],
   "source": [
    "# ===> Agregamos las etiquetas de clusters a la plataforma Amazon\n",
    "\n",
    "df_amazon = pd.merge(df_amazon, df[['id', 'labels']], on='id', how='left')"
   ]
  },
  {
   "cell_type": "code",
   "execution_count": null,
   "metadata": {},
   "outputs": [],
   "source": [
    "clusters_amazon = count_clusters(df_amazon, 'amazon')\n",
    "\n",
    "count_clusters(df_amazon, 'amazon').head(2)"
   ]
  },
  {
   "cell_type": "code",
   "execution_count": null,
   "metadata": {},
   "outputs": [],
   "source": [
    "# ===> Agregamos las etiquetas de clusters a la plataforma On Video\n",
    "\n",
    "df_on_video = pd.merge(df_on_video, df[['id', 'labels']], on='id', how='left')"
   ]
  },
  {
   "cell_type": "code",
   "execution_count": null,
   "metadata": {},
   "outputs": [],
   "source": [
    "clusters_on_video = count_clusters(df_on_video, 'on_video')\n",
    "\n",
    "count_clusters(df_on_video, 'on_video').head(2)"
   ]
  },
  {
   "cell_type": "code",
   "execution_count": null,
   "metadata": {},
   "outputs": [],
   "source": [
    "# ===> Agregamos las etiquetas de clusters a la plataforma Fox\n",
    "\n",
    "df_fox = pd.merge(df_fox, df[['id', 'labels']], on='id', how='left')"
   ]
  },
  {
   "cell_type": "code",
   "execution_count": null,
   "metadata": {},
   "outputs": [],
   "source": [
    "clusters_fox = count_clusters(df_fox, 'fox')\n",
    "\n",
    "count_clusters(df_fox, 'fox').head(2)"
   ]
  },
  {
   "cell_type": "code",
   "execution_count": null,
   "metadata": {},
   "outputs": [],
   "source": [
    "df_clusters_final = pd.merge(clusters_hbo[['labels', 'percentage_clusters_hbo']], clusters_claro[['labels', 'percentage_clusters_claro']], on='labels', how='left')"
   ]
  },
  {
   "cell_type": "code",
   "execution_count": null,
   "metadata": {},
   "outputs": [],
   "source": [
    "df_clusters_final.head(2)"
   ]
  },
  {
   "cell_type": "code",
   "execution_count": null,
   "metadata": {},
   "outputs": [],
   "source": [
    "df_clusters_final = pd.merge(df_clusters_final, clusters_sony[['labels', 'percentage_clusters_sony']], on='labels', how='left')"
   ]
  },
  {
   "cell_type": "code",
   "execution_count": null,
   "metadata": {},
   "outputs": [],
   "source": [
    "df_clusters_final = pd.merge(df_clusters_final, clusters_netflix[['labels', 'percentage_clusters_netflix']], on='labels', how='left')"
   ]
  },
  {
   "cell_type": "code",
   "execution_count": null,
   "metadata": {},
   "outputs": [],
   "source": [
    "df_clusters_final = pd.merge(df_clusters_final, clusters_flow[['labels', 'percentage_clusters_flow']], on='labels', how='left')"
   ]
  },
  {
   "cell_type": "code",
   "execution_count": null,
   "metadata": {},
   "outputs": [],
   "source": [
    "df_clusters_final = pd.merge(df_clusters_final, clusters_amazon[['labels', 'percentage_clusters_amazon']], on='labels', how='left')"
   ]
  },
  {
   "cell_type": "code",
   "execution_count": null,
   "metadata": {},
   "outputs": [],
   "source": [
    "df_clusters_final = pd.merge(df_clusters_final, clusters_on_video[['labels', 'percentage_clusters_on_video']], on='labels', how='left')"
   ]
  },
  {
   "cell_type": "code",
   "execution_count": null,
   "metadata": {},
   "outputs": [],
   "source": [
    "df_clusters_final = pd.merge(df_clusters_final, clusters_fox[['labels', 'percentage_clusters_fox']], on='labels', how='left')"
   ]
  },
  {
   "cell_type": "code",
   "execution_count": null,
   "metadata": {},
   "outputs": [],
   "source": [
    "df_clusters_final.head(2)"
   ]
  },
  {
   "cell_type": "code",
   "execution_count": null,
   "metadata": {},
   "outputs": [],
   "source": [
    "print(df_clusters_final['labels'].values)"
   ]
  },
  {
   "cell_type": "code",
   "execution_count": null,
   "metadata": {},
   "outputs": [],
   "source": [
    "df_clusters_final_transpose = df_clusters_final[['percentage_clusters_hbo',\t'percentage_clusters_claro',\t'percentage_clusters_sony',\t'percentage_clusters_netflix'\t,'percentage_clusters_flow',\t'percentage_clusters_amazon',\t'percentage_clusters_on_video',\t'percentage_clusters_fox']].transpose()"
   ]
  },
  {
   "cell_type": "code",
   "execution_count": null,
   "metadata": {},
   "outputs": [],
   "source": [
    "df_clusters_final_transpose.columns = df_clusters_final['labels'].values"
   ]
  },
  {
   "cell_type": "code",
   "execution_count": null,
   "metadata": {},
   "outputs": [],
   "source": [
    "df_clusters_final_transpose.head(2)"
   ]
  },
  {
   "cell_type": "code",
   "execution_count": null,
   "metadata": {},
   "outputs": [],
   "source": [
    "df_numpy_array_platforms = df_clusters_final_transpose.values"
   ]
  },
  {
   "cell_type": "code",
   "execution_count": null,
   "metadata": {},
   "outputs": [],
   "source": [
    "print(df_numpy_array_platforms)"
   ]
  },
  {
   "cell_type": "code",
   "execution_count": null,
   "metadata": {},
   "outputs": [],
   "source": [
    "# ===> Graficamos las 8 plataformas en un espacio de dos dimensiones\n",
    "\n",
    "from sklearn.manifold import TSNE\n",
    "\n",
    "tsne = TSNE(n_components=2, perplexity=10, metric = 'cosine', random_state=0)\n",
    "#tsne = TSNE(perplexity = 10, metric='precomputed', random_state = 12)\n",
    "\n",
    "result = tsne.fit_transform(df_numpy_array_platforms)\n"
   ]
  },
  {
   "cell_type": "code",
   "execution_count": null,
   "metadata": {},
   "outputs": [],
   "source": [
    "platforms = ['HBO', 'Claro', 'Sony', 'Netflix', 'Flow', 'Amazon', 'On Video', 'Fox']"
   ]
  },
  {
   "cell_type": "code",
   "execution_count": null,
   "metadata": {},
   "outputs": [],
   "source": [
    "import matplotlib.pyplot as plt\n",
    "\n",
    "# ===> La forma que se genera parece demasiado simetrica. Es raro, no?\n",
    "\n",
    "fig, ax = plt.subplots(figsize=(10,10))\n",
    "\n",
    "plt.scatter(result[:,0], result[:,1])\n",
    "\n",
    "for i, txt in enumerate(platforms):\n",
    "    ax.annotate(txt, (result[i,0], result[i,1]))"
   ]
  },
  {
   "cell_type": "code",
   "execution_count": null,
   "metadata": {},
   "outputs": [],
   "source": [
    "from sklearn.decomposition import TruncatedSVD\n",
    "svd = TruncatedSVD(2, random_state=0)\n",
    "clusters_transformed = svd.fit_transform(df_numpy_array_platforms)"
   ]
  },
  {
   "cell_type": "code",
   "execution_count": null,
   "metadata": {},
   "outputs": [],
   "source": [
    "print(clusters_transformed)"
   ]
  },
  {
   "cell_type": "code",
   "execution_count": null,
   "metadata": {},
   "outputs": [],
   "source": [
    "fig, ax = plt.subplots(figsize=(10,10))\n",
    "\n",
    "plt.scatter(clusters_transformed[:,0], clusters_transformed[:,1], s=100)\n",
    "\n",
    "for i, txt in enumerate(platforms):\n",
    "    ax.annotate(txt, (clusters_transformed[i,0], clusters_transformed[i,1]))"
   ]
  },
  {
   "cell_type": "code",
   "execution_count": null,
   "metadata": {},
   "outputs": [],
   "source": [
    "df_clusters_final_transpose"
   ]
  },
  {
   "cell_type": "code",
   "execution_count": null,
   "metadata": {},
   "outputs": [],
   "source": [
    "df_clusters_final.head(2)"
   ]
  },
  {
   "cell_type": "code",
   "execution_count": null,
   "metadata": {},
   "outputs": [],
   "source": [
    "df_clusters_final_comparison = df_clusters_final.copy()"
   ]
  },
  {
   "cell_type": "code",
   "execution_count": null,
   "metadata": {},
   "outputs": [],
   "source": [
    "df_clusters_final_comparison['claro_on_video'] =  (df_clusters_final_comparison['percentage_clusters_on_video'] - df_clusters_final_comparison['percentage_clusters_claro'])/df_clusters_final_comparison['percentage_clusters_claro']*100"
   ]
  },
  {
   "cell_type": "code",
   "execution_count": null,
   "metadata": {},
   "outputs": [],
   "source": [
    "df_clusters_final_comparison['claro_on_video'] "
   ]
  },
  {
   "cell_type": "code",
   "execution_count": null,
   "metadata": {
    "scrolled": true
   },
   "outputs": [],
   "source": [
    "import seaborn as sns\n",
    "\n",
    "df_clusters_final_comparison.sort_values(by='claro_on_video', ascending=False).plot(\"labels\", \"claro_on_video\", kind=\"barh\", color=sns.color_palette(\"deep\", 1), figsize=(9,9))"
   ]
  },
  {
   "cell_type": "code",
   "execution_count": null,
   "metadata": {},
   "outputs": [],
   "source": [
    "df_clusters_final_comparison['claro_netflix'] = (df_clusters_final_comparison['percentage_clusters_netflix'] - df_clusters_final_comparison['percentage_clusters_claro'])/df_clusters_final_comparison['percentage_clusters_claro']*100"
   ]
  },
  {
   "cell_type": "code",
   "execution_count": null,
   "metadata": {},
   "outputs": [],
   "source": [
    "# ===> Ahora bien, Claro y Flow parece que son muy parecidas, pero puede eso deberse a que tienen mas o menos las mismas peliculas?\n",
    "# ===> Primero analicemos cuantas peliculas tiene cada plataforma\n",
    "\n",
    "print(len(df_on_video.index))\n",
    "print(len(df_claro.index))"
   ]
  },
  {
   "cell_type": "code",
   "execution_count": null,
   "metadata": {},
   "outputs": [],
   "source": [
    "df_similitud_claro_flow = pd.merge(df_claro, df_on_video, on='id', how='inner')"
   ]
  },
  {
   "cell_type": "code",
   "execution_count": null,
   "metadata": {},
   "outputs": [],
   "source": [
    "print(len(df_similitud_claro_flow))"
   ]
  },
  {
   "cell_type": "code",
   "execution_count": null,
   "metadata": {},
   "outputs": [],
   "source": [
    "# ===> Se observa que para 5 clusters Claro tiene peliculas, mientras Netflix no.\n",
    "# ===> A su vez, para los clsuters 13 y 4 Netflix tiene varias veces mas contenido que Claro\n",
    "# ===> Otra forma de ver esto es que el peso de cierto tipo de contenido en la oferta de contenidos de Netflix\n",
    "# ===> es mucho mas importante que en Claro\n",
    "\n",
    "df_clusters_final_comparison.sort_values(by='claro_netflix', ascending=False).plot(\"labels\", \"claro_netflix\", kind=\"barh\", color=sns.color_palette(\"deep\", 1),figsize=(8,8))"
   ]
  },
  {
   "cell_type": "code",
   "execution_count": null,
   "metadata": {},
   "outputs": [],
   "source": [
    "# ===> Funciones que nos van a permitir realizar words clouds a partir de agregar palabras de un atributo especifico\n",
    "# ===> (genero, actores, etc) de las peliculas de un cluster\n",
    "\n",
    "import matplotlib.pyplot as plt\n",
    "from wordcloud import WordCloud\n",
    "from collections import Counter\n",
    "\n",
    "def remove_one_from_word(dict):\n",
    "    \n",
    "    new_dict = dict.copy()\n",
    "    \n",
    "    for key, value in new_dict.items():\n",
    "        \n",
    "        new_dict[key] = new_dict[key] - 1\n",
    "    \n",
    "    return new_dict\n",
    "\n",
    "def remove_single_items(dictionary): \n",
    "    \n",
    "    main_dict = remove_one_from_word(dictionary)\n",
    "    \n",
    "    new_dict = {}\n",
    "    \n",
    "    for key, value in main_dict.items(): \n",
    "\n",
    "        if main_dict[key] > 0:\n",
    "            new_dict[key] = main_dict[key]\n",
    "\n",
    "    return new_dict\n",
    "        \n",
    "def word_cloud_words_cluster(dataframe, label, attribute):\n",
    "    \n",
    "    array_words = []\n",
    "    \n",
    "    dataframe_filter = dataframe[dataframe['labels']==label]\n",
    "    \n",
    "    for item in dataframe_filter[attribute]:\n",
    "        \n",
    "        array_words = array_words + item\n",
    "    \n",
    "    word_counter = Counter(array_words)\n",
    "    \n",
    "    words_not_unique = remove_single_items(word_counter)\n",
    "    \n",
    "    wordcloud = WordCloud( background_color='white').generate_from_frequencies(words_not_unique)\n",
    "\n",
    "    # Display the generated image:\n",
    "    plt.imshow(wordcloud, interpolation='bilinear')\n",
    "    plt.axis(\"off\")\n",
    "    plt.show()"
   ]
  }
 ],
 "metadata": {
  "kernelspec": {
   "display_name": "Python 3",
   "language": "python",
   "name": "python3"
  },
  "language_info": {
   "codemirror_mode": {
    "name": "ipython",
    "version": 3
   },
   "file_extension": ".py",
   "mimetype": "text/x-python",
   "name": "python",
   "nbconvert_exporter": "python",
   "pygments_lexer": "ipython3",
   "version": "3.7.0"
  }
 },
 "nbformat": 4,
 "nbformat_minor": 2
}
